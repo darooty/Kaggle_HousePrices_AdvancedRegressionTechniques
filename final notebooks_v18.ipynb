{
 "cells": [
  {
   "cell_type": "markdown",
   "metadata": {},
   "source": [
    "<h1 style='text-align: center;'>HousePrices Regression</h1><br>\n",
    "<p>Hello!<br><br>This is my first notebook. After studying some notebooks of this competition, I summarized the overall basic process of regression analysis. This kernel introduces the following.</p>\n",
    "<ol>\n",
    "    <li><b>Data EDA</b><br>\n",
    "The process of searching for data is the most important step in analysis.<br>\n",
    "I will introduce how to define the type of each variable and how to identify and visualize the form.</li>\n",
    "    <li><b>Preprocessing</b><br>\n",
    "This part is the step of preprocessing each variable based on the EDA results.<br>\n",
    "I will introduce preprocessing tasks such as outlier processing, missing value processing, derivative variable generation, and variable conversion.</li>\n",
    "    <li><b>Optimization (GridSearch, Optuna)</b><br>\n",
    "The more complex the model is, the more complex the hyperparameter setting is required.<br>\n",
    "Hyperparameter combinations can have a significant impact on the performance of the model.<br>\n",
    "I will introduce how to optimize the hyperparameters of the model using GridSearchCV and Optuna.</li>\n",
    "    <li><b>Modeling</b><br>\n",
    "This part is the step of creating and learning basic models that can be used for regression analysis.<br>\n",
    "I will use linear regression models such as Lasso and Ridge, SVM, and some tree-based algorithms. And I will use Stacking to maximize generalization performance.</li>\n",
    "</ol>"
   ]
  },
  {
   "cell_type": "markdown",
   "metadata": {
    "execution": {
     "iopub.execute_input": "2021-10-22T01:14:06.102324Z",
     "iopub.status.busy": "2021-10-22T01:14:06.101648Z",
     "iopub.status.idle": "2021-10-22T01:14:06.129369Z",
     "shell.execute_reply": "2021-10-22T01:14:06.128507Z",
     "shell.execute_reply.started": "2021-10-22T01:14:06.102209Z"
    }
   },
   "source": [
    "<h2 style=\"text-align:center;\">Module import</h2>"
   ]
  },
  {
   "cell_type": "code",
   "execution_count": 1,
   "metadata": {
    "execution": {
     "iopub.execute_input": "2021-10-23T18:02:20.826529Z",
     "iopub.status.busy": "2021-10-23T18:02:20.826048Z",
     "iopub.status.idle": "2021-10-23T18:02:20.83897Z",
     "shell.execute_reply": "2021-10-23T18:02:20.837995Z",
     "shell.execute_reply.started": "2021-10-23T18:02:20.82648Z"
    }
   },
   "outputs": [],
   "source": [
    "import numpy as np\n",
    "import pandas as pd\n",
    "pd.set_option('max_columns', 5000)\n",
    "import matplotlib.pyplot as plt\n",
    "import seaborn as sns\n",
    "sns.set_style('darkgrid')\n",
    "from scipy.stats import norm, skew, probplot\n",
    "from scipy.special import boxcox1p\n",
    "import warnings\n",
    "warnings.filterwarnings(action='ignore')\n",
    "\n",
    "from sklearn.preprocessing import StandardScaler, RobustScaler, PolynomialFeatures, OneHotEncoder, LabelEncoder\n",
    "from sklearn.model_selection import train_test_split, KFold, GridSearchCV, cross_val_score\n",
    "from sklearn.feature_selection import SelectKBest, f_classif, chi2\n",
    "from sklearn.pipeline import Pipeline\n",
    "from sklearn.metrics import mean_squared_error as mse\n",
    "from sklearn.linear_model import Lasso, Ridge, ElasticNet\n",
    "from sklearn.kernel_ridge import KernelRidge as krr\n",
    "from sklearn.svm import SVR\n",
    "from sklearn.ensemble import RandomForestRegressor as rfr, GradientBoostingRegressor as gbr\n",
    "from xgboost import XGBRegressor\n",
    "from lightgbm import LGBMRegressor\n",
    "from mlxtend.regressor import StackingCVRegressor\n",
    "from sklearn.cluster import DBSCAN\n",
    "\n",
    "import optuna\n",
    "from functools import partial"
   ]
  },
  {
   "cell_type": "markdown",
   "metadata": {},
   "source": [
    "<h2 style=\"text-align:center;\">Load Data</h2>"
   ]
  },
  {
   "cell_type": "code",
   "execution_count": 2,
   "metadata": {
    "execution": {
     "iopub.execute_input": "2021-10-23T18:02:20.840867Z",
     "iopub.status.busy": "2021-10-23T18:02:20.840525Z",
     "iopub.status.idle": "2021-10-23T18:02:20.895929Z",
     "shell.execute_reply": "2021-10-23T18:02:20.895007Z",
     "shell.execute_reply.started": "2021-10-23T18:02:20.840825Z"
    }
   },
   "outputs": [],
   "source": [
    "train = pd.read_csv('train.csv')\n",
    "test = pd.read_csv('test.csv')"
   ]
  },
  {
   "cell_type": "code",
   "execution_count": 3,
   "metadata": {
    "execution": {
     "iopub.execute_input": "2021-10-23T18:02:20.897696Z",
     "iopub.status.busy": "2021-10-23T18:02:20.897373Z",
     "iopub.status.idle": "2021-10-23T18:02:20.960469Z",
     "shell.execute_reply": "2021-10-23T18:02:20.959406Z",
     "shell.execute_reply.started": "2021-10-23T18:02:20.897658Z"
    }
   },
   "outputs": [
    {
     "data": {
      "text/html": [
       "<div>\n",
       "<style scoped>\n",
       "    .dataframe tbody tr th:only-of-type {\n",
       "        vertical-align: middle;\n",
       "    }\n",
       "\n",
       "    .dataframe tbody tr th {\n",
       "        vertical-align: top;\n",
       "    }\n",
       "\n",
       "    .dataframe thead th {\n",
       "        text-align: right;\n",
       "    }\n",
       "</style>\n",
       "<table border=\"1\" class=\"dataframe\">\n",
       "  <thead>\n",
       "    <tr style=\"text-align: right;\">\n",
       "      <th></th>\n",
       "      <th>Id</th>\n",
       "      <th>MSSubClass</th>\n",
       "      <th>MSZoning</th>\n",
       "      <th>LotFrontage</th>\n",
       "      <th>LotArea</th>\n",
       "      <th>Street</th>\n",
       "      <th>Alley</th>\n",
       "      <th>LotShape</th>\n",
       "      <th>LandContour</th>\n",
       "      <th>Utilities</th>\n",
       "      <th>LotConfig</th>\n",
       "      <th>LandSlope</th>\n",
       "      <th>Neighborhood</th>\n",
       "      <th>Condition1</th>\n",
       "      <th>Condition2</th>\n",
       "      <th>BldgType</th>\n",
       "      <th>HouseStyle</th>\n",
       "      <th>OverallQual</th>\n",
       "      <th>OverallCond</th>\n",
       "      <th>YearBuilt</th>\n",
       "      <th>YearRemodAdd</th>\n",
       "      <th>RoofStyle</th>\n",
       "      <th>RoofMatl</th>\n",
       "      <th>Exterior1st</th>\n",
       "      <th>Exterior2nd</th>\n",
       "      <th>MasVnrType</th>\n",
       "      <th>MasVnrArea</th>\n",
       "      <th>ExterQual</th>\n",
       "      <th>ExterCond</th>\n",
       "      <th>Foundation</th>\n",
       "      <th>BsmtQual</th>\n",
       "      <th>BsmtCond</th>\n",
       "      <th>BsmtExposure</th>\n",
       "      <th>BsmtFinType1</th>\n",
       "      <th>BsmtFinSF1</th>\n",
       "      <th>BsmtFinType2</th>\n",
       "      <th>BsmtFinSF2</th>\n",
       "      <th>BsmtUnfSF</th>\n",
       "      <th>TotalBsmtSF</th>\n",
       "      <th>Heating</th>\n",
       "      <th>HeatingQC</th>\n",
       "      <th>CentralAir</th>\n",
       "      <th>Electrical</th>\n",
       "      <th>1stFlrSF</th>\n",
       "      <th>2ndFlrSF</th>\n",
       "      <th>LowQualFinSF</th>\n",
       "      <th>GrLivArea</th>\n",
       "      <th>BsmtFullBath</th>\n",
       "      <th>BsmtHalfBath</th>\n",
       "      <th>FullBath</th>\n",
       "      <th>HalfBath</th>\n",
       "      <th>BedroomAbvGr</th>\n",
       "      <th>KitchenAbvGr</th>\n",
       "      <th>KitchenQual</th>\n",
       "      <th>TotRmsAbvGrd</th>\n",
       "      <th>Functional</th>\n",
       "      <th>Fireplaces</th>\n",
       "      <th>FireplaceQu</th>\n",
       "      <th>GarageType</th>\n",
       "      <th>GarageYrBlt</th>\n",
       "      <th>GarageFinish</th>\n",
       "      <th>GarageCars</th>\n",
       "      <th>GarageArea</th>\n",
       "      <th>GarageQual</th>\n",
       "      <th>GarageCond</th>\n",
       "      <th>PavedDrive</th>\n",
       "      <th>WoodDeckSF</th>\n",
       "      <th>OpenPorchSF</th>\n",
       "      <th>EnclosedPorch</th>\n",
       "      <th>3SsnPorch</th>\n",
       "      <th>ScreenPorch</th>\n",
       "      <th>PoolArea</th>\n",
       "      <th>PoolQC</th>\n",
       "      <th>Fence</th>\n",
       "      <th>MiscFeature</th>\n",
       "      <th>MiscVal</th>\n",
       "      <th>MoSold</th>\n",
       "      <th>YrSold</th>\n",
       "      <th>SaleType</th>\n",
       "      <th>SaleCondition</th>\n",
       "      <th>SalePrice</th>\n",
       "    </tr>\n",
       "  </thead>\n",
       "  <tbody>\n",
       "    <tr>\n",
       "      <th>0</th>\n",
       "      <td>1</td>\n",
       "      <td>60</td>\n",
       "      <td>RL</td>\n",
       "      <td>65.0</td>\n",
       "      <td>8450</td>\n",
       "      <td>Pave</td>\n",
       "      <td>NaN</td>\n",
       "      <td>Reg</td>\n",
       "      <td>Lvl</td>\n",
       "      <td>AllPub</td>\n",
       "      <td>Inside</td>\n",
       "      <td>Gtl</td>\n",
       "      <td>CollgCr</td>\n",
       "      <td>Norm</td>\n",
       "      <td>Norm</td>\n",
       "      <td>1Fam</td>\n",
       "      <td>2Story</td>\n",
       "      <td>7</td>\n",
       "      <td>5</td>\n",
       "      <td>2003</td>\n",
       "      <td>2003</td>\n",
       "      <td>Gable</td>\n",
       "      <td>CompShg</td>\n",
       "      <td>VinylSd</td>\n",
       "      <td>VinylSd</td>\n",
       "      <td>BrkFace</td>\n",
       "      <td>196.0</td>\n",
       "      <td>Gd</td>\n",
       "      <td>TA</td>\n",
       "      <td>PConc</td>\n",
       "      <td>Gd</td>\n",
       "      <td>TA</td>\n",
       "      <td>No</td>\n",
       "      <td>GLQ</td>\n",
       "      <td>706</td>\n",
       "      <td>Unf</td>\n",
       "      <td>0</td>\n",
       "      <td>150</td>\n",
       "      <td>856</td>\n",
       "      <td>GasA</td>\n",
       "      <td>Ex</td>\n",
       "      <td>Y</td>\n",
       "      <td>SBrkr</td>\n",
       "      <td>856</td>\n",
       "      <td>854</td>\n",
       "      <td>0</td>\n",
       "      <td>1710</td>\n",
       "      <td>1</td>\n",
       "      <td>0</td>\n",
       "      <td>2</td>\n",
       "      <td>1</td>\n",
       "      <td>3</td>\n",
       "      <td>1</td>\n",
       "      <td>Gd</td>\n",
       "      <td>8</td>\n",
       "      <td>Typ</td>\n",
       "      <td>0</td>\n",
       "      <td>NaN</td>\n",
       "      <td>Attchd</td>\n",
       "      <td>2003.0</td>\n",
       "      <td>RFn</td>\n",
       "      <td>2</td>\n",
       "      <td>548</td>\n",
       "      <td>TA</td>\n",
       "      <td>TA</td>\n",
       "      <td>Y</td>\n",
       "      <td>0</td>\n",
       "      <td>61</td>\n",
       "      <td>0</td>\n",
       "      <td>0</td>\n",
       "      <td>0</td>\n",
       "      <td>0</td>\n",
       "      <td>NaN</td>\n",
       "      <td>NaN</td>\n",
       "      <td>NaN</td>\n",
       "      <td>0</td>\n",
       "      <td>2</td>\n",
       "      <td>2008</td>\n",
       "      <td>WD</td>\n",
       "      <td>Normal</td>\n",
       "      <td>208500</td>\n",
       "    </tr>\n",
       "    <tr>\n",
       "      <th>1</th>\n",
       "      <td>2</td>\n",
       "      <td>20</td>\n",
       "      <td>RL</td>\n",
       "      <td>80.0</td>\n",
       "      <td>9600</td>\n",
       "      <td>Pave</td>\n",
       "      <td>NaN</td>\n",
       "      <td>Reg</td>\n",
       "      <td>Lvl</td>\n",
       "      <td>AllPub</td>\n",
       "      <td>FR2</td>\n",
       "      <td>Gtl</td>\n",
       "      <td>Veenker</td>\n",
       "      <td>Feedr</td>\n",
       "      <td>Norm</td>\n",
       "      <td>1Fam</td>\n",
       "      <td>1Story</td>\n",
       "      <td>6</td>\n",
       "      <td>8</td>\n",
       "      <td>1976</td>\n",
       "      <td>1976</td>\n",
       "      <td>Gable</td>\n",
       "      <td>CompShg</td>\n",
       "      <td>MetalSd</td>\n",
       "      <td>MetalSd</td>\n",
       "      <td>None</td>\n",
       "      <td>0.0</td>\n",
       "      <td>TA</td>\n",
       "      <td>TA</td>\n",
       "      <td>CBlock</td>\n",
       "      <td>Gd</td>\n",
       "      <td>TA</td>\n",
       "      <td>Gd</td>\n",
       "      <td>ALQ</td>\n",
       "      <td>978</td>\n",
       "      <td>Unf</td>\n",
       "      <td>0</td>\n",
       "      <td>284</td>\n",
       "      <td>1262</td>\n",
       "      <td>GasA</td>\n",
       "      <td>Ex</td>\n",
       "      <td>Y</td>\n",
       "      <td>SBrkr</td>\n",
       "      <td>1262</td>\n",
       "      <td>0</td>\n",
       "      <td>0</td>\n",
       "      <td>1262</td>\n",
       "      <td>0</td>\n",
       "      <td>1</td>\n",
       "      <td>2</td>\n",
       "      <td>0</td>\n",
       "      <td>3</td>\n",
       "      <td>1</td>\n",
       "      <td>TA</td>\n",
       "      <td>6</td>\n",
       "      <td>Typ</td>\n",
       "      <td>1</td>\n",
       "      <td>TA</td>\n",
       "      <td>Attchd</td>\n",
       "      <td>1976.0</td>\n",
       "      <td>RFn</td>\n",
       "      <td>2</td>\n",
       "      <td>460</td>\n",
       "      <td>TA</td>\n",
       "      <td>TA</td>\n",
       "      <td>Y</td>\n",
       "      <td>298</td>\n",
       "      <td>0</td>\n",
       "      <td>0</td>\n",
       "      <td>0</td>\n",
       "      <td>0</td>\n",
       "      <td>0</td>\n",
       "      <td>NaN</td>\n",
       "      <td>NaN</td>\n",
       "      <td>NaN</td>\n",
       "      <td>0</td>\n",
       "      <td>5</td>\n",
       "      <td>2007</td>\n",
       "      <td>WD</td>\n",
       "      <td>Normal</td>\n",
       "      <td>181500</td>\n",
       "    </tr>\n",
       "    <tr>\n",
       "      <th>2</th>\n",
       "      <td>3</td>\n",
       "      <td>60</td>\n",
       "      <td>RL</td>\n",
       "      <td>68.0</td>\n",
       "      <td>11250</td>\n",
       "      <td>Pave</td>\n",
       "      <td>NaN</td>\n",
       "      <td>IR1</td>\n",
       "      <td>Lvl</td>\n",
       "      <td>AllPub</td>\n",
       "      <td>Inside</td>\n",
       "      <td>Gtl</td>\n",
       "      <td>CollgCr</td>\n",
       "      <td>Norm</td>\n",
       "      <td>Norm</td>\n",
       "      <td>1Fam</td>\n",
       "      <td>2Story</td>\n",
       "      <td>7</td>\n",
       "      <td>5</td>\n",
       "      <td>2001</td>\n",
       "      <td>2002</td>\n",
       "      <td>Gable</td>\n",
       "      <td>CompShg</td>\n",
       "      <td>VinylSd</td>\n",
       "      <td>VinylSd</td>\n",
       "      <td>BrkFace</td>\n",
       "      <td>162.0</td>\n",
       "      <td>Gd</td>\n",
       "      <td>TA</td>\n",
       "      <td>PConc</td>\n",
       "      <td>Gd</td>\n",
       "      <td>TA</td>\n",
       "      <td>Mn</td>\n",
       "      <td>GLQ</td>\n",
       "      <td>486</td>\n",
       "      <td>Unf</td>\n",
       "      <td>0</td>\n",
       "      <td>434</td>\n",
       "      <td>920</td>\n",
       "      <td>GasA</td>\n",
       "      <td>Ex</td>\n",
       "      <td>Y</td>\n",
       "      <td>SBrkr</td>\n",
       "      <td>920</td>\n",
       "      <td>866</td>\n",
       "      <td>0</td>\n",
       "      <td>1786</td>\n",
       "      <td>1</td>\n",
       "      <td>0</td>\n",
       "      <td>2</td>\n",
       "      <td>1</td>\n",
       "      <td>3</td>\n",
       "      <td>1</td>\n",
       "      <td>Gd</td>\n",
       "      <td>6</td>\n",
       "      <td>Typ</td>\n",
       "      <td>1</td>\n",
       "      <td>TA</td>\n",
       "      <td>Attchd</td>\n",
       "      <td>2001.0</td>\n",
       "      <td>RFn</td>\n",
       "      <td>2</td>\n",
       "      <td>608</td>\n",
       "      <td>TA</td>\n",
       "      <td>TA</td>\n",
       "      <td>Y</td>\n",
       "      <td>0</td>\n",
       "      <td>42</td>\n",
       "      <td>0</td>\n",
       "      <td>0</td>\n",
       "      <td>0</td>\n",
       "      <td>0</td>\n",
       "      <td>NaN</td>\n",
       "      <td>NaN</td>\n",
       "      <td>NaN</td>\n",
       "      <td>0</td>\n",
       "      <td>9</td>\n",
       "      <td>2008</td>\n",
       "      <td>WD</td>\n",
       "      <td>Normal</td>\n",
       "      <td>223500</td>\n",
       "    </tr>\n",
       "    <tr>\n",
       "      <th>3</th>\n",
       "      <td>4</td>\n",
       "      <td>70</td>\n",
       "      <td>RL</td>\n",
       "      <td>60.0</td>\n",
       "      <td>9550</td>\n",
       "      <td>Pave</td>\n",
       "      <td>NaN</td>\n",
       "      <td>IR1</td>\n",
       "      <td>Lvl</td>\n",
       "      <td>AllPub</td>\n",
       "      <td>Corner</td>\n",
       "      <td>Gtl</td>\n",
       "      <td>Crawfor</td>\n",
       "      <td>Norm</td>\n",
       "      <td>Norm</td>\n",
       "      <td>1Fam</td>\n",
       "      <td>2Story</td>\n",
       "      <td>7</td>\n",
       "      <td>5</td>\n",
       "      <td>1915</td>\n",
       "      <td>1970</td>\n",
       "      <td>Gable</td>\n",
       "      <td>CompShg</td>\n",
       "      <td>Wd Sdng</td>\n",
       "      <td>Wd Shng</td>\n",
       "      <td>None</td>\n",
       "      <td>0.0</td>\n",
       "      <td>TA</td>\n",
       "      <td>TA</td>\n",
       "      <td>BrkTil</td>\n",
       "      <td>TA</td>\n",
       "      <td>Gd</td>\n",
       "      <td>No</td>\n",
       "      <td>ALQ</td>\n",
       "      <td>216</td>\n",
       "      <td>Unf</td>\n",
       "      <td>0</td>\n",
       "      <td>540</td>\n",
       "      <td>756</td>\n",
       "      <td>GasA</td>\n",
       "      <td>Gd</td>\n",
       "      <td>Y</td>\n",
       "      <td>SBrkr</td>\n",
       "      <td>961</td>\n",
       "      <td>756</td>\n",
       "      <td>0</td>\n",
       "      <td>1717</td>\n",
       "      <td>1</td>\n",
       "      <td>0</td>\n",
       "      <td>1</td>\n",
       "      <td>0</td>\n",
       "      <td>3</td>\n",
       "      <td>1</td>\n",
       "      <td>Gd</td>\n",
       "      <td>7</td>\n",
       "      <td>Typ</td>\n",
       "      <td>1</td>\n",
       "      <td>Gd</td>\n",
       "      <td>Detchd</td>\n",
       "      <td>1998.0</td>\n",
       "      <td>Unf</td>\n",
       "      <td>3</td>\n",
       "      <td>642</td>\n",
       "      <td>TA</td>\n",
       "      <td>TA</td>\n",
       "      <td>Y</td>\n",
       "      <td>0</td>\n",
       "      <td>35</td>\n",
       "      <td>272</td>\n",
       "      <td>0</td>\n",
       "      <td>0</td>\n",
       "      <td>0</td>\n",
       "      <td>NaN</td>\n",
       "      <td>NaN</td>\n",
       "      <td>NaN</td>\n",
       "      <td>0</td>\n",
       "      <td>2</td>\n",
       "      <td>2006</td>\n",
       "      <td>WD</td>\n",
       "      <td>Abnorml</td>\n",
       "      <td>140000</td>\n",
       "    </tr>\n",
       "    <tr>\n",
       "      <th>4</th>\n",
       "      <td>5</td>\n",
       "      <td>60</td>\n",
       "      <td>RL</td>\n",
       "      <td>84.0</td>\n",
       "      <td>14260</td>\n",
       "      <td>Pave</td>\n",
       "      <td>NaN</td>\n",
       "      <td>IR1</td>\n",
       "      <td>Lvl</td>\n",
       "      <td>AllPub</td>\n",
       "      <td>FR2</td>\n",
       "      <td>Gtl</td>\n",
       "      <td>NoRidge</td>\n",
       "      <td>Norm</td>\n",
       "      <td>Norm</td>\n",
       "      <td>1Fam</td>\n",
       "      <td>2Story</td>\n",
       "      <td>8</td>\n",
       "      <td>5</td>\n",
       "      <td>2000</td>\n",
       "      <td>2000</td>\n",
       "      <td>Gable</td>\n",
       "      <td>CompShg</td>\n",
       "      <td>VinylSd</td>\n",
       "      <td>VinylSd</td>\n",
       "      <td>BrkFace</td>\n",
       "      <td>350.0</td>\n",
       "      <td>Gd</td>\n",
       "      <td>TA</td>\n",
       "      <td>PConc</td>\n",
       "      <td>Gd</td>\n",
       "      <td>TA</td>\n",
       "      <td>Av</td>\n",
       "      <td>GLQ</td>\n",
       "      <td>655</td>\n",
       "      <td>Unf</td>\n",
       "      <td>0</td>\n",
       "      <td>490</td>\n",
       "      <td>1145</td>\n",
       "      <td>GasA</td>\n",
       "      <td>Ex</td>\n",
       "      <td>Y</td>\n",
       "      <td>SBrkr</td>\n",
       "      <td>1145</td>\n",
       "      <td>1053</td>\n",
       "      <td>0</td>\n",
       "      <td>2198</td>\n",
       "      <td>1</td>\n",
       "      <td>0</td>\n",
       "      <td>2</td>\n",
       "      <td>1</td>\n",
       "      <td>4</td>\n",
       "      <td>1</td>\n",
       "      <td>Gd</td>\n",
       "      <td>9</td>\n",
       "      <td>Typ</td>\n",
       "      <td>1</td>\n",
       "      <td>TA</td>\n",
       "      <td>Attchd</td>\n",
       "      <td>2000.0</td>\n",
       "      <td>RFn</td>\n",
       "      <td>3</td>\n",
       "      <td>836</td>\n",
       "      <td>TA</td>\n",
       "      <td>TA</td>\n",
       "      <td>Y</td>\n",
       "      <td>192</td>\n",
       "      <td>84</td>\n",
       "      <td>0</td>\n",
       "      <td>0</td>\n",
       "      <td>0</td>\n",
       "      <td>0</td>\n",
       "      <td>NaN</td>\n",
       "      <td>NaN</td>\n",
       "      <td>NaN</td>\n",
       "      <td>0</td>\n",
       "      <td>12</td>\n",
       "      <td>2008</td>\n",
       "      <td>WD</td>\n",
       "      <td>Normal</td>\n",
       "      <td>250000</td>\n",
       "    </tr>\n",
       "  </tbody>\n",
       "</table>\n",
       "</div>"
      ],
      "text/plain": [
       "   Id  MSSubClass MSZoning  LotFrontage  LotArea Street Alley LotShape  \\\n",
       "0   1          60       RL         65.0     8450   Pave   NaN      Reg   \n",
       "1   2          20       RL         80.0     9600   Pave   NaN      Reg   \n",
       "2   3          60       RL         68.0    11250   Pave   NaN      IR1   \n",
       "3   4          70       RL         60.0     9550   Pave   NaN      IR1   \n",
       "4   5          60       RL         84.0    14260   Pave   NaN      IR1   \n",
       "\n",
       "  LandContour Utilities LotConfig LandSlope Neighborhood Condition1  \\\n",
       "0         Lvl    AllPub    Inside       Gtl      CollgCr       Norm   \n",
       "1         Lvl    AllPub       FR2       Gtl      Veenker      Feedr   \n",
       "2         Lvl    AllPub    Inside       Gtl      CollgCr       Norm   \n",
       "3         Lvl    AllPub    Corner       Gtl      Crawfor       Norm   \n",
       "4         Lvl    AllPub       FR2       Gtl      NoRidge       Norm   \n",
       "\n",
       "  Condition2 BldgType HouseStyle  OverallQual  OverallCond  YearBuilt  \\\n",
       "0       Norm     1Fam     2Story            7            5       2003   \n",
       "1       Norm     1Fam     1Story            6            8       1976   \n",
       "2       Norm     1Fam     2Story            7            5       2001   \n",
       "3       Norm     1Fam     2Story            7            5       1915   \n",
       "4       Norm     1Fam     2Story            8            5       2000   \n",
       "\n",
       "   YearRemodAdd RoofStyle RoofMatl Exterior1st Exterior2nd MasVnrType  \\\n",
       "0          2003     Gable  CompShg     VinylSd     VinylSd    BrkFace   \n",
       "1          1976     Gable  CompShg     MetalSd     MetalSd       None   \n",
       "2          2002     Gable  CompShg     VinylSd     VinylSd    BrkFace   \n",
       "3          1970     Gable  CompShg     Wd Sdng     Wd Shng       None   \n",
       "4          2000     Gable  CompShg     VinylSd     VinylSd    BrkFace   \n",
       "\n",
       "   MasVnrArea ExterQual ExterCond Foundation BsmtQual BsmtCond BsmtExposure  \\\n",
       "0       196.0        Gd        TA      PConc       Gd       TA           No   \n",
       "1         0.0        TA        TA     CBlock       Gd       TA           Gd   \n",
       "2       162.0        Gd        TA      PConc       Gd       TA           Mn   \n",
       "3         0.0        TA        TA     BrkTil       TA       Gd           No   \n",
       "4       350.0        Gd        TA      PConc       Gd       TA           Av   \n",
       "\n",
       "  BsmtFinType1  BsmtFinSF1 BsmtFinType2  BsmtFinSF2  BsmtUnfSF  TotalBsmtSF  \\\n",
       "0          GLQ         706          Unf           0        150          856   \n",
       "1          ALQ         978          Unf           0        284         1262   \n",
       "2          GLQ         486          Unf           0        434          920   \n",
       "3          ALQ         216          Unf           0        540          756   \n",
       "4          GLQ         655          Unf           0        490         1145   \n",
       "\n",
       "  Heating HeatingQC CentralAir Electrical  1stFlrSF  2ndFlrSF  LowQualFinSF  \\\n",
       "0    GasA        Ex          Y      SBrkr       856       854             0   \n",
       "1    GasA        Ex          Y      SBrkr      1262         0             0   \n",
       "2    GasA        Ex          Y      SBrkr       920       866             0   \n",
       "3    GasA        Gd          Y      SBrkr       961       756             0   \n",
       "4    GasA        Ex          Y      SBrkr      1145      1053             0   \n",
       "\n",
       "   GrLivArea  BsmtFullBath  BsmtHalfBath  FullBath  HalfBath  BedroomAbvGr  \\\n",
       "0       1710             1             0         2         1             3   \n",
       "1       1262             0             1         2         0             3   \n",
       "2       1786             1             0         2         1             3   \n",
       "3       1717             1             0         1         0             3   \n",
       "4       2198             1             0         2         1             4   \n",
       "\n",
       "   KitchenAbvGr KitchenQual  TotRmsAbvGrd Functional  Fireplaces FireplaceQu  \\\n",
       "0             1          Gd             8        Typ           0         NaN   \n",
       "1             1          TA             6        Typ           1          TA   \n",
       "2             1          Gd             6        Typ           1          TA   \n",
       "3             1          Gd             7        Typ           1          Gd   \n",
       "4             1          Gd             9        Typ           1          TA   \n",
       "\n",
       "  GarageType  GarageYrBlt GarageFinish  GarageCars  GarageArea GarageQual  \\\n",
       "0     Attchd       2003.0          RFn           2         548         TA   \n",
       "1     Attchd       1976.0          RFn           2         460         TA   \n",
       "2     Attchd       2001.0          RFn           2         608         TA   \n",
       "3     Detchd       1998.0          Unf           3         642         TA   \n",
       "4     Attchd       2000.0          RFn           3         836         TA   \n",
       "\n",
       "  GarageCond PavedDrive  WoodDeckSF  OpenPorchSF  EnclosedPorch  3SsnPorch  \\\n",
       "0         TA          Y           0           61              0          0   \n",
       "1         TA          Y         298            0              0          0   \n",
       "2         TA          Y           0           42              0          0   \n",
       "3         TA          Y           0           35            272          0   \n",
       "4         TA          Y         192           84              0          0   \n",
       "\n",
       "   ScreenPorch  PoolArea PoolQC Fence MiscFeature  MiscVal  MoSold  YrSold  \\\n",
       "0            0         0    NaN   NaN         NaN        0       2    2008   \n",
       "1            0         0    NaN   NaN         NaN        0       5    2007   \n",
       "2            0         0    NaN   NaN         NaN        0       9    2008   \n",
       "3            0         0    NaN   NaN         NaN        0       2    2006   \n",
       "4            0         0    NaN   NaN         NaN        0      12    2008   \n",
       "\n",
       "  SaleType SaleCondition  SalePrice  \n",
       "0       WD        Normal     208500  \n",
       "1       WD        Normal     181500  \n",
       "2       WD        Normal     223500  \n",
       "3       WD       Abnorml     140000  \n",
       "4       WD        Normal     250000  "
      ]
     },
     "execution_count": 3,
     "metadata": {},
     "output_type": "execute_result"
    }
   ],
   "source": [
    "train.head()"
   ]
  },
  {
   "cell_type": "code",
   "execution_count": 4,
   "metadata": {
    "execution": {
     "iopub.execute_input": "2021-10-23T18:02:20.96264Z",
     "iopub.status.busy": "2021-10-23T18:02:20.962299Z",
     "iopub.status.idle": "2021-10-23T18:02:21.029406Z",
     "shell.execute_reply": "2021-10-23T18:02:21.028815Z",
     "shell.execute_reply.started": "2021-10-23T18:02:20.962604Z"
    }
   },
   "outputs": [
    {
     "data": {
      "text/html": [
       "<div>\n",
       "<style scoped>\n",
       "    .dataframe tbody tr th:only-of-type {\n",
       "        vertical-align: middle;\n",
       "    }\n",
       "\n",
       "    .dataframe tbody tr th {\n",
       "        vertical-align: top;\n",
       "    }\n",
       "\n",
       "    .dataframe thead th {\n",
       "        text-align: right;\n",
       "    }\n",
       "</style>\n",
       "<table border=\"1\" class=\"dataframe\">\n",
       "  <thead>\n",
       "    <tr style=\"text-align: right;\">\n",
       "      <th></th>\n",
       "      <th>Id</th>\n",
       "      <th>MSSubClass</th>\n",
       "      <th>MSZoning</th>\n",
       "      <th>LotFrontage</th>\n",
       "      <th>LotArea</th>\n",
       "      <th>Street</th>\n",
       "      <th>Alley</th>\n",
       "      <th>LotShape</th>\n",
       "      <th>LandContour</th>\n",
       "      <th>Utilities</th>\n",
       "      <th>LotConfig</th>\n",
       "      <th>LandSlope</th>\n",
       "      <th>Neighborhood</th>\n",
       "      <th>Condition1</th>\n",
       "      <th>Condition2</th>\n",
       "      <th>BldgType</th>\n",
       "      <th>HouseStyle</th>\n",
       "      <th>OverallQual</th>\n",
       "      <th>OverallCond</th>\n",
       "      <th>YearBuilt</th>\n",
       "      <th>YearRemodAdd</th>\n",
       "      <th>RoofStyle</th>\n",
       "      <th>RoofMatl</th>\n",
       "      <th>Exterior1st</th>\n",
       "      <th>Exterior2nd</th>\n",
       "      <th>MasVnrType</th>\n",
       "      <th>MasVnrArea</th>\n",
       "      <th>ExterQual</th>\n",
       "      <th>ExterCond</th>\n",
       "      <th>Foundation</th>\n",
       "      <th>BsmtQual</th>\n",
       "      <th>BsmtCond</th>\n",
       "      <th>BsmtExposure</th>\n",
       "      <th>BsmtFinType1</th>\n",
       "      <th>BsmtFinSF1</th>\n",
       "      <th>BsmtFinType2</th>\n",
       "      <th>BsmtFinSF2</th>\n",
       "      <th>BsmtUnfSF</th>\n",
       "      <th>TotalBsmtSF</th>\n",
       "      <th>Heating</th>\n",
       "      <th>HeatingQC</th>\n",
       "      <th>CentralAir</th>\n",
       "      <th>Electrical</th>\n",
       "      <th>1stFlrSF</th>\n",
       "      <th>2ndFlrSF</th>\n",
       "      <th>LowQualFinSF</th>\n",
       "      <th>GrLivArea</th>\n",
       "      <th>BsmtFullBath</th>\n",
       "      <th>BsmtHalfBath</th>\n",
       "      <th>FullBath</th>\n",
       "      <th>HalfBath</th>\n",
       "      <th>BedroomAbvGr</th>\n",
       "      <th>KitchenAbvGr</th>\n",
       "      <th>KitchenQual</th>\n",
       "      <th>TotRmsAbvGrd</th>\n",
       "      <th>Functional</th>\n",
       "      <th>Fireplaces</th>\n",
       "      <th>FireplaceQu</th>\n",
       "      <th>GarageType</th>\n",
       "      <th>GarageYrBlt</th>\n",
       "      <th>GarageFinish</th>\n",
       "      <th>GarageCars</th>\n",
       "      <th>GarageArea</th>\n",
       "      <th>GarageQual</th>\n",
       "      <th>GarageCond</th>\n",
       "      <th>PavedDrive</th>\n",
       "      <th>WoodDeckSF</th>\n",
       "      <th>OpenPorchSF</th>\n",
       "      <th>EnclosedPorch</th>\n",
       "      <th>3SsnPorch</th>\n",
       "      <th>ScreenPorch</th>\n",
       "      <th>PoolArea</th>\n",
       "      <th>PoolQC</th>\n",
       "      <th>Fence</th>\n",
       "      <th>MiscFeature</th>\n",
       "      <th>MiscVal</th>\n",
       "      <th>MoSold</th>\n",
       "      <th>YrSold</th>\n",
       "      <th>SaleType</th>\n",
       "      <th>SaleCondition</th>\n",
       "    </tr>\n",
       "  </thead>\n",
       "  <tbody>\n",
       "    <tr>\n",
       "      <th>0</th>\n",
       "      <td>1461</td>\n",
       "      <td>20</td>\n",
       "      <td>RH</td>\n",
       "      <td>80.0</td>\n",
       "      <td>11622</td>\n",
       "      <td>Pave</td>\n",
       "      <td>NaN</td>\n",
       "      <td>Reg</td>\n",
       "      <td>Lvl</td>\n",
       "      <td>AllPub</td>\n",
       "      <td>Inside</td>\n",
       "      <td>Gtl</td>\n",
       "      <td>NAmes</td>\n",
       "      <td>Feedr</td>\n",
       "      <td>Norm</td>\n",
       "      <td>1Fam</td>\n",
       "      <td>1Story</td>\n",
       "      <td>5</td>\n",
       "      <td>6</td>\n",
       "      <td>1961</td>\n",
       "      <td>1961</td>\n",
       "      <td>Gable</td>\n",
       "      <td>CompShg</td>\n",
       "      <td>VinylSd</td>\n",
       "      <td>VinylSd</td>\n",
       "      <td>None</td>\n",
       "      <td>0.0</td>\n",
       "      <td>TA</td>\n",
       "      <td>TA</td>\n",
       "      <td>CBlock</td>\n",
       "      <td>TA</td>\n",
       "      <td>TA</td>\n",
       "      <td>No</td>\n",
       "      <td>Rec</td>\n",
       "      <td>468.0</td>\n",
       "      <td>LwQ</td>\n",
       "      <td>144.0</td>\n",
       "      <td>270.0</td>\n",
       "      <td>882.0</td>\n",
       "      <td>GasA</td>\n",
       "      <td>TA</td>\n",
       "      <td>Y</td>\n",
       "      <td>SBrkr</td>\n",
       "      <td>896</td>\n",
       "      <td>0</td>\n",
       "      <td>0</td>\n",
       "      <td>896</td>\n",
       "      <td>0.0</td>\n",
       "      <td>0.0</td>\n",
       "      <td>1</td>\n",
       "      <td>0</td>\n",
       "      <td>2</td>\n",
       "      <td>1</td>\n",
       "      <td>TA</td>\n",
       "      <td>5</td>\n",
       "      <td>Typ</td>\n",
       "      <td>0</td>\n",
       "      <td>NaN</td>\n",
       "      <td>Attchd</td>\n",
       "      <td>1961.0</td>\n",
       "      <td>Unf</td>\n",
       "      <td>1.0</td>\n",
       "      <td>730.0</td>\n",
       "      <td>TA</td>\n",
       "      <td>TA</td>\n",
       "      <td>Y</td>\n",
       "      <td>140</td>\n",
       "      <td>0</td>\n",
       "      <td>0</td>\n",
       "      <td>0</td>\n",
       "      <td>120</td>\n",
       "      <td>0</td>\n",
       "      <td>NaN</td>\n",
       "      <td>MnPrv</td>\n",
       "      <td>NaN</td>\n",
       "      <td>0</td>\n",
       "      <td>6</td>\n",
       "      <td>2010</td>\n",
       "      <td>WD</td>\n",
       "      <td>Normal</td>\n",
       "    </tr>\n",
       "    <tr>\n",
       "      <th>1</th>\n",
       "      <td>1462</td>\n",
       "      <td>20</td>\n",
       "      <td>RL</td>\n",
       "      <td>81.0</td>\n",
       "      <td>14267</td>\n",
       "      <td>Pave</td>\n",
       "      <td>NaN</td>\n",
       "      <td>IR1</td>\n",
       "      <td>Lvl</td>\n",
       "      <td>AllPub</td>\n",
       "      <td>Corner</td>\n",
       "      <td>Gtl</td>\n",
       "      <td>NAmes</td>\n",
       "      <td>Norm</td>\n",
       "      <td>Norm</td>\n",
       "      <td>1Fam</td>\n",
       "      <td>1Story</td>\n",
       "      <td>6</td>\n",
       "      <td>6</td>\n",
       "      <td>1958</td>\n",
       "      <td>1958</td>\n",
       "      <td>Hip</td>\n",
       "      <td>CompShg</td>\n",
       "      <td>Wd Sdng</td>\n",
       "      <td>Wd Sdng</td>\n",
       "      <td>BrkFace</td>\n",
       "      <td>108.0</td>\n",
       "      <td>TA</td>\n",
       "      <td>TA</td>\n",
       "      <td>CBlock</td>\n",
       "      <td>TA</td>\n",
       "      <td>TA</td>\n",
       "      <td>No</td>\n",
       "      <td>ALQ</td>\n",
       "      <td>923.0</td>\n",
       "      <td>Unf</td>\n",
       "      <td>0.0</td>\n",
       "      <td>406.0</td>\n",
       "      <td>1329.0</td>\n",
       "      <td>GasA</td>\n",
       "      <td>TA</td>\n",
       "      <td>Y</td>\n",
       "      <td>SBrkr</td>\n",
       "      <td>1329</td>\n",
       "      <td>0</td>\n",
       "      <td>0</td>\n",
       "      <td>1329</td>\n",
       "      <td>0.0</td>\n",
       "      <td>0.0</td>\n",
       "      <td>1</td>\n",
       "      <td>1</td>\n",
       "      <td>3</td>\n",
       "      <td>1</td>\n",
       "      <td>Gd</td>\n",
       "      <td>6</td>\n",
       "      <td>Typ</td>\n",
       "      <td>0</td>\n",
       "      <td>NaN</td>\n",
       "      <td>Attchd</td>\n",
       "      <td>1958.0</td>\n",
       "      <td>Unf</td>\n",
       "      <td>1.0</td>\n",
       "      <td>312.0</td>\n",
       "      <td>TA</td>\n",
       "      <td>TA</td>\n",
       "      <td>Y</td>\n",
       "      <td>393</td>\n",
       "      <td>36</td>\n",
       "      <td>0</td>\n",
       "      <td>0</td>\n",
       "      <td>0</td>\n",
       "      <td>0</td>\n",
       "      <td>NaN</td>\n",
       "      <td>NaN</td>\n",
       "      <td>Gar2</td>\n",
       "      <td>12500</td>\n",
       "      <td>6</td>\n",
       "      <td>2010</td>\n",
       "      <td>WD</td>\n",
       "      <td>Normal</td>\n",
       "    </tr>\n",
       "    <tr>\n",
       "      <th>2</th>\n",
       "      <td>1463</td>\n",
       "      <td>60</td>\n",
       "      <td>RL</td>\n",
       "      <td>74.0</td>\n",
       "      <td>13830</td>\n",
       "      <td>Pave</td>\n",
       "      <td>NaN</td>\n",
       "      <td>IR1</td>\n",
       "      <td>Lvl</td>\n",
       "      <td>AllPub</td>\n",
       "      <td>Inside</td>\n",
       "      <td>Gtl</td>\n",
       "      <td>Gilbert</td>\n",
       "      <td>Norm</td>\n",
       "      <td>Norm</td>\n",
       "      <td>1Fam</td>\n",
       "      <td>2Story</td>\n",
       "      <td>5</td>\n",
       "      <td>5</td>\n",
       "      <td>1997</td>\n",
       "      <td>1998</td>\n",
       "      <td>Gable</td>\n",
       "      <td>CompShg</td>\n",
       "      <td>VinylSd</td>\n",
       "      <td>VinylSd</td>\n",
       "      <td>None</td>\n",
       "      <td>0.0</td>\n",
       "      <td>TA</td>\n",
       "      <td>TA</td>\n",
       "      <td>PConc</td>\n",
       "      <td>Gd</td>\n",
       "      <td>TA</td>\n",
       "      <td>No</td>\n",
       "      <td>GLQ</td>\n",
       "      <td>791.0</td>\n",
       "      <td>Unf</td>\n",
       "      <td>0.0</td>\n",
       "      <td>137.0</td>\n",
       "      <td>928.0</td>\n",
       "      <td>GasA</td>\n",
       "      <td>Gd</td>\n",
       "      <td>Y</td>\n",
       "      <td>SBrkr</td>\n",
       "      <td>928</td>\n",
       "      <td>701</td>\n",
       "      <td>0</td>\n",
       "      <td>1629</td>\n",
       "      <td>0.0</td>\n",
       "      <td>0.0</td>\n",
       "      <td>2</td>\n",
       "      <td>1</td>\n",
       "      <td>3</td>\n",
       "      <td>1</td>\n",
       "      <td>TA</td>\n",
       "      <td>6</td>\n",
       "      <td>Typ</td>\n",
       "      <td>1</td>\n",
       "      <td>TA</td>\n",
       "      <td>Attchd</td>\n",
       "      <td>1997.0</td>\n",
       "      <td>Fin</td>\n",
       "      <td>2.0</td>\n",
       "      <td>482.0</td>\n",
       "      <td>TA</td>\n",
       "      <td>TA</td>\n",
       "      <td>Y</td>\n",
       "      <td>212</td>\n",
       "      <td>34</td>\n",
       "      <td>0</td>\n",
       "      <td>0</td>\n",
       "      <td>0</td>\n",
       "      <td>0</td>\n",
       "      <td>NaN</td>\n",
       "      <td>MnPrv</td>\n",
       "      <td>NaN</td>\n",
       "      <td>0</td>\n",
       "      <td>3</td>\n",
       "      <td>2010</td>\n",
       "      <td>WD</td>\n",
       "      <td>Normal</td>\n",
       "    </tr>\n",
       "    <tr>\n",
       "      <th>3</th>\n",
       "      <td>1464</td>\n",
       "      <td>60</td>\n",
       "      <td>RL</td>\n",
       "      <td>78.0</td>\n",
       "      <td>9978</td>\n",
       "      <td>Pave</td>\n",
       "      <td>NaN</td>\n",
       "      <td>IR1</td>\n",
       "      <td>Lvl</td>\n",
       "      <td>AllPub</td>\n",
       "      <td>Inside</td>\n",
       "      <td>Gtl</td>\n",
       "      <td>Gilbert</td>\n",
       "      <td>Norm</td>\n",
       "      <td>Norm</td>\n",
       "      <td>1Fam</td>\n",
       "      <td>2Story</td>\n",
       "      <td>6</td>\n",
       "      <td>6</td>\n",
       "      <td>1998</td>\n",
       "      <td>1998</td>\n",
       "      <td>Gable</td>\n",
       "      <td>CompShg</td>\n",
       "      <td>VinylSd</td>\n",
       "      <td>VinylSd</td>\n",
       "      <td>BrkFace</td>\n",
       "      <td>20.0</td>\n",
       "      <td>TA</td>\n",
       "      <td>TA</td>\n",
       "      <td>PConc</td>\n",
       "      <td>TA</td>\n",
       "      <td>TA</td>\n",
       "      <td>No</td>\n",
       "      <td>GLQ</td>\n",
       "      <td>602.0</td>\n",
       "      <td>Unf</td>\n",
       "      <td>0.0</td>\n",
       "      <td>324.0</td>\n",
       "      <td>926.0</td>\n",
       "      <td>GasA</td>\n",
       "      <td>Ex</td>\n",
       "      <td>Y</td>\n",
       "      <td>SBrkr</td>\n",
       "      <td>926</td>\n",
       "      <td>678</td>\n",
       "      <td>0</td>\n",
       "      <td>1604</td>\n",
       "      <td>0.0</td>\n",
       "      <td>0.0</td>\n",
       "      <td>2</td>\n",
       "      <td>1</td>\n",
       "      <td>3</td>\n",
       "      <td>1</td>\n",
       "      <td>Gd</td>\n",
       "      <td>7</td>\n",
       "      <td>Typ</td>\n",
       "      <td>1</td>\n",
       "      <td>Gd</td>\n",
       "      <td>Attchd</td>\n",
       "      <td>1998.0</td>\n",
       "      <td>Fin</td>\n",
       "      <td>2.0</td>\n",
       "      <td>470.0</td>\n",
       "      <td>TA</td>\n",
       "      <td>TA</td>\n",
       "      <td>Y</td>\n",
       "      <td>360</td>\n",
       "      <td>36</td>\n",
       "      <td>0</td>\n",
       "      <td>0</td>\n",
       "      <td>0</td>\n",
       "      <td>0</td>\n",
       "      <td>NaN</td>\n",
       "      <td>NaN</td>\n",
       "      <td>NaN</td>\n",
       "      <td>0</td>\n",
       "      <td>6</td>\n",
       "      <td>2010</td>\n",
       "      <td>WD</td>\n",
       "      <td>Normal</td>\n",
       "    </tr>\n",
       "    <tr>\n",
       "      <th>4</th>\n",
       "      <td>1465</td>\n",
       "      <td>120</td>\n",
       "      <td>RL</td>\n",
       "      <td>43.0</td>\n",
       "      <td>5005</td>\n",
       "      <td>Pave</td>\n",
       "      <td>NaN</td>\n",
       "      <td>IR1</td>\n",
       "      <td>HLS</td>\n",
       "      <td>AllPub</td>\n",
       "      <td>Inside</td>\n",
       "      <td>Gtl</td>\n",
       "      <td>StoneBr</td>\n",
       "      <td>Norm</td>\n",
       "      <td>Norm</td>\n",
       "      <td>TwnhsE</td>\n",
       "      <td>1Story</td>\n",
       "      <td>8</td>\n",
       "      <td>5</td>\n",
       "      <td>1992</td>\n",
       "      <td>1992</td>\n",
       "      <td>Gable</td>\n",
       "      <td>CompShg</td>\n",
       "      <td>HdBoard</td>\n",
       "      <td>HdBoard</td>\n",
       "      <td>None</td>\n",
       "      <td>0.0</td>\n",
       "      <td>Gd</td>\n",
       "      <td>TA</td>\n",
       "      <td>PConc</td>\n",
       "      <td>Gd</td>\n",
       "      <td>TA</td>\n",
       "      <td>No</td>\n",
       "      <td>ALQ</td>\n",
       "      <td>263.0</td>\n",
       "      <td>Unf</td>\n",
       "      <td>0.0</td>\n",
       "      <td>1017.0</td>\n",
       "      <td>1280.0</td>\n",
       "      <td>GasA</td>\n",
       "      <td>Ex</td>\n",
       "      <td>Y</td>\n",
       "      <td>SBrkr</td>\n",
       "      <td>1280</td>\n",
       "      <td>0</td>\n",
       "      <td>0</td>\n",
       "      <td>1280</td>\n",
       "      <td>0.0</td>\n",
       "      <td>0.0</td>\n",
       "      <td>2</td>\n",
       "      <td>0</td>\n",
       "      <td>2</td>\n",
       "      <td>1</td>\n",
       "      <td>Gd</td>\n",
       "      <td>5</td>\n",
       "      <td>Typ</td>\n",
       "      <td>0</td>\n",
       "      <td>NaN</td>\n",
       "      <td>Attchd</td>\n",
       "      <td>1992.0</td>\n",
       "      <td>RFn</td>\n",
       "      <td>2.0</td>\n",
       "      <td>506.0</td>\n",
       "      <td>TA</td>\n",
       "      <td>TA</td>\n",
       "      <td>Y</td>\n",
       "      <td>0</td>\n",
       "      <td>82</td>\n",
       "      <td>0</td>\n",
       "      <td>0</td>\n",
       "      <td>144</td>\n",
       "      <td>0</td>\n",
       "      <td>NaN</td>\n",
       "      <td>NaN</td>\n",
       "      <td>NaN</td>\n",
       "      <td>0</td>\n",
       "      <td>1</td>\n",
       "      <td>2010</td>\n",
       "      <td>WD</td>\n",
       "      <td>Normal</td>\n",
       "    </tr>\n",
       "  </tbody>\n",
       "</table>\n",
       "</div>"
      ],
      "text/plain": [
       "     Id  MSSubClass MSZoning  LotFrontage  LotArea Street Alley LotShape  \\\n",
       "0  1461          20       RH         80.0    11622   Pave   NaN      Reg   \n",
       "1  1462          20       RL         81.0    14267   Pave   NaN      IR1   \n",
       "2  1463          60       RL         74.0    13830   Pave   NaN      IR1   \n",
       "3  1464          60       RL         78.0     9978   Pave   NaN      IR1   \n",
       "4  1465         120       RL         43.0     5005   Pave   NaN      IR1   \n",
       "\n",
       "  LandContour Utilities LotConfig LandSlope Neighborhood Condition1  \\\n",
       "0         Lvl    AllPub    Inside       Gtl        NAmes      Feedr   \n",
       "1         Lvl    AllPub    Corner       Gtl        NAmes       Norm   \n",
       "2         Lvl    AllPub    Inside       Gtl      Gilbert       Norm   \n",
       "3         Lvl    AllPub    Inside       Gtl      Gilbert       Norm   \n",
       "4         HLS    AllPub    Inside       Gtl      StoneBr       Norm   \n",
       "\n",
       "  Condition2 BldgType HouseStyle  OverallQual  OverallCond  YearBuilt  \\\n",
       "0       Norm     1Fam     1Story            5            6       1961   \n",
       "1       Norm     1Fam     1Story            6            6       1958   \n",
       "2       Norm     1Fam     2Story            5            5       1997   \n",
       "3       Norm     1Fam     2Story            6            6       1998   \n",
       "4       Norm   TwnhsE     1Story            8            5       1992   \n",
       "\n",
       "   YearRemodAdd RoofStyle RoofMatl Exterior1st Exterior2nd MasVnrType  \\\n",
       "0          1961     Gable  CompShg     VinylSd     VinylSd       None   \n",
       "1          1958       Hip  CompShg     Wd Sdng     Wd Sdng    BrkFace   \n",
       "2          1998     Gable  CompShg     VinylSd     VinylSd       None   \n",
       "3          1998     Gable  CompShg     VinylSd     VinylSd    BrkFace   \n",
       "4          1992     Gable  CompShg     HdBoard     HdBoard       None   \n",
       "\n",
       "   MasVnrArea ExterQual ExterCond Foundation BsmtQual BsmtCond BsmtExposure  \\\n",
       "0         0.0        TA        TA     CBlock       TA       TA           No   \n",
       "1       108.0        TA        TA     CBlock       TA       TA           No   \n",
       "2         0.0        TA        TA      PConc       Gd       TA           No   \n",
       "3        20.0        TA        TA      PConc       TA       TA           No   \n",
       "4         0.0        Gd        TA      PConc       Gd       TA           No   \n",
       "\n",
       "  BsmtFinType1  BsmtFinSF1 BsmtFinType2  BsmtFinSF2  BsmtUnfSF  TotalBsmtSF  \\\n",
       "0          Rec       468.0          LwQ       144.0      270.0        882.0   \n",
       "1          ALQ       923.0          Unf         0.0      406.0       1329.0   \n",
       "2          GLQ       791.0          Unf         0.0      137.0        928.0   \n",
       "3          GLQ       602.0          Unf         0.0      324.0        926.0   \n",
       "4          ALQ       263.0          Unf         0.0     1017.0       1280.0   \n",
       "\n",
       "  Heating HeatingQC CentralAir Electrical  1stFlrSF  2ndFlrSF  LowQualFinSF  \\\n",
       "0    GasA        TA          Y      SBrkr       896         0             0   \n",
       "1    GasA        TA          Y      SBrkr      1329         0             0   \n",
       "2    GasA        Gd          Y      SBrkr       928       701             0   \n",
       "3    GasA        Ex          Y      SBrkr       926       678             0   \n",
       "4    GasA        Ex          Y      SBrkr      1280         0             0   \n",
       "\n",
       "   GrLivArea  BsmtFullBath  BsmtHalfBath  FullBath  HalfBath  BedroomAbvGr  \\\n",
       "0        896           0.0           0.0         1         0             2   \n",
       "1       1329           0.0           0.0         1         1             3   \n",
       "2       1629           0.0           0.0         2         1             3   \n",
       "3       1604           0.0           0.0         2         1             3   \n",
       "4       1280           0.0           0.0         2         0             2   \n",
       "\n",
       "   KitchenAbvGr KitchenQual  TotRmsAbvGrd Functional  Fireplaces FireplaceQu  \\\n",
       "0             1          TA             5        Typ           0         NaN   \n",
       "1             1          Gd             6        Typ           0         NaN   \n",
       "2             1          TA             6        Typ           1          TA   \n",
       "3             1          Gd             7        Typ           1          Gd   \n",
       "4             1          Gd             5        Typ           0         NaN   \n",
       "\n",
       "  GarageType  GarageYrBlt GarageFinish  GarageCars  GarageArea GarageQual  \\\n",
       "0     Attchd       1961.0          Unf         1.0       730.0         TA   \n",
       "1     Attchd       1958.0          Unf         1.0       312.0         TA   \n",
       "2     Attchd       1997.0          Fin         2.0       482.0         TA   \n",
       "3     Attchd       1998.0          Fin         2.0       470.0         TA   \n",
       "4     Attchd       1992.0          RFn         2.0       506.0         TA   \n",
       "\n",
       "  GarageCond PavedDrive  WoodDeckSF  OpenPorchSF  EnclosedPorch  3SsnPorch  \\\n",
       "0         TA          Y         140            0              0          0   \n",
       "1         TA          Y         393           36              0          0   \n",
       "2         TA          Y         212           34              0          0   \n",
       "3         TA          Y         360           36              0          0   \n",
       "4         TA          Y           0           82              0          0   \n",
       "\n",
       "   ScreenPorch  PoolArea PoolQC  Fence MiscFeature  MiscVal  MoSold  YrSold  \\\n",
       "0          120         0    NaN  MnPrv         NaN        0       6    2010   \n",
       "1            0         0    NaN    NaN        Gar2    12500       6    2010   \n",
       "2            0         0    NaN  MnPrv         NaN        0       3    2010   \n",
       "3            0         0    NaN    NaN         NaN        0       6    2010   \n",
       "4          144         0    NaN    NaN         NaN        0       1    2010   \n",
       "\n",
       "  SaleType SaleCondition  \n",
       "0       WD        Normal  \n",
       "1       WD        Normal  \n",
       "2       WD        Normal  \n",
       "3       WD        Normal  \n",
       "4       WD        Normal  "
      ]
     },
     "execution_count": 4,
     "metadata": {},
     "output_type": "execute_result"
    }
   ],
   "source": [
    "test.head()"
   ]
  },
  {
   "cell_type": "code",
   "execution_count": 5,
   "metadata": {
    "execution": {
     "iopub.execute_input": "2021-10-23T18:02:21.031012Z",
     "iopub.status.busy": "2021-10-23T18:02:21.030622Z",
     "iopub.status.idle": "2021-10-23T18:02:21.041789Z",
     "shell.execute_reply": "2021-10-23T18:02:21.040695Z",
     "shell.execute_reply.started": "2021-10-23T18:02:21.030964Z"
    }
   },
   "outputs": [
    {
     "name": "stdout",
     "output_type": "stream",
     "text": [
      "train size: (1460, 81)\n",
      "test size: (1459, 80)\n"
     ]
    }
   ],
   "source": [
    "print(f'train size: {train.shape}')\n",
    "print(f'test size: {test.shape}')"
   ]
  },
  {
   "cell_type": "markdown",
   "metadata": {
    "execution": {
     "iopub.execute_input": "2021-10-22T01:19:45.307607Z",
     "iopub.status.busy": "2021-10-22T01:19:45.307331Z",
     "iopub.status.idle": "2021-10-22T01:19:45.42632Z",
     "shell.execute_reply": "2021-10-22T01:19:45.425474Z",
     "shell.execute_reply.started": "2021-10-22T01:19:45.307579Z"
    }
   },
   "source": [
    "<h1 style=\"text-align:center;\">EDA</h1>"
   ]
  },
  {
   "cell_type": "markdown",
   "metadata": {
    "execution": {
     "iopub.execute_input": "2021-10-22T01:14:56.157801Z",
     "iopub.status.busy": "2021-10-22T01:14:56.15721Z",
     "iopub.status.idle": "2021-10-22T01:14:56.189651Z",
     "shell.execute_reply": "2021-10-22T01:14:56.18883Z",
     "shell.execute_reply.started": "2021-10-22T01:14:56.15764Z"
    }
   },
   "source": [
    "<h3 style=\"text-align:center;\">1. Exploring dependent variables</h3><br>\n",
    "<h4>Outline</h4>\n",
    "The dependent variable is a continuous variable. The goal is to solve the regression analysis problem.<br>\n",
    "In order to improve the performance of the linear models, the dependent variables and residuals must satisfy <b>'normality'</b>.<br><br>\n",
    "\n",
    "<h4>Normality</h4>\n",
    "Normality means that the distribution of variables follows a normal distribution.<br>\n",
    "The easiest way to test normality is to draw a histogram and a QQ plot.<br>\n",
    "It is recommended that the histogram form a bell shape. It is good to understand to see skewness and kurtosis together.<br>\n",
    "I thought that if skewness is between 0 and 0.5 and kurtosis is between 1 and 8, the shape of the histogram is similar to that of a bell.<br>\n",
    "If there is a shape extending along the baseline to the top right in the QQ plot, we can see that the data has normality.<br><br>\n",
    "If it violates normality, log transformation or boxcox transformation can be applied."
   ]
  },
  {
   "cell_type": "code",
   "execution_count": 6,
   "metadata": {
    "_kg_hide-input": false,
    "execution": {
     "iopub.execute_input": "2021-10-23T18:02:21.043439Z",
     "iopub.status.busy": "2021-10-23T18:02:21.043152Z",
     "iopub.status.idle": "2021-10-23T18:02:21.801626Z",
     "shell.execute_reply": "2021-10-23T18:02:21.800777Z",
     "shell.execute_reply.started": "2021-10-23T18:02:21.043411Z"
    }
   },
   "outputs": [
    {
     "name": "stdout",
     "output_type": "stream",
     "text": [
      "SalePrice's skew: 1.8828757597682129\n",
      "SalePrice's kurt: 6.536281860064529\n"
     ]
    },
    {
     "data": {
      "image/png": "[encoded data removed]",
      "text/plain": [
       "<Figure size 1440x360 with 2 Axes>"
      ]
     },
     "metadata": {},
     "output_type": "display_data"
    }
   ],
   "source": [
    "print(f\"SalePrice's skew: {train.SalePrice.skew()}\")\n",
    "print(f\"SalePrice's kurt: {train.SalePrice.kurt()}\")\n",
    "f, ax = plt.subplots(1, 2, figsize=(20, 5))\n",
    "sns.distplot(train.SalePrice, fit=norm, ax=ax[0])\n",
    "probplot(train.SalePrice, plot=ax[1])\n",
    "plt.show()"
   ]
  },
  {
   "cell_type": "markdown",
   "metadata": {},
   "source": [
    "<p>\n",
    "    <font color='red'>Conclusion:</font><br>\n",
    "    Because the histogram is skewed to the left (skewness > 0), and the points of the QQ plot are out of the baseline,<br>\n",
    "    It is necessary to convert to satisfy normality through variable transformation such as log transformation.\n",
    "</p>"
   ]
  },
  {
   "cell_type": "markdown",
   "metadata": {},
   "source": [
    "Check whether there is a missing value of the dependent variable."
   ]
  },
  {
   "cell_type": "code",
   "execution_count": 7,
   "metadata": {
    "execution": {
     "iopub.execute_input": "2021-10-23T18:02:21.803315Z",
     "iopub.status.busy": "2021-10-23T18:02:21.803054Z",
     "iopub.status.idle": "2021-10-23T18:02:21.808492Z",
     "shell.execute_reply": "2021-10-23T18:02:21.807924Z",
     "shell.execute_reply.started": "2021-10-23T18:02:21.803286Z"
    }
   },
   "outputs": [
    {
     "name": "stdout",
     "output_type": "stream",
     "text": [
      "SalePrice'missing count: 0\n"
     ]
    }
   ],
   "source": [
    "print(f\"SalePrice'missing count: {train.SalePrice.isnull().sum()}\")"
   ]
  },
  {
   "cell_type": "markdown",
   "metadata": {},
   "source": [
    "<h3 style=\"text-align:center;\">2. Exploring independent variables - Define Type</h3><br>\n",
    "<h4>Outline</h4>\n",
    "<p>\n",
    "    Variable search means reading data_description and determining type of variables.<br>\n",
    "    We can read the description of the variable, determine the type of variable, and further derive ideas for generating derived variables and converting data.<br><br>\n",
    "    The types of variables are classified as follows.<br>\n",
    "    <ol>\n",
    "        <li>Categorical</li>\n",
    "        <ol>\n",
    "            <li>Nominal vars</li>\n",
    "            <li>Order(Rank) vars</li>\n",
    "        </ol>\n",
    "        <li>Continuous</li>\n",
    "        <ol>\n",
    "            <li>Interval vars</li>\n",
    "            <li>Ratio vars</li>\n",
    "        </ol>\n",
    "    </ol>\n",
    "    The method of searching and preprocessing is determined by the type of variable.<br>\n",
    "    <br>\n",
    "    By using Pandas, we can find out the data type (numerical type and object) of the variable.<br>\n",
    "    However, not all numerical variables can be determined as continuous variables.<br>\n",
    "    I divided them subjectively by referring to data_description.<br>\n",
    "    <br>\n",
    "    Criteria (subjective)\n",
    "    <ol>\n",
    "        <li>\n",
    "            Nominal type: Not related by category or item.<br>\n",
    "            ex) Country, type\n",
    "        </li>\n",
    "        <li>\n",
    "            Rank (order) type: Rank, order, and comparison are possible for each category and item.<br>\n",
    "            ex) Grade, quality, etc.\n",
    "        </li>\n",
    "        <li>\n",
    "            Continuous: A numerical variable that can be expressed continuously in a real interval.<br>\n",
    "            ex) Feet, number, etc.\n",
    "        </li>\n",
    "    </ol>\n",
    "</p>\n",
    "Check numerical and object variables."
   ]
  },
  {
   "cell_type": "code",
   "execution_count": null,
   "metadata": {
    "execution": {
     "iopub.execute_input": "2021-10-23T18:02:21.809729Z",
     "iopub.status.busy": "2021-10-23T18:02:21.809532Z",
     "iopub.status.idle": "2021-10-23T18:02:21.82088Z",
     "shell.execute_reply": "2021-10-23T18:02:21.820211Z",
     "shell.execute_reply.started": "2021-10-23T18:02:21.809704Z"
    }
   },
   "outputs": [],
   "source": [
    "num_vars = train.columns[train.dtypes != 'object']\n",
    "obj_vars = train.columns[train.dtypes == 'object']"
   ]
  },
  {
   "cell_type": "code",
   "execution_count": null,
   "metadata": {
    "execution": {
     "iopub.execute_input": "2021-10-23T18:02:21.823138Z",
     "iopub.status.busy": "2021-10-23T18:02:21.822094Z",
     "iopub.status.idle": "2021-10-23T18:02:21.863378Z",
     "shell.execute_reply": "2021-10-23T18:02:21.862329Z",
     "shell.execute_reply.started": "2021-10-23T18:02:21.8231Z"
    }
   },
   "outputs": [],
   "source": [
    "pd.DataFrame(num_vars, columns=['num vars']).T"
   ]
  },
  {
   "cell_type": "code",
   "execution_count": null,
   "metadata": {
    "execution": {
     "iopub.execute_input": "2021-10-23T18:02:21.86501Z",
     "iopub.status.busy": "2021-10-23T18:02:21.864719Z",
     "iopub.status.idle": "2021-10-23T18:02:21.905849Z",
     "shell.execute_reply": "2021-10-23T18:02:21.905026Z",
     "shell.execute_reply.started": "2021-10-23T18:02:21.86498Z"
    }
   },
   "outputs": [],
   "source": [
    "pd.DataFrame(obj_vars, columns=['obj vars']).T"
   ]
  },
  {
   "cell_type": "markdown",
   "metadata": {},
   "source": [
    "Explore some variables for example.<br><br>\n",
    "<b>MSSubClass</b><br>\n",
    "MSSubClass is a variable representing the type of residence.<br>\n",
    "Although it is numerical, it is actually a categorical variable.<br>\n",
    "I was able to read the description of each category in detail and find keywords representing 'order' like keywords such as 'Older' and 'Newer'.<br>\n",
    "Therefore, MSSubClass was defined as an ordered variable.<br>\n",
    "<br>\n",
    "+Going further<br>\n",
    "Looking at the description of MSSubClass, it can be seen that the category contains the following meanings.\n",
    "1) Residential style.<br>\n",
    "2) Years.<br>\n",
    "3) The number of floors.<br><br>\n",
    "The above items are all included in YearBuilt, HouseStyle, and BldgType, so they overlap.<br>\n",
    "Instead, several categories have an additional meaning of 'PUD'.<br>\n",
    "Therefore, it is possible to attempt to add a nominal derivative variable with a binary value based on PUD in the future.<br>\n",
    "In addition, 1945 and 1946 often appear in explanations.<br>\n",
    "Since this period may have an important domain meaning, it can be used when exploring YeaBuilt in the future.\n",
    "<br><br>\n",
    "<b>MSZoning</b><br>\n",
    "MSZoning has a category. Each item is defined as a nominal variable because it does not have an order or ranking with each other.<br><br>\n",
    "<b>LotFrontage</b><br>\n",
    "LotFrontage is a continuous variable because it is a feet value.\n",
    "<br><br>\n",
    "<b>Street and Alley</b><br>\n",
    "Street and Ally are nominal variables because there is no order and ranking.<br>\n",
    "However, except for the NA value, They have Grvl or Pave. These variables are okay to be processed with ordered variables (applying label encoding instead of one hot encoding).<br><br>\n",
    "+Going further<br>\n",
    "Ally may have a negative meaning (NA) value.<br>\n",
    "In the previous study, I learned that negative values can be recorded as missing values.<br>\n",
    "Therefore, if there is a missing value, it can be directly replaced with a value such as None.\n",
    "<br><br>\n",
    "<b>OverallQual</b><br>\n",
    "OverallQual is numerical but have categories.<br>\n",
    "It can be seen that each item has a meaning related to quality. Therefore, it is a ranking variable.<br>\n",
    "Ranked variables apply label encoding to preserve the meaning of values. However, there is no need to separately encode ranked variables that have already been expressed in sequential figures, such as 1 to 10.<br>\n",
    "So I just included it in the continuous variable.\n",
    "<br><br>\n",
    "<b>ExterQual and ExterCond</b><br>\n",
    "ExterQual and ExterCond are categories.\n",
    "<br><br>\n",
    "<b>BsmtFullBath and BsmtHalfBath</b><br>\n",
    "In fact, the two variables commonly refer to the number of Bathrooms.<br>\n",
    "I can think of creating a dataset with the same meaning as fewer variables by combining variables with one variable (ex) BsmtFullBath + 0.5 * BsmtHalfBath).\n",
    "<br><br>\n",
    "<b>Fence</b><br>\n",
    "Fence is categorical and can be defined as a ranking variable because the item has a quality-related meaning.<br>\n",
    "However, it is divided into a private case and a Wood case.<br>\n",
    "Therefore, I can think that I can divide it into Privacy and Wood.\n",
    "<br><br>\n",
    "<b>MoSold and YrSold</b><br>\n",
    "I treated variables such as YearBuild and YearEmodAdd as continuous variables.<br>\n",
    "But when I checked the number of values in MoSold and YrSold (I used value_counts), the number of values were small enough to be treated as order variables.<br>\n",
    "Therefore, the two variables were defined as order variables.<br><br>\n",
    "I conducted the above search for all variables (if there is anything wrong or better idea, please comment).<br><br>\n",
    "Now we can define the types of all variables."
   ]
  },
  {
   "cell_type": "code",
   "execution_count": null,
   "metadata": {
    "execution": {
     "iopub.execute_input": "2021-10-23T18:02:21.908809Z",
     "iopub.status.busy": "2021-10-23T18:02:21.907496Z",
     "iopub.status.idle": "2021-10-23T18:02:21.923905Z",
     "shell.execute_reply": "2021-10-23T18:02:21.922725Z",
     "shell.execute_reply.started": "2021-10-23T18:02:21.908751Z"
    }
   },
   "outputs": [],
   "source": [
    "nominal_vars = [\n",
    "    'MSZoning', 'LandContour', 'Utilities',\n",
    "    'LotConfig', 'Neighborhood', 'Condition1', 'Condition2', 'BldgType',\n",
    "    'HouseStyle', 'RoofStyle', 'RoofMatl', 'Exterior1st', \n",
    "    'Exterior2nd', 'MasVnrType', 'Foundation', 'Heating', 'Electrical', \n",
    "    'GarageType', 'MiscFeature', \n",
    "    'SaleType', 'SaleCondition'\n",
    "]"
   ]
  },
  {
   "cell_type": "code",
   "execution_count": null,
   "metadata": {
    "execution": {
     "iopub.execute_input": "2021-10-23T18:02:21.926132Z",
     "iopub.status.busy": "2021-10-23T18:02:21.925854Z",
     "iopub.status.idle": "2021-10-23T18:02:21.935077Z",
     "shell.execute_reply": "2021-10-23T18:02:21.934135Z",
     "shell.execute_reply.started": "2021-10-23T18:02:21.926103Z"
    }
   },
   "outputs": [],
   "source": [
    "order_vars = [\n",
    "    'OverallCond', 'ExterQual', 'ExterCond', 'BsmtQual', 'BsmtCond',\n",
    "    'BsmtExposure', 'BsmtFinType1', 'BsmtFinType2', 'HeatingQC', 'KitchenQual',\n",
    "    'FireplaceQu', 'GarageQual', 'GarageCond', 'PoolQC', 'Fence', 'Street', 'Alley',\n",
    "    'LandSlope', 'Functional', 'GarageFinish', 'MoSold', 'YrSold', 'PavedDrive', \n",
    "    'CentralAir', 'LotShape', 'MSSubClass', \n",
    "]"
   ]
  },
  {
   "cell_type": "code",
   "execution_count": 11,
   "metadata": {
    "execution": {
     "iopub.execute_input": "2021-10-23T18:02:26.4485Z",
     "iopub.status.busy": "2021-10-23T18:02:26.447593Z",
     "iopub.status.idle": "2021-10-23T18:02:26.453955Z",
     "shell.execute_reply": "2021-10-23T18:02:26.453326Z",
     "shell.execute_reply.started": "2021-10-23T18:02:26.448448Z"
    }
   },
   "outputs": [],
   "source": [
    "continuous_vars = [\n",
    "    'LotFrontage', 'LotArea', 'OverallQual', 'YearBuilt', 'YearRemodAdd', \n",
    "    'MasVnrArea', 'BsmtFinSF1', 'BsmtFinSF2', 'BsmtUnfSF', 'TotalBsmtSF', '1stFlrSF', \n",
    "    '2ndFlrSF', 'LowQualFinSF', 'GrLivArea', 'BsmtFullBath', 'BsmtHalfBath', 'FullBath', \n",
    "    'HalfBath', 'BedroomAbvGr', 'KitchenAbvGr', 'TotRmsAbvGrd', 'Fireplaces', 'GarageYrBlt',\n",
    "    'GarageCars', 'GarageArea', 'WoodDeckSF', 'OpenPorchSF', 'EnclosedPorch', \n",
    "    '3SsnPorch', 'ScreenPorch', 'PoolArea', 'MiscVal'\n",
    "]"
   ]
  },
  {
   "cell_type": "markdown",
   "metadata": {},
   "source": [
    "+After determining the types of all variables, I checked if there were any missing variables.<br><br>\n",
    "I compared the number of columns in the training set with the sum of self-defined variables and found that the number was different(Except Id, SalePrice).<br>\n",
    "I found in the data_description that the variables expressed in Bedroom and Kitchen are actually Bedroom AbvGr and Kitchen AbvGr. These were defined as continuous variables."
   ]
  },
  {
   "cell_type": "code",
   "execution_count": null,
   "metadata": {
    "execution": {
     "iopub.execute_input": "2021-10-23T18:02:33.0096Z",
     "iopub.status.busy": "2021-10-23T18:02:33.008354Z",
     "iopub.status.idle": "2021-10-23T18:02:33.0165Z",
     "shell.execute_reply": "2021-10-23T18:02:33.015851Z",
     "shell.execute_reply.started": "2021-10-23T18:02:33.009535Z"
    }
   },
   "outputs": [],
   "source": [
    "len(train.columns) == (len(nominal_vars) + len(order_vars)\n",
    "                       + len(continuous_vars)) + len(set(['Id', 'SalePrice']))"
   ]
  },
  {
   "cell_type": "markdown",
   "metadata": {},
   "source": [
    "<p>\n",
    "    <font color='red'>Conclusion:</font><br>\n",
    "    We defined the types of all variables.<br>\n",
    "    This process can be effective in the pretreatment part later.\n",
    "</p>"
   ]
  },
  {
   "cell_type": "markdown",
   "metadata": {},
   "source": [
    "<h3 style=\"text-align:center;\">3. Exploring independent variables - Check the missing values</h3><br>\n",
    "<h4>Outline</h4>\n",
    "We need to make sure that missing values exist for all variables.<br>\n",
    "isnull().Sum() can be used to find missing values."
   ]
  },
  {
   "cell_type": "code",
   "execution_count": 14,
   "metadata": {
    "execution": {
     "iopub.execute_input": "2021-10-23T18:02:38.11959Z",
     "iopub.status.busy": "2021-10-23T18:02:38.118596Z",
     "iopub.status.idle": "2021-10-23T18:02:38.164294Z",
     "shell.execute_reply": "2021-10-23T18:02:38.163436Z",
     "shell.execute_reply.started": "2021-10-23T18:02:38.119533Z"
    }
   },
   "outputs": [],
   "source": [
    "all_data = pd.concat((train, test)).drop(['SalePrice'], axis=1)\n",
    "cnt_missing = all_data.isnull().sum().sort_values(ascending=False)\n",
    "cnt_percent = cnt_missing / all_data.shape[0]\n",
    "missing_table = pd.DataFrame([cnt_missing, cnt_percent], \n",
    "                             index=['missing count', 'missing percent']).T\n",
    "missing_table = missing_table[missing_table['missing count'] > 0]"
   ]
  },
  {
   "cell_type": "code",
   "execution_count": 15,
   "metadata": {
    "execution": {
     "iopub.execute_input": "2021-10-23T18:15:59.779967Z",
     "iopub.status.busy": "2021-10-23T18:15:59.77964Z",
     "iopub.status.idle": "2021-10-23T18:15:59.794957Z",
     "shell.execute_reply": "2021-10-23T18:15:59.79384Z",
     "shell.execute_reply.started": "2021-10-23T18:15:59.779934Z"
    }
   },
   "outputs": [
    {
     "data": {
      "text/html": [
       "<div>\n",
       "<style scoped>\n",
       "    .dataframe tbody tr th:only-of-type {\n",
       "        vertical-align: middle;\n",
       "    }\n",
       "\n",
       "    .dataframe tbody tr th {\n",
       "        vertical-align: top;\n",
       "    }\n",
       "\n",
       "    .dataframe thead th {\n",
       "        text-align: right;\n",
       "    }\n",
       "</style>\n",
       "<table border=\"1\" class=\"dataframe\">\n",
       "  <thead>\n",
       "    <tr style=\"text-align: right;\">\n",
       "      <th></th>\n",
       "      <th>missing count</th>\n",
       "      <th>missing percent</th>\n",
       "    </tr>\n",
       "  </thead>\n",
       "  <tbody>\n",
       "    <tr>\n",
       "      <th>PoolQC</th>\n",
       "      <td>2909.0</td>\n",
       "      <td>0.996574</td>\n",
       "    </tr>\n",
       "    <tr>\n",
       "      <th>MiscFeature</th>\n",
       "      <td>2814.0</td>\n",
       "      <td>0.964029</td>\n",
       "    </tr>\n",
       "    <tr>\n",
       "      <th>Alley</th>\n",
       "      <td>2721.0</td>\n",
       "      <td>0.932169</td>\n",
       "    </tr>\n",
       "    <tr>\n",
       "      <th>Fence</th>\n",
       "      <td>2348.0</td>\n",
       "      <td>0.804385</td>\n",
       "    </tr>\n",
       "    <tr>\n",
       "      <th>FireplaceQu</th>\n",
       "      <td>1420.0</td>\n",
       "      <td>0.486468</td>\n",
       "    </tr>\n",
       "    <tr>\n",
       "      <th>LotFrontage</th>\n",
       "      <td>486.0</td>\n",
       "      <td>0.166495</td>\n",
       "    </tr>\n",
       "    <tr>\n",
       "      <th>GarageYrBlt</th>\n",
       "      <td>159.0</td>\n",
       "      <td>0.054471</td>\n",
       "    </tr>\n",
       "    <tr>\n",
       "      <th>GarageFinish</th>\n",
       "      <td>159.0</td>\n",
       "      <td>0.054471</td>\n",
       "    </tr>\n",
       "    <tr>\n",
       "      <th>GarageQual</th>\n",
       "      <td>159.0</td>\n",
       "      <td>0.054471</td>\n",
       "    </tr>\n",
       "    <tr>\n",
       "      <th>GarageCond</th>\n",
       "      <td>159.0</td>\n",
       "      <td>0.054471</td>\n",
       "    </tr>\n",
       "    <tr>\n",
       "      <th>GarageType</th>\n",
       "      <td>157.0</td>\n",
       "      <td>0.053786</td>\n",
       "    </tr>\n",
       "    <tr>\n",
       "      <th>BsmtExposure</th>\n",
       "      <td>82.0</td>\n",
       "      <td>0.028092</td>\n",
       "    </tr>\n",
       "    <tr>\n",
       "      <th>BsmtCond</th>\n",
       "      <td>82.0</td>\n",
       "      <td>0.028092</td>\n",
       "    </tr>\n",
       "    <tr>\n",
       "      <th>BsmtQual</th>\n",
       "      <td>81.0</td>\n",
       "      <td>0.027749</td>\n",
       "    </tr>\n",
       "    <tr>\n",
       "      <th>BsmtFinType2</th>\n",
       "      <td>80.0</td>\n",
       "      <td>0.027407</td>\n",
       "    </tr>\n",
       "    <tr>\n",
       "      <th>BsmtFinType1</th>\n",
       "      <td>79.0</td>\n",
       "      <td>0.027064</td>\n",
       "    </tr>\n",
       "    <tr>\n",
       "      <th>MasVnrType</th>\n",
       "      <td>24.0</td>\n",
       "      <td>0.008222</td>\n",
       "    </tr>\n",
       "    <tr>\n",
       "      <th>MasVnrArea</th>\n",
       "      <td>23.0</td>\n",
       "      <td>0.007879</td>\n",
       "    </tr>\n",
       "    <tr>\n",
       "      <th>MSZoning</th>\n",
       "      <td>4.0</td>\n",
       "      <td>0.001370</td>\n",
       "    </tr>\n",
       "    <tr>\n",
       "      <th>Functional</th>\n",
       "      <td>2.0</td>\n",
       "      <td>0.000685</td>\n",
       "    </tr>\n",
       "  </tbody>\n",
       "</table>\n",
       "</div>"
      ],
      "text/plain": [
       "              missing count  missing percent\n",
       "PoolQC               2909.0         0.996574\n",
       "MiscFeature          2814.0         0.964029\n",
       "Alley                2721.0         0.932169\n",
       "Fence                2348.0         0.804385\n",
       "FireplaceQu          1420.0         0.486468\n",
       "LotFrontage           486.0         0.166495\n",
       "GarageYrBlt           159.0         0.054471\n",
       "GarageFinish          159.0         0.054471\n",
       "GarageQual            159.0         0.054471\n",
       "GarageCond            159.0         0.054471\n",
       "GarageType            157.0         0.053786\n",
       "BsmtExposure           82.0         0.028092\n",
       "BsmtCond               82.0         0.028092\n",
       "BsmtQual               81.0         0.027749\n",
       "BsmtFinType2           80.0         0.027407\n",
       "BsmtFinType1           79.0         0.027064\n",
       "MasVnrType             24.0         0.008222\n",
       "MasVnrArea             23.0         0.007879\n",
       "MSZoning                4.0         0.001370\n",
       "Functional              2.0         0.000685"
      ]
     },
     "execution_count": 15,
     "metadata": {},
     "output_type": "execute_result"
    }
   ],
   "source": [
    "missing_table.iloc[:20]"
   ]
  },
  {
   "cell_type": "code",
   "execution_count": 16,
   "metadata": {
    "execution": {
     "iopub.execute_input": "2021-10-23T18:02:38.822655Z",
     "iopub.status.busy": "2021-10-23T18:02:38.821708Z",
     "iopub.status.idle": "2021-10-23T18:02:39.463659Z",
     "shell.execute_reply": "2021-10-23T18:02:39.46254Z",
     "shell.execute_reply.started": "2021-10-23T18:02:38.82261Z"
    }
   },
   "outputs": [
    {
     "data": {
      "image/png": "[encoded data removed]",
      "text/plain": [
       "<Figure size 1440x576 with 1 Axes>"
      ]
     },
     "metadata": {},
     "output_type": "display_data"
    }
   ],
   "source": [
    "f, ax = plt.subplots(figsize=(20, 8))\n",
    "sns.barplot(x=missing_table.index, y=missing_table['missing percent'])\n",
    "plt.title('Missing Percent by Values', size=20)\n",
    "plt.xlabel('Values', size=15)\n",
    "plt.ylabel('Percent', size=15)\n",
    "plt.xticks(rotation='90')\n",
    "plt.show()"
   ]
  },
  {
   "cell_type": "markdown",
   "metadata": {},
   "source": [
    "<p>\n",
    "    <font color='red'>Conclusion:</font><br>\n",
    "    Many variables have missing values.<br>\n",
    "    Some variables have extremely large amounts of missing values.<br>\n",
    "    We previously found category variables with negative meanings.<br>\n",
    "    Maybe we can handle them easily.\n",
    "</p>"
   ]
  },
  {
   "cell_type": "markdown",
   "metadata": {},
   "source": [
    "<h3 style=\"text-align:center;\">4. Exploring independent variables - distribution</h3><br>\n",
    "I used histogram and barchat to see the distribution of continuous and categorical variables."
   ]
  },
  {
   "cell_type": "markdown",
   "metadata": {},
   "source": [
    "Draw a histogram of continuous variables."
   ]
  },
  {
   "cell_type": "code",
   "execution_count": 17,
   "metadata": {
    "execution": {
     "iopub.execute_input": "2021-10-23T18:09:10.692725Z",
     "iopub.status.busy": "2021-10-23T18:09:10.692144Z",
     "iopub.status.idle": "2021-10-23T18:09:22.471297Z",
     "shell.execute_reply": "2021-10-23T18:09:22.470398Z",
     "shell.execute_reply.started": "2021-10-23T18:09:10.692689Z"
    }
   },
   "outputs": [
    {
     "data": {
      "image/png": "[encoded data removed]",
      "text/plain": [
       "<Figure size 1800x1440 with 36 Axes>"
      ]
     },
     "metadata": {},
     "output_type": "display_data"
    }
   ],
   "source": [
    "f, ax = plt.subplots(6, 6, figsize=(25, 20))\n",
    "for i, c in enumerate(continuous_vars):\n",
    "    sns.distplot(all_data[c], fit=norm, ax=ax[i//6, i%6])"
   ]
  },
  {
   "cell_type": "markdown",
   "metadata": {},
   "source": [
    "Some variables seem to be able to follow a normal distribution through log transformation or box cox transformation. Some variables have zero. It seems that +1 should be done when converting.\n",
    "\n",
    "Draw a bar chart for categorical variables.\n",
    "\n",
    "Some variables were extremely biased toward one value (0). So they don't seem to be very important variables."
   ]
  },
  {
   "cell_type": "code",
   "execution_count": null,
   "metadata": {
    "execution": {
     "iopub.execute_input": "2021-10-23T18:09:53.021864Z",
     "iopub.status.busy": "2021-10-23T18:09:53.021315Z",
     "iopub.status.idle": "2021-10-23T18:09:57.482971Z",
     "shell.execute_reply": "2021-10-23T18:09:57.481987Z",
     "shell.execute_reply.started": "2021-10-23T18:09:53.021827Z"
    }
   },
   "outputs": [],
   "source": [
    "f, ax = plt.subplots(5, 5, figsize=(25, 15))\n",
    "for i, c in enumerate(nominal_vars):\n",
    "    g = sns.barplot(data=pd.DataFrame(all_data[c].value_counts()).reset_index(), x='index', y=c, ax=ax[i//5, i%5])\n",
    "    g.set(xticks=[])\n",
    "    g.set(title=c)"
   ]
  },
  {
   "cell_type": "markdown",
   "metadata": {
    "execution": {
     "iopub.execute_input": "2021-10-19T04:10:46.609454Z",
     "iopub.status.busy": "2021-10-19T04:10:46.609145Z",
     "iopub.status.idle": "2021-10-19T04:10:46.639747Z",
     "shell.execute_reply": "2021-10-19T04:10:46.638655Z",
     "shell.execute_reply.started": "2021-10-19T04:10:46.609425Z"
    }
   },
   "source": [
    "<h3 style=\"text-align:center;\">5. Bivariate search - correlation analysis, heat map, finding important variables</h3><br>\n",
    "<h4>Outline</h4>\n",
    "Correlation analysis is a technique to find out the correlation between the two variables.<br>\n",
    "We can find variables with relatively strong <b>'linearity'</b> using the correlation coefficient with the dependent variable.<br>\n",
    "I designated these variables as relatively important variables and tested <b>'homogeneity'</b>.<br>\n",
    "In addition, I tested <b>'independence'</b> through the correlation between independent variables.<br>\n",
    "<br>\n",
    "<h4>Some assumptions for a good regression model</h4>\n",
    "Previously, we checked the normality of the dependent variable and the residual.<br>\n",
    "In addition, several more assumptions are needed.<br>\n",
    "<ol>\n",
    "    <li>\n",
    "        <b>Linearity</b>:<br>\n",
    "        It is recommended that the independent variable and the dependent variable have a linear relationship.<br>\n",
    "        The 'variable transformation' or 'dimensional increase' method can help to have linearity.\n",
    "    </li>\n",
    "    <li>\n",
    "        <b>homogeneity:</b>:<br>\n",
    "        The variance of the residuals must be constant.<br>\n",
    "        Drawing a residual diagram for an independent variable can test the equal variance.<br>\n",
    "        If the points follow randomly based on the baseline, they satisfy the equal variance.\n",
    "    </li>\n",
    "    <li>\n",
    "        <b>Independence</b>:<br>\n",
    "        Independence means that there should be no correlation between independent variables.<br>\n",
    "        The high correlation between independent variables causes multicollinearity. As a result, the performance of the model becomes incredible.\n",
    "    </li>\n",
    "    <li>\n",
    "        <b>Irregularity</b>:<br>\n",
    "        There should be no correlation between residuals.<br>\n",
    "        Durbin-Watson' helps test for non-correlation.\n",
    "    </li>\n",
    "</ol>"
   ]
  },
  {
   "cell_type": "code",
   "execution_count": null,
   "metadata": {
    "execution": {
     "iopub.execute_input": "2021-10-23T18:03:11.2665Z",
     "iopub.status.busy": "2021-10-23T18:03:11.265376Z",
     "iopub.status.idle": "2021-10-23T18:03:11.831444Z",
     "shell.execute_reply": "2021-10-23T18:03:11.830561Z",
     "shell.execute_reply.started": "2021-10-23T18:03:11.266431Z"
    }
   },
   "outputs": [],
   "source": [
    "f, ax = plt.subplots(figsize=(10, 7))\n",
    "highcorr_vars = (abs(train.corr().SalePrice).sort_values(ascending=False)[:7]).index\n",
    "sns.heatmap(train[highcorr_vars].corr(), annot=True)\n",
    "plt.show()"
   ]
  },
  {
   "cell_type": "markdown",
   "metadata": {},
   "source": [
    "I selected only the top 10 variables with the highest correlation with the dependent variable and conducted the correlation analysis again.\n",
    "\n",
    "\"OverallQual\" and \"GrLiv Area\" are the strongest variables.\n",
    "\n",
    "Garage Cars and Garage Area are also highly correlated. High correlation between independent variables is not good because it causes multicollinearity."
   ]
  },
  {
   "cell_type": "code",
   "execution_count": null,
   "metadata": {
    "execution": {
     "iopub.execute_input": "2021-10-23T18:03:13.680195Z",
     "iopub.status.busy": "2021-10-23T18:03:13.67935Z",
     "iopub.status.idle": "2021-10-23T18:03:13.690106Z",
     "shell.execute_reply": "2021-10-23T18:03:13.689261Z",
     "shell.execute_reply.started": "2021-10-23T18:03:13.680155Z"
    }
   },
   "outputs": [],
   "source": [
    "def hypo_test(x, y, cat=False):\n",
    "    f, ax = plt.subplots(1, 4, figsize=(25, 5))\n",
    "    if cat:\n",
    "        sns.boxplot(x=train[x], y=train[y], ax=ax[0])\n",
    "    else:\n",
    "        sns.scatterplot(x=train[x], y=train[y], ax=ax[0])\n",
    "        sns.regplot(x=train[x], y=train[y], ax=ax[0])\n",
    "    sns.residplot(x=train[x], y=train[y], ax=ax[1])\n",
    "    sns.distplot(train[x], fit=norm, ax=ax[2])\n",
    "    probplot(train[x], plot=ax[3])\n",
    "    plt.show()"
   ]
  },
  {
   "cell_type": "markdown",
   "metadata": {},
   "source": [
    "I used the following chart for some tests.<br>\n",
    "Scatter, Boxplot, resid plot, histogram, QQplot"
   ]
  },
  {
   "cell_type": "code",
   "execution_count": null,
   "metadata": {
    "execution": {
     "iopub.execute_input": "2021-10-23T18:03:15.839437Z",
     "iopub.status.busy": "2021-10-23T18:03:15.839016Z",
     "iopub.status.idle": "2021-10-23T18:03:17.028742Z",
     "shell.execute_reply": "2021-10-23T18:03:17.02748Z",
     "shell.execute_reply.started": "2021-10-23T18:03:15.839408Z"
    }
   },
   "outputs": [],
   "source": [
    "hypo_test('OverallQual', 'SalePrice', True)"
   ]
  },
  {
   "cell_type": "code",
   "execution_count": null,
   "metadata": {
    "execution": {
     "iopub.execute_input": "2021-10-23T18:03:18.509732Z",
     "iopub.status.busy": "2021-10-23T18:03:18.509418Z",
     "iopub.status.idle": "2021-10-23T18:03:19.70309Z",
     "shell.execute_reply": "2021-10-23T18:03:19.702078Z",
     "shell.execute_reply.started": "2021-10-23T18:03:18.509702Z"
    }
   },
   "outputs": [],
   "source": [
    "hypo_test('GrLivArea', 'SalePrice')"
   ]
  },
  {
   "cell_type": "code",
   "execution_count": null,
   "metadata": {
    "execution": {
     "iopub.execute_input": "2021-10-23T18:03:19.705102Z",
     "iopub.status.busy": "2021-10-23T18:03:19.70474Z",
     "iopub.status.idle": "2021-10-23T18:03:20.893555Z",
     "shell.execute_reply": "2021-10-23T18:03:20.8927Z",
     "shell.execute_reply.started": "2021-10-23T18:03:19.705068Z"
    }
   },
   "outputs": [],
   "source": [
    "hypo_test('GarageArea', 'SalePrice')"
   ]
  },
  {
   "cell_type": "code",
   "execution_count": null,
   "metadata": {
    "execution": {
     "iopub.execute_input": "2021-10-23T18:03:25.748744Z",
     "iopub.status.busy": "2021-10-23T18:03:25.748308Z",
     "iopub.status.idle": "2021-10-23T18:03:26.471114Z",
     "shell.execute_reply": "2021-10-23T18:03:26.470226Z",
     "shell.execute_reply.started": "2021-10-23T18:03:25.748713Z"
    }
   },
   "outputs": [],
   "source": [
    "f, ax = plt.subplots(1, 2, figsize=(12, 5))\n",
    "sns.scatterplot(y=train.GarageArea, x=train.GarageCars, ax=ax[0])\n",
    "sns.scatterplot(x=train['1stFlrSF'], y=train.TotalBsmtSF, ax=ax[1])\n",
    "plt.show()"
   ]
  },
  {
   "cell_type": "code",
   "execution_count": null,
   "metadata": {
    "execution": {
     "iopub.execute_input": "2021-10-23T18:03:28.73592Z",
     "iopub.status.busy": "2021-10-23T18:03:28.73557Z",
     "iopub.status.idle": "2021-10-23T18:03:29.288633Z",
     "shell.execute_reply": "2021-10-23T18:03:29.28766Z",
     "shell.execute_reply.started": "2021-10-23T18:03:28.735866Z"
    }
   },
   "outputs": [],
   "source": [
    "skews = abs(all_data.skew()).sort_values(ascending=False)\n",
    "kurts = abs(all_data.kurt()).sort_values(ascending=False)\n",
    "skew_kurt_table = pd.DataFrame([skews, kurts], index=['skew', 'kurt']).T\n",
    "ntv = skew_kurt_table[skew_kurt_table['skew'] > 0.5].index\n",
    "\n",
    "plt.subplots(figsize=(15, 5))\n",
    "sns.barplot(x=skew_kurt_table.loc[ntv].index, y=skew_kurt_table.loc[ntv]['skew'])\n",
    "plt.xticks(rotation='90')\n",
    "plt.title('skew by variable', size=20)\n",
    "plt.xlabel('vars', size=15)\n",
    "plt.ylabel('skew', size=15)\n",
    "plt.show()"
   ]
  },
  {
   "cell_type": "markdown",
   "metadata": {},
   "source": [
    "<p>\n",
    "    <font color='red'>Conclusion:</font><br>\n",
    "    I analyzed the correlation of each variable for SalePrice and confirmed that variables such as OverallQual, GrLivArea, and CarArea had high linearity.<br>\n",
    "    Linearity was visualized using a box plot and scatter plot.<br>\n",
    "    And I thought these variables were important variables, so I drew a residual diagram for the homodis variance test, a histogram for the normality test, and a QQ plot for them.<br>\n",
    "    <br>\n",
    "    Each variable does not satisfy the equal variance because the points of the residual degree are not randomly sprayed and have some pattern or shape.<br>\n",
    "    I could see that each variable had no ideal normality through the results of the histogram and QQplot.<br>\n",
    "    The above problems may be solved through log transformation or boxcox transformation.<br>\n",
    "    <br>\n",
    "    It was also confirmed that some independent variables were correlated with each other. As expected, I visualized it as a scatter plot.<br>\n",
    "    The high correlation between independent variables causes multicollinearity. The explanatory power of the model loses its reliability.<br>\n",
    "    I decided to use regulation rather than choosing variables or using dimension reduction right away.<br>\n",
    "    The linear model may solve the above problem through regulation (normal1, normal2).<br>\n",
    "    <br>\n",
    "    It was difficult to visualize all variables, so I looked at the independent variables that required conversion through skewness and kurtosis.\n",
    "</p>"
   ]
  },
  {
   "cell_type": "markdown",
   "metadata": {},
   "source": [
    "Draw pair plot!"
   ]
  },
  {
   "cell_type": "code",
   "execution_count": null,
   "metadata": {
    "execution": {
     "iopub.execute_input": "2021-10-23T18:13:34.479167Z",
     "iopub.status.busy": "2021-10-23T18:13:34.478662Z",
     "iopub.status.idle": "2021-10-23T18:13:44.777022Z",
     "shell.execute_reply": "2021-10-23T18:13:44.775862Z",
     "shell.execute_reply.started": "2021-10-23T18:13:34.479132Z"
    }
   },
   "outputs": [],
   "source": [
    "sns.pairplot(train[highcorr_vars])\n",
    "plt.show()"
   ]
  },
  {
   "cell_type": "markdown",
   "metadata": {},
   "source": [
    "<h2 style='text-align: center'>Preprocessing</h2>"
   ]
  },
  {
   "cell_type": "markdown",
   "metadata": {},
   "source": [
    "<h3 style=\"text-align:center;\">1. Remove ID</h3><br>\n",
    "<h4>Outline</h4>\n",
    "I removed the ID variable that was not needed for analysis."
   ]
  },
  {
   "cell_type": "code",
   "execution_count": null,
   "metadata": {
    "execution": {
     "iopub.execute_input": "2021-10-23T18:15:26.16931Z",
     "iopub.status.busy": "2021-10-23T18:15:26.168958Z",
     "iopub.status.idle": "2021-10-23T18:15:26.180633Z",
     "shell.execute_reply": "2021-10-23T18:15:26.179435Z",
     "shell.execute_reply.started": "2021-10-23T18:15:26.16927Z"
    }
   },
   "outputs": [],
   "source": [
    "train_id = train.Id\n",
    "test_id = test.Id\n",
    "train.drop(['Id'], axis=1, inplace=True)\n",
    "test.drop(['Id'], axis=1, inplace=True)"
   ]
  },
  {
   "cell_type": "markdown",
   "metadata": {},
   "source": [
    "<h3 style=\"text-align:center;\">2. Clensing - Outlier</h3><br>\n",
    "<h4>Outline</h4>\n",
    "A dataset with outliers can degrade the performance of the model.<br>\n",
    "It is optional to remove outliers existing in the training data. I found two outliers in the scatter plot of the variable with a strong correlation with the dependent variable.<br>\n",
    "The two points were located in a place far off the straight line.<br><br>\n",
    "\n",
    "<h4>Finding outliers</h4>\n",
    "<ol>\n",
    "    <li><b>Statistics for univariate - normal distribution, IQR:</b><br>For independent variables, points outside the threshold can be judged as outliers using normal distributions, likelihood functions, IQR, etc.<br>\n",
    "        However, it cannot be judged that the point outside the threshold is always an outlier. For example, the scatterplot of GrLiv Area has two points apart at the top right.<br>\n",
    "        These differ greatly in value from other points, but they are important because they can prove linearity.<br>Therefore, it is necessary to carefully deal with the determination of outliers for univariate quantities.</li>\n",
    "    <li><b>Scattering point:</b><br>If you draw a scatterplot of two variables with a pattern (e.g., a linear relationship), you can intuitively find outliers.<br>\n",
    "        I previously found some variables that have a strong correlation with the dependent variable. Two outliers were found through GrLiv Area's scatter plot.</li>\n",
    "    <li><b>Clustering - DBSCAN:</b><br>DBSCAN can detect outliers using distance.<br>\n",
    "        DBSCAN has a set range (epsilon) and required peripheral points (min_samples), and generates clusters by calculating key points and peripheral points.<br>\n",
    "        Points that do not have key points around and do not have the minimum required neighboring points are outliers.<br>\n",
    "        I applied scaling to GrLiv Area and SalePrice and tried DBSCAN.<br></li>\n",
    "</ol>"
   ]
  },
  {
   "cell_type": "code",
   "execution_count": null,
   "metadata": {
    "execution": {
     "iopub.execute_input": "2021-10-23T18:15:28.9207Z",
     "iopub.status.busy": "2021-10-23T18:15:28.920426Z",
     "iopub.status.idle": "2021-10-23T18:15:29.647768Z",
     "shell.execute_reply": "2021-10-23T18:15:29.647113Z",
     "shell.execute_reply.started": "2021-10-23T18:15:28.920672Z"
    }
   },
   "outputs": [],
   "source": [
    "plt.subplots(figsize=(20, 10))\n",
    "outlier_idx = train.GrLivArea.sort_values(ascending=False)[:2].index\n",
    "sns.scatterplot(x=train['GrLivArea'], y=train.SalePrice)\n",
    "sns.scatterplot(x=train.iloc[outlier_idx]['GrLivArea'], y=train.iloc[outlier_idx].SalePrice, color='r', s=300, alpha=.6)\n",
    "plt.show()"
   ]
  },
  {
   "cell_type": "code",
   "execution_count": null,
   "metadata": {
    "execution": {
     "iopub.execute_input": "2021-10-23T18:16:17.258525Z",
     "iopub.status.busy": "2021-10-23T18:16:17.257712Z",
     "iopub.status.idle": "2021-10-23T18:16:17.30933Z",
     "shell.execute_reply": "2021-10-23T18:16:17.308376Z",
     "shell.execute_reply.started": "2021-10-23T18:16:17.258485Z"
    }
   },
   "outputs": [],
   "source": [
    "scaled_data = pd.DataFrame(StandardScaler().fit_transform(train[['GrLivArea', 'SalePrice']]), columns=['GrLivArea', 'SalePrice'])\n",
    "dbscan_model = DBSCAN(eps=1.5, min_samples=3).fit(scaled_data)\n",
    "tmp = pd.concat((scaled_data, pd.DataFrame(dbscan_model.labels_, columns=['label'])), axis=1)"
   ]
  },
  {
   "cell_type": "code",
   "execution_count": null,
   "metadata": {
    "execution": {
     "iopub.execute_input": "2021-10-23T18:16:18.25566Z",
     "iopub.status.busy": "2021-10-23T18:16:18.255387Z",
     "iopub.status.idle": "2021-10-23T18:16:18.264362Z",
     "shell.execute_reply": "2021-10-23T18:16:18.263396Z",
     "shell.execute_reply.started": "2021-10-23T18:16:18.255633Z"
    }
   },
   "outputs": [],
   "source": [
    "tmp.label.value_counts()"
   ]
  },
  {
   "cell_type": "code",
   "execution_count": null,
   "metadata": {
    "execution": {
     "iopub.execute_input": "2021-10-23T18:16:19.136089Z",
     "iopub.status.busy": "2021-10-23T18:16:19.135746Z",
     "iopub.status.idle": "2021-10-23T18:16:21.109444Z",
     "shell.execute_reply": "2021-10-23T18:16:21.108277Z",
     "shell.execute_reply.started": "2021-10-23T18:16:19.136057Z"
    }
   },
   "outputs": [],
   "source": [
    "sns.pairplot(tmp, hue='label', size=5)\n",
    "plt.show()"
   ]
  },
  {
   "cell_type": "code",
   "execution_count": null,
   "metadata": {
    "execution": {
     "iopub.execute_input": "2021-10-23T18:16:21.718634Z",
     "iopub.status.busy": "2021-10-23T18:16:21.718289Z",
     "iopub.status.idle": "2021-10-23T18:16:21.727478Z",
     "shell.execute_reply": "2021-10-23T18:16:21.726379Z",
     "shell.execute_reply.started": "2021-10-23T18:16:21.718602Z"
    }
   },
   "outputs": [],
   "source": [
    "train.drop(train.GrLivArea.sort_values(ascending=False)[:2].index, axis=0, inplace=True)"
   ]
  },
  {
   "cell_type": "markdown",
   "metadata": {},
   "source": [
    "<p>\n",
    "    <font color='red'>Conclusion:</font><br>\n",
    "    Two outliers were found through the scatterplot. Two points were removed.<br>\n",
    "    In the case of DBSCAN, a total of 4 points were judged as outliers.\n",
    "</p>"
   ]
  },
  {
   "cell_type": "markdown",
   "metadata": {},
   "source": [
    "<h3 style=\"text-align:center;\">3. Train, Test merge, separating dependent variables.</h3><br>\n",
    "<h4>Outline</h4>\n",
    "I removed outliers from the training data. Now I combine with the test data. The dependent variable is separated separately."
   ]
  },
  {
   "cell_type": "code",
   "execution_count": null,
   "metadata": {
    "execution": {
     "iopub.execute_input": "2021-10-23T18:16:25.307651Z",
     "iopub.status.busy": "2021-10-23T18:16:25.307355Z",
     "iopub.status.idle": "2021-10-23T18:16:25.336649Z",
     "shell.execute_reply": "2021-10-23T18:16:25.335964Z",
     "shell.execute_reply.started": "2021-10-23T18:16:25.307622Z"
    }
   },
   "outputs": [],
   "source": [
    "train_size = train.shape[0]\n",
    "y_train = train.SalePrice.values\n",
    "all_data = pd.concat((train, test), axis=0).reset_index(drop=True)\n",
    "all_data.drop(['SalePrice'], axis=1, inplace=True)"
   ]
  },
  {
   "cell_type": "code",
   "execution_count": null,
   "metadata": {
    "execution": {
     "iopub.execute_input": "2021-10-23T18:16:26.465657Z",
     "iopub.status.busy": "2021-10-23T18:16:26.464981Z",
     "iopub.status.idle": "2021-10-23T18:16:26.473554Z",
     "shell.execute_reply": "2021-10-23T18:16:26.472451Z",
     "shell.execute_reply.started": "2021-10-23T18:16:26.465613Z"
    }
   },
   "outputs": [],
   "source": [
    "train.shape, test.shape, all_data.shape, y_train.shape"
   ]
  },
  {
   "cell_type": "markdown",
   "metadata": {},
   "source": [
    "<h3 style=\"text-align:center;\">4. Clensing - Missing Value</h3><br>\n",
    "<h4>Outline</h4>\n",
    "Missing values are objects that must be removed. The missing values are processed based on the understanding of each independent variable.\n",
    "<br><br>\n",
    "<h4>How to deal with missing values.</h4>\n",
    "<ol>\n",
    "    <li><b>Delete:</b><br>\n",
    "        It is the easiest and most powerful way. Clear rows or columns. However, avoid erasing rows because missing values may also exist in the test data.<br>\n",
    "        Clearing the columns risks removing important variables, so avoid them if possible.</li>\n",
    "    <li><b>Replace a specific value:</b><br>\n",
    "        It is a way to try if you have knowledge of variables. For example, if there are extremely many missing values of iso-interstitial variables that can have negative meanings,<br>\n",
    "        Missing values are likely to have a negative meaning.\n",
    "    <li><b>Replacement of central propensity:</b><br>\n",
    "        It can be replaced with a central tendency value such as an average, a median value, and a minimum value. It is possible to replace the continuous variable with the median value and the category variable with the lowest value.</li>\n",
    "    <li><b>Other than that: Simple probability replacement, multiple confrontation method, etc.</b><br>\n",
    "</ol>\n",
    "After looking at the explanation of each variable, I treated it as follows.<br>\n",
    "<ul>\n",
    "    <li>\n",
    "        Continuous: Select one relevant category variable and replace the median for each category.<br>or\n",
    "        Alternate to 0 if it is bound to be a missing value.\n",
    "    </li>\n",
    "    <li>\n",
    "        Category type: value_counts to identify the distribution and replace it with None if there is zero negative meaning, such as NA or POOL. or<br>Select one related category variable, identify the distribution of values for each category, and replace the poorest value.\n",
    "    </li>\n",
    "</ul>"
   ]
  },
  {
   "cell_type": "markdown",
   "metadata": {},
   "source": [
    "<p>\n",
    "    Variables that are currently missing.\n",
    "</p>"
   ]
  },
  {
   "cell_type": "code",
   "execution_count": null,
   "metadata": {
    "execution": {
     "iopub.execute_input": "2021-10-23T18:16:30.743529Z",
     "iopub.status.busy": "2021-10-23T18:16:30.743103Z",
     "iopub.status.idle": "2021-10-23T18:16:30.766745Z",
     "shell.execute_reply": "2021-10-23T18:16:30.765613Z",
     "shell.execute_reply.started": "2021-10-23T18:16:30.743499Z"
    }
   },
   "outputs": [],
   "source": [
    "all_data.columns[all_data.isnull().sum() > 0]"
   ]
  },
  {
   "cell_type": "markdown",
   "metadata": {},
   "source": [
    "ex1) LotFrontage is replaced by the median value per Neighborhood."
   ]
  },
  {
   "cell_type": "code",
   "execution_count": null,
   "metadata": {
    "execution": {
     "iopub.execute_input": "2021-10-23T18:16:32.826181Z",
     "iopub.status.busy": "2021-10-23T18:16:32.825893Z",
     "iopub.status.idle": "2021-10-23T18:16:33.245578Z",
     "shell.execute_reply": "2021-10-23T18:16:33.244699Z",
     "shell.execute_reply.started": "2021-10-23T18:16:32.826154Z"
    }
   },
   "outputs": [],
   "source": [
    "sns.scatterplot(x=all_data.Neighborhood, y=all_data.LotFrontage)\n",
    "plt.xticks(rotation='90')\n",
    "plt.show()"
   ]
  },
  {
   "cell_type": "markdown",
   "metadata": {},
   "source": [
    "ex2) Ally is a ranking variable that can have NA, and since these values have been treated as missing values, replace them with None."
   ]
  },
  {
   "cell_type": "code",
   "execution_count": null,
   "metadata": {
    "execution": {
     "iopub.execute_input": "2021-10-23T18:16:35.610402Z",
     "iopub.status.busy": "2021-10-23T18:16:35.609956Z",
     "iopub.status.idle": "2021-10-23T18:16:35.619394Z",
     "shell.execute_reply": "2021-10-23T18:16:35.618229Z",
     "shell.execute_reply.started": "2021-10-23T18:16:35.610357Z"
    }
   },
   "outputs": [],
   "source": [
    "all_data.Alley.value_counts()"
   ]
  },
  {
   "cell_type": "markdown",
   "metadata": {},
   "source": [
    "ex3) Utilities are extremely skewed to AllPub, so replace them with the lowest value."
   ]
  },
  {
   "cell_type": "code",
   "execution_count": null,
   "metadata": {
    "execution": {
     "iopub.execute_input": "2021-10-23T18:16:36.974649Z",
     "iopub.status.busy": "2021-10-23T18:16:36.974358Z",
     "iopub.status.idle": "2021-10-23T18:16:36.982872Z",
     "shell.execute_reply": "2021-10-23T18:16:36.982217Z",
     "shell.execute_reply.started": "2021-10-23T18:16:36.974621Z"
    }
   },
   "outputs": [],
   "source": [
    "all_data.Utilities.value_counts()"
   ]
  },
  {
   "cell_type": "markdown",
   "metadata": {},
   "source": [
    "ex4) Garage Area is a missing value in the absence of Garage, so it is replaced by 0."
   ]
  },
  {
   "cell_type": "code",
   "execution_count": null,
   "metadata": {
    "execution": {
     "iopub.execute_input": "2021-10-23T18:16:37.990841Z",
     "iopub.status.busy": "2021-10-23T18:16:37.990382Z",
     "iopub.status.idle": "2021-10-23T18:16:38.002386Z",
     "shell.execute_reply": "2021-10-23T18:16:38.001308Z",
     "shell.execute_reply.started": "2021-10-23T18:16:37.990807Z"
    }
   },
   "outputs": [],
   "source": [
    "all_data.GarageArea.value_counts()"
   ]
  },
  {
   "cell_type": "code",
   "execution_count": null,
   "metadata": {
    "execution": {
     "iopub.execute_input": "2021-10-23T18:16:56.49349Z",
     "iopub.status.busy": "2021-10-23T18:16:56.493031Z",
     "iopub.status.idle": "2021-10-23T18:16:56.545734Z",
     "shell.execute_reply": "2021-10-23T18:16:56.544644Z",
     "shell.execute_reply.started": "2021-10-23T18:16:56.493458Z"
    }
   },
   "outputs": [],
   "source": [
    "#all_data.MSZoning = all_data.groupby('Neighborhood').MSZoning.transform(lambda x: x.fillna(x.mode()[0]))\n",
    "all_data.LotFrontage = all_data.groupby('Neighborhood').LotFrontage.transform(lambda x: x.fillna(x.median()))\n",
    "#all_data.Exterior1st = all_data.groupby('Neighborhood').Exterior1st.transform(lambda x: x.fillna(x.mode()[0]))\n",
    "#all_data.Exterior2nd = all_data.groupby('Neighborhood').Exterior2nd.transform(lambda x: x.fillna(x.mode()[0]))\n",
    "\n",
    "for c in ['Alley', 'MasVnrType', 'BsmtQual', 'BsmtCond', 'BsmtExposure', 'BsmtFinType1',\n",
    "          'BsmtFinType2', 'FireplaceQu', 'GarageType', 'GarageFinish', 'GarageQual',\n",
    "          'GarageCond', 'PoolQC', 'Fence', 'MiscFeature']:\n",
    "    all_data[c] = all_data[c].fillna('None')\n",
    "    \n",
    "for c in ['MasVnrArea', 'BsmtFinSF1', 'BsmtFinSF2', 'BsmtUnfSF', 'TotalBsmtSF', 'BsmtFullBath',\n",
    "         'BsmtHalfBath', 'GarageYrBlt', 'GarageCars', 'GarageArea']:\n",
    "    all_data[c] = all_data[c].fillna(0)   \n",
    "    \n",
    "for c in ['MSZoning', 'Exterior1st', 'Exterior2nd', 'Electrical', 'Utilities', 'SaleType', 'Functional', 'KitchenQual']:\n",
    "    all_data[c] = all_data[c].fillna(all_data[c].mode()[0])"
   ]
  },
  {
   "cell_type": "code",
   "execution_count": null,
   "metadata": {
    "execution": {
     "iopub.execute_input": "2021-10-23T18:16:57.235803Z",
     "iopub.status.busy": "2021-10-23T18:16:57.235491Z",
     "iopub.status.idle": "2021-10-23T18:16:57.259312Z",
     "shell.execute_reply": "2021-10-23T18:16:57.258281Z",
     "shell.execute_reply.started": "2021-10-23T18:16:57.235773Z"
    }
   },
   "outputs": [],
   "source": [
    "all_data.isnull().sum().sum()"
   ]
  },
  {
   "cell_type": "markdown",
   "metadata": {},
   "source": [
    "<h3 style=\"text-align:center;\">5. Derivative variable generation</h3><br>\n",
    "\n",
    "Derivative variables are methods that can improve the quality of analysis. There are several ideas for how to generate derivative variables.\n",
    "\n",
    "It is a continuous variable and means an observation of an object, and if this value is 0, it means that there is no object.\n",
    "Therefore, it is possible to add categorical variables as to whether or not the object is present. Categorical variables with binary values can be stored as 0 and 1.\n",
    "\n",
    "If you can express continuous variables of the same series in association, use a four-line operation.\n",
    "New variables can be created. It is similar to calculating BMI with height and weight.\n",
    "\n",
    "The above judgment can be used using min and max values after describe.\n",
    "\n"
   ]
  },
  {
   "cell_type": "code",
   "execution_count": null,
   "metadata": {
    "execution": {
     "iopub.execute_input": "2021-10-23T18:16:59.419146Z",
     "iopub.status.busy": "2021-10-23T18:16:59.418824Z",
     "iopub.status.idle": "2021-10-23T18:16:59.464554Z",
     "shell.execute_reply": "2021-10-23T18:16:59.463622Z",
     "shell.execute_reply.started": "2021-10-23T18:16:59.419117Z"
    }
   },
   "outputs": [],
   "source": [
    "all_data['HasMasVnr'] = all_data.MasVnrArea.apply(lambda x: 1 if x else 0)\n",
    "all_data['Has2ndFlrSF'] = all_data['2ndFlrSF'].apply(lambda x: 1 if x else 0)\n",
    "all_data['HasGarageArea'] = all_data['GarageArea'].apply(lambda x: 1 if x else 0)\n",
    "all_data['HasWoodDeckSF'] = all_data['WoodDeckSF'].apply(lambda x: 1 if x else 0)\n",
    "all_data['HasOpenPorchSF'] = all_data['OpenPorchSF'].apply(lambda x: 1 if x else 0)\n",
    "all_data['HasEnclosedPorch'] = all_data['EnclosedPorch'].apply(lambda x: 1 if x else 0)\n",
    "all_data['Has3SsnPorch'] = all_data['3SsnPorch'].apply(lambda x: 1 if x else 0)\n",
    "all_data['HasScreenPorch'] = all_data['ScreenPorch'].apply(lambda x: 1 if x else 0)\n",
    "all_data['HasPoolArea'] = all_data['PoolArea'].apply(lambda x: 1 if x else 0)\n",
    "all_data['HasMiscVal'] = all_data['MiscVal'].apply(lambda x: 1 if x else 0)\n",
    "\n",
    "all_data['TotalBath'] = all_data['BsmtFullBath'] + all_data['BsmtHalfBath'] * 0.5\\\n",
    "+ all_data['FullBath'] + all_data['HalfBath'] * 0.5\n",
    "all_data['TotalSF'] = all_data['TotalBsmtSF'] + all_data['1stFlrSF'] + all_data['2ndFlrSF']\n",
    "all_data['TotalBsmtSF'] = all_data['TotalBsmtSF'] + all_data['BsmtFinSF1'] \\\n",
    "+ all_data['BsmtFinSF2']"
   ]
  },
  {
   "cell_type": "markdown",
   "metadata": {},
   "source": [
    "<h3 style=\"text-align:center;\">6. Select variables</h3><br>\n",
    "Using variable selection can help improve the performance of the model.<br>\n",
    "There are various approaches to the variable selection method, but I removed only a few variables that were most simply biased to one side.<br>"
   ]
  },
  {
   "cell_type": "code",
   "execution_count": null,
   "metadata": {
    "execution": {
     "iopub.execute_input": "2021-10-23T18:17:49.25819Z",
     "iopub.status.busy": "2021-10-23T18:17:49.257841Z",
     "iopub.status.idle": "2021-10-23T18:17:49.267695Z",
     "shell.execute_reply": "2021-10-23T18:17:49.267028Z",
     "shell.execute_reply.started": "2021-10-23T18:17:49.258157Z"
    }
   },
   "outputs": [],
   "source": [
    "nominal_vars = list(set(nominal_vars) - set(['Utilities']))\n",
    "#order_vars = list(set(order_vars) - set(['Utilities']))\n",
    "all_data.drop(['Utilities'], axis=1, inplace=True)"
   ]
  },
  {
   "cell_type": "code",
   "execution_count": null,
   "metadata": {},
   "outputs": [],
   "source": [
    "# nominal_vars = list(set(nominal_vars) - set(['Utilities', 'PoolQC', 'PoolArea', 'Street']))\n",
    "# order_vars = list(set(order_vars) - set(['Utilities', 'PoolQC', 'PoolArea', 'Street']))\n",
    "# all_data.drop(['Utilities', 'PoolQC', 'PoolArea', 'Street'], axis=1, inplace=True)"
   ]
  },
  {
   "cell_type": "markdown",
   "metadata": {},
   "source": [
    "<h3 style=\"text-align:center;\">7. Transform variables</h3><br>\n",
    "Log and boxcox transformations are applied to secure the normality and equal variance of continuous variables.<br>\n",
    "Label encoding is applied to ordered (priority) variables.<br>\n",
    "One-hot encoding is applied to equal variables.<br>\n",
    "Log transformation is applied to the dependent variable to secure the normality of the dependent variable."
   ]
  },
  {
   "cell_type": "code",
   "execution_count": null,
   "metadata": {
    "execution": {
     "iopub.execute_input": "2021-10-23T18:17:58.497815Z",
     "iopub.status.busy": "2021-10-23T18:17:58.496834Z",
     "iopub.status.idle": "2021-10-23T18:17:58.541995Z",
     "shell.execute_reply": "2021-10-23T18:17:58.541129Z",
     "shell.execute_reply.started": "2021-10-23T18:17:58.497766Z"
    }
   },
   "outputs": [],
   "source": [
    "all_data[nominal_vars] = all_data[nominal_vars].astype(str)\n",
    "all_data[order_vars] = all_data[order_vars].astype(str)"
   ]
  },
  {
   "cell_type": "code",
   "execution_count": null,
   "metadata": {
    "execution": {
     "iopub.execute_input": "2021-10-23T18:17:59.27424Z",
     "iopub.status.busy": "2021-10-23T18:17:59.273889Z",
     "iopub.status.idle": "2021-10-23T18:17:59.366531Z",
     "shell.execute_reply": "2021-10-23T18:17:59.365443Z",
     "shell.execute_reply.started": "2021-10-23T18:17:59.274206Z"
    }
   },
   "outputs": [],
   "source": [
    "for c in order_vars:\n",
    "    lbl = LabelEncoder() \n",
    "    lbl.fit(list(all_data[c].values)) \n",
    "    all_data[c] = lbl.transform(list(all_data[c].values))"
   ]
  },
  {
   "cell_type": "code",
   "execution_count": null,
   "metadata": {
    "execution": {
     "iopub.execute_input": "2021-10-23T18:17:59.935919Z",
     "iopub.status.busy": "2021-10-23T18:17:59.934986Z",
     "iopub.status.idle": "2021-10-23T18:17:59.973925Z",
     "shell.execute_reply": "2021-10-23T18:17:59.972757Z",
     "shell.execute_reply.started": "2021-10-23T18:17:59.935861Z"
    }
   },
   "outputs": [],
   "source": [
    "numeric_feats = all_data.dtypes[all_data.dtypes != \"object\"].index\n",
    "\n",
    "skewed_feats = all_data[numeric_feats].apply(lambda x: skew(x.dropna())).sort_values(ascending=False)\n",
    "skewness = pd.DataFrame({'Skew' :skewed_feats})\n",
    "skewness.head()"
   ]
  },
  {
   "cell_type": "code",
   "execution_count": null,
   "metadata": {
    "execution": {
     "iopub.execute_input": "2021-10-23T18:18:02.017444Z",
     "iopub.status.busy": "2021-10-23T18:18:02.016318Z",
     "iopub.status.idle": "2021-10-23T18:18:02.077496Z",
     "shell.execute_reply": "2021-10-23T18:18:02.076447Z",
     "shell.execute_reply.started": "2021-10-23T18:18:02.017354Z"
    }
   },
   "outputs": [],
   "source": [
    "skewness = skewness[abs(skewness) > 0.75]\n",
    "\n",
    "from scipy.special import boxcox1p\n",
    "skewed_features = skewness.index\n",
    "lam = 0.15\n",
    "for feat in skewed_features:\n",
    "    all_data[feat] = boxcox1p(all_data[feat], lam)"
   ]
  },
  {
   "cell_type": "code",
   "execution_count": null,
   "metadata": {
    "execution": {
     "iopub.execute_input": "2021-10-23T18:18:02.999331Z",
     "iopub.status.busy": "2021-10-23T18:18:02.999007Z",
     "iopub.status.idle": "2021-10-23T18:18:03.033716Z",
     "shell.execute_reply": "2021-10-23T18:18:03.03276Z",
     "shell.execute_reply.started": "2021-10-23T18:18:02.9993Z"
    }
   },
   "outputs": [],
   "source": [
    "all_data = pd.get_dummies(all_data)"
   ]
  },
  {
   "cell_type": "code",
   "execution_count": null,
   "metadata": {
    "execution": {
     "iopub.execute_input": "2021-10-23T18:18:05.099708Z",
     "iopub.status.busy": "2021-10-23T18:18:05.099427Z",
     "iopub.status.idle": "2021-10-23T18:18:05.105169Z",
     "shell.execute_reply": "2021-10-23T18:18:05.104135Z",
     "shell.execute_reply.started": "2021-10-23T18:18:05.099679Z"
    }
   },
   "outputs": [],
   "source": [
    "y_train = np.log1p(y_train)"
   ]
  },
  {
   "cell_type": "markdown",
   "metadata": {},
   "source": [
    "<h3 style=\"text-align:center;\">7. Training, test data division</h3><br>\n",
    "Divide the training data and test data again."
   ]
  },
  {
   "cell_type": "code",
   "execution_count": null,
   "metadata": {
    "execution": {
     "iopub.execute_input": "2021-10-23T18:18:07.308101Z",
     "iopub.status.busy": "2021-10-23T18:18:07.307139Z",
     "iopub.status.idle": "2021-10-23T18:18:07.312751Z",
     "shell.execute_reply": "2021-10-23T18:18:07.311984Z",
     "shell.execute_reply.started": "2021-10-23T18:18:07.308056Z"
    }
   },
   "outputs": [],
   "source": [
    "X_train, X_test = all_data.iloc[:train_size, :], all_data.iloc[train_size:, :]"
   ]
  },
  {
   "cell_type": "code",
   "execution_count": null,
   "metadata": {
    "execution": {
     "iopub.execute_input": "2021-10-23T18:18:08.166638Z",
     "iopub.status.busy": "2021-10-23T18:18:08.165844Z",
     "iopub.status.idle": "2021-10-23T18:18:08.173843Z",
     "shell.execute_reply": "2021-10-23T18:18:08.172936Z",
     "shell.execute_reply.started": "2021-10-23T18:18:08.166594Z"
    }
   },
   "outputs": [],
   "source": [
    "X_train.shape, X_test.shape, y_train.shape"
   ]
  },
  {
   "cell_type": "markdown",
   "metadata": {},
   "source": [
    "<h2 style=\"text-align:center;\">Optimization (GridSearch, Optuna)</h2><br>\n",
    "In order to maximize the performance of the model, the process of finding the appropriate hyperparameters is required. I used GridSearch to find hyperparameters for each model.\n",
    "<br><br>\n",
    "Sklearn's GridSearchCV was used for Laso, Ridge, ElasticNet, and SVM, and Optuna was used for tree-based models."
   ]
  },
  {
   "cell_type": "code",
   "execution_count": null,
   "metadata": {
    "execution": {
     "iopub.execute_input": "2021-10-23T18:18:18.169798Z",
     "iopub.status.busy": "2021-10-23T18:18:18.169466Z",
     "iopub.status.idle": "2021-10-23T18:18:18.175698Z",
     "shell.execute_reply": "2021-10-23T18:18:18.174372Z",
     "shell.execute_reply.started": "2021-10-23T18:18:18.169768Z"
    }
   },
   "outputs": [],
   "source": [
    "def rmsle_cv(model):\n",
    "    return np.sqrt(-cross_val_score(model, X_train.values, y_train, scoring='neg_mean_squared_error',\n",
    "                   cv=5, verbose=0, n_jobs=-1))"
   ]
  },
  {
   "cell_type": "markdown",
   "metadata": {},
   "source": [
    "<h3 style=\"text-align:center;\">1. GridSearch Cross Validation</h3><br>"
   ]
  },
  {
   "cell_type": "code",
   "execution_count": null,
   "metadata": {
    "execution": {
     "iopub.execute_input": "2021-10-23T18:18:20.724255Z",
     "iopub.status.busy": "2021-10-23T18:18:20.723971Z",
     "iopub.status.idle": "2021-10-23T18:18:20.736629Z",
     "shell.execute_reply": "2021-10-23T18:18:20.735545Z",
     "shell.execute_reply.started": "2021-10-23T18:18:20.724227Z"
    }
   },
   "outputs": [],
   "source": [
    "model_lasso = Pipeline([\n",
    "    ('scaler', RobustScaler()),\n",
    "    ('model', Lasso())\n",
    "])\n",
    "model_elasticNet = Pipeline([\n",
    "    ('scaler', RobustScaler()),\n",
    "    ('model', ElasticNet(max_iter=5000))\n",
    "])\n",
    "model_krr = Pipeline([\n",
    "    ('scaler', RobustScaler()),\n",
    "    ('model', krr())\n",
    "])\n",
    "\n",
    "model_svr = Pipeline([\n",
    "    ('scaler', RobustScaler()),\n",
    "    ('model', SVR())\n",
    "])\n",
    "\n",
    "grid_param_lasso = {\n",
    "    'model__alpha': 0.0001 * np.arange(1, 100)\n",
    "}\n",
    "grid_param_elasticNet = {\n",
    "    'model__alpha': 0.0001 * np.arange(1, 100),\n",
    "    'model__l1_ratio': 0.001 * np.arange(1, 10)\n",
    "}\n",
    "grid_param_krr = {\n",
    "    'model__alpha': 0.0001 * np.arange(1, 100),\n",
    "    'model__degree': [1, 2, 3],\n",
    "    'model__kernel': ['polynomial'],\n",
    "    'model__coef0': [2.5]\n",
    "}\n",
    "grid_param_svr = {\n",
    "    'model__C': [0.001, 0.1, 1, 10, 20],\n",
    "    'model__gamma': [.0001, .0002, .0003, .0004, .0005, .0006, .0007, .0008, .0009, .001],\n",
    "    'model__epsilon': [.01, .02, .03, .04, .05, .06, .07, .08, .09, .1]\n",
    "}\n",
    "\n",
    "best_params = {}"
   ]
  },
  {
   "cell_type": "code",
   "execution_count": null,
   "metadata": {
    "execution": {
     "iopub.execute_input": "2021-10-23T18:18:22.764305Z",
     "iopub.status.busy": "2021-10-23T18:18:22.764015Z",
     "iopub.status.idle": "2021-10-23T18:18:48.091455Z",
     "shell.execute_reply": "2021-10-23T18:18:48.090142Z",
     "shell.execute_reply.started": "2021-10-23T18:18:22.764276Z"
    }
   },
   "outputs": [],
   "source": [
    "search_lasso = GridSearchCV(model_lasso, grid_param_lasso, scoring='neg_mean_squared_error',\n",
    "                           cv=5, n_jobs=-1, verbose=0).fit(X_train, y_train)\n",
    "best_params['Lasso'] = search_lasso.best_params_"
   ]
  },
  {
   "cell_type": "code",
   "execution_count": null,
   "metadata": {
    "execution": {
     "iopub.execute_input": "2021-10-23T18:18:48.095577Z",
     "iopub.status.busy": "2021-10-23T18:18:48.094752Z",
     "iopub.status.idle": "2021-10-23T18:25:39.530988Z",
     "shell.execute_reply": "2021-10-23T18:25:39.529733Z",
     "shell.execute_reply.started": "2021-10-23T18:18:48.095522Z"
    }
   },
   "outputs": [],
   "source": [
    "search_elasticNet = GridSearchCV(model_elasticNet, grid_param_elasticNet, scoring='neg_mean_squared_error',\n",
    "                           cv=5, n_jobs=-1, verbose=0).fit(X_train, y_train)\n",
    "best_params['ElasticNet'] = search_elasticNet.best_params_"
   ]
  },
  {
   "cell_type": "code",
   "execution_count": null,
   "metadata": {
    "execution": {
     "iopub.execute_input": "2021-10-23T18:25:39.534156Z",
     "iopub.status.busy": "2021-10-23T18:25:39.53346Z",
     "iopub.status.idle": "2021-10-23T18:27:36.975509Z",
     "shell.execute_reply": "2021-10-23T18:27:36.974439Z",
     "shell.execute_reply.started": "2021-10-23T18:25:39.534107Z"
    }
   },
   "outputs": [],
   "source": [
    "search_krr = GridSearchCV(model_krr, grid_param_krr, scoring='neg_mean_squared_error',\n",
    "                           cv=5, n_jobs=-1, verbose=0).fit(X_train, y_train)\n",
    "best_params['KernelRidge'] = search_krr.best_params_"
   ]
  },
  {
   "cell_type": "code",
   "execution_count": null,
   "metadata": {
    "execution": {
     "iopub.execute_input": "2021-10-23T18:27:36.979773Z",
     "iopub.status.busy": "2021-10-23T18:27:36.979044Z",
     "iopub.status.idle": "2021-10-23T18:34:39.005324Z",
     "shell.execute_reply": "2021-10-23T18:34:39.004303Z",
     "shell.execute_reply.started": "2021-10-23T18:27:36.979724Z"
    }
   },
   "outputs": [],
   "source": [
    "search_svr = GridSearchCV(model_svr, grid_param_svr, scoring='neg_mean_squared_error',\n",
    "                           cv=5, n_jobs=-1, verbose=0).fit(X_train, y_train)\n",
    "best_params['SVR'] = search_svr.best_params_"
   ]
  },
  {
   "cell_type": "markdown",
   "metadata": {},
   "source": [
    "<h3 style=\"text-align:center;\">2. Optuna</h3><br>\n",
    "\n",
    "<p>\n",
    "The hyperparameters of tree models are diverse and have many combinations. Their optimization takes a lot of time.\n",
    "\n",
    "So, I looked for XGBoost's hyperparameters using the Optuna package using early stopping and cross validation.\n",
    "\n",
    "The hyperparameters of tree models are diverse and have many combinations. Their optimization takes a lot of time.\n",
    "\n",
    "I looked for XGBoost's hyperparameters using the Optuna package using early stopping and cross validation.\n",
    "\n",
    "Preparations: 'optuna', 'functions-partial', objective function\n",
    "\n",
    "Pre-understanding:\n",
    "\n",
    "Optuna is a framework that helps optimize hyperparameters. An objective function is required.\n",
    "\n",
    "Optuna's objective function selects a new hyperparameter combination of the model every trial.\n",
    "\n",
    "Optuna's study object is an object that performs optimization. The optimization of the study object requires a partial object and the number of attempts.\n",
    "\n",
    "The partial object is an object that binds X, y with the objective function to be used by optuna.\n",
    "\n",
    "Study objects store results that meet the purpose for each trial. Finally, remember the most purposeful hyperparameter combination.\n",
    "\n",
    "The trial factor of objective embeds the function of specifying the range and value of hyperparameters. It has a hyperparameter name, range or list as a factor in common.\n",
    "    <ol>\n",
    "        <li><b>Suggest_int:</b> Select an integer value within the range.</li>\n",
    "        <li><b>Suggest_uniform:</b> Select an equal distribution value within a range.</li>\n",
    "        <li><b>Suggest_discrete_uniform:</b> Select a discrete uniform distribution value within the range.</li>\n",
    "        <li><b>Suggest_loguniform:</b> Select a logarithmic function linear value within a range.</li>\n",
    "        <li><b>Suggest_category:</b> Select a value in the list.</li>\n",
    "    </ol>\n",
    "</p>"
   ]
  },
  {
   "cell_type": "code",
   "execution_count": null,
   "metadata": {
    "execution": {
     "iopub.execute_input": "2021-10-23T18:34:39.007048Z",
     "iopub.status.busy": "2021-10-23T18:34:39.006761Z",
     "iopub.status.idle": "2021-10-23T18:34:39.022845Z",
     "shell.execute_reply": "2021-10-23T18:34:39.021506Z",
     "shell.execute_reply.started": "2021-10-23T18:34:39.007008Z"
    }
   },
   "outputs": [],
   "source": [
    "def objective_xgb(trial, X, y):\n",
    "    param = {\n",
    "        'n_estimators': 2000,\n",
    "        'max_depth': trial.suggest_int('max_depth', 3, 11),\n",
    "        'learning_rate': trial.suggest_uniform('learning_rate', 0.005, 0.01),\n",
    "        'subsample': trial.suggest_categorical('subsample', [0.4, 0.5, 0.6, 0.7, 0.8, 0.9, 1.0]),\n",
    "        'colsample_bylevel': trial.suggest_categorical('colsample_bylevel', [0.4, 0.5, 0.6, 0.7, 0.8, 0.9, 1.0]),\n",
    "        'reg_alpha': trial.suggest_loguniform('reg_alpha', 1e-3, 100),\n",
    "        'reg_lambda': trial.suggest_loguniform('reg_lambda', 1e-3, 100),\n",
    "        'n_jobs': -1\n",
    "    }\n",
    "    train_scores, test_scores = [], []\n",
    "    kf = KFold(n_splits=5, shuffle=True, random_state=42)\n",
    "    model = XGBRegressor(**param)\n",
    "    for train_idx, test_idx in kf.split(X):\n",
    "        tmp_X_train, tmp_X_test = X_train.iloc[train_idx, :], X_train.iloc[test_idx, :]\n",
    "        tmp_y_train, tmp_y_test = y_train[train_idx], y_train[test_idx]\n",
    "        model.fit(tmp_X_train, tmp_y_train,\n",
    "                 eval_set=[(tmp_X_test, tmp_y_test)], eval_metric=['rmse'],\n",
    "                 early_stopping_rounds=30, verbose=0,\n",
    "                 callbacks=[optuna.integration.XGBoostPruningCallback(trial, observation_key='validation_0-rmse')])\n",
    "        train_score = np.sqrt(mse(tmp_y_train, model.predict(tmp_X_train)))\n",
    "        test_score = np.sqrt(mse(tmp_y_test, model.predict(tmp_X_test)))\n",
    "        train_scores.append(train_score)\n",
    "        test_scores.append(test_score)\n",
    "    train_score = np.array(train_scores).mean()\n",
    "    test_score = np.array(test_scores).mean()\n",
    "    print(f'train score: {train_score}')\n",
    "    print(f'test score: {test_score}')\n",
    "    return test_score"
   ]
  },
  {
   "cell_type": "code",
   "execution_count": null,
   "metadata": {
    "_kg_hide-output": true,
    "execution": {
     "iopub.execute_input": "2021-10-23T18:34:39.024929Z",
     "iopub.status.busy": "2021-10-23T18:34:39.024557Z",
     "iopub.status.idle": "2021-10-23T19:01:09.277178Z",
     "shell.execute_reply": "2021-10-23T19:01:09.276446Z",
     "shell.execute_reply.started": "2021-10-23T18:34:39.024866Z"
    }
   },
   "outputs": [],
   "source": [
    "optimizer = partial(objective_xgb, X=X_train, y=y_train)\n",
    "study = optuna.create_study(direction='minimize')\n",
    "study.optimize(optimizer, n_trials=100)"
   ]
  },
  {
   "cell_type": "markdown",
   "metadata": {},
   "source": [
    "Optuna can be used to visualize the optimal value for each trial or variable."
   ]
  },
  {
   "cell_type": "code",
   "execution_count": null,
   "metadata": {
    "execution": {
     "iopub.execute_input": "2021-10-23T19:01:09.282702Z",
     "iopub.status.busy": "2021-10-23T19:01:09.280954Z",
     "iopub.status.idle": "2021-10-23T19:01:09.611929Z",
     "shell.execute_reply": "2021-10-23T19:01:09.610919Z",
     "shell.execute_reply.started": "2021-10-23T19:01:09.282661Z"
    }
   },
   "outputs": [],
   "source": [
    "optuna.visualization.plot_optimization_history(study)"
   ]
  },
  {
   "cell_type": "code",
   "execution_count": null,
   "metadata": {
    "execution": {
     "iopub.execute_input": "2021-10-23T19:01:09.613569Z",
     "iopub.status.busy": "2021-10-23T19:01:09.61332Z",
     "iopub.status.idle": "2021-10-23T19:01:10.121416Z",
     "shell.execute_reply": "2021-10-23T19:01:10.120552Z",
     "shell.execute_reply.started": "2021-10-23T19:01:09.613541Z"
    }
   },
   "outputs": [],
   "source": [
    "optuna.visualization.plot_slice(study)"
   ]
  },
  {
   "cell_type": "code",
   "execution_count": null,
   "metadata": {
    "execution": {
     "iopub.execute_input": "2021-10-23T19:01:10.123631Z",
     "iopub.status.busy": "2021-10-23T19:01:10.123108Z",
     "iopub.status.idle": "2021-10-23T19:01:10.133165Z",
     "shell.execute_reply": "2021-10-23T19:01:10.132066Z",
     "shell.execute_reply.started": "2021-10-23T19:01:10.123583Z"
    }
   },
   "outputs": [],
   "source": [
    "best_params['XGBoost'] = study.best_params"
   ]
  },
  {
   "cell_type": "markdown",
   "metadata": {},
   "source": [
    "<h2 style=\"text-align:center;\">Modeling</h2><br>"
   ]
  },
  {
   "cell_type": "markdown",
   "metadata": {},
   "source": [
    "Create each model using the hyperparameter combination found earlier (Some parameters are corrected through several trials and errors)."
   ]
  },
  {
   "cell_type": "code",
   "execution_count": null,
   "metadata": {
    "execution": {
     "iopub.execute_input": "2021-10-23T19:01:10.137365Z",
     "iopub.status.busy": "2021-10-23T19:01:10.136415Z",
     "iopub.status.idle": "2021-10-23T19:01:10.146908Z",
     "shell.execute_reply": "2021-10-23T19:01:10.146317Z",
     "shell.execute_reply.started": "2021-10-23T19:01:10.13733Z"
    }
   },
   "outputs": [],
   "source": [
    "best_params"
   ]
  },
  {
   "cell_type": "code",
   "execution_count": null,
   "metadata": {
    "execution": {
     "iopub.execute_input": "2021-10-23T22:39:34.386388Z",
     "iopub.status.busy": "2021-10-23T22:39:34.386117Z",
     "iopub.status.idle": "2021-10-23T22:39:34.39113Z",
     "shell.execute_reply": "2021-10-23T22:39:34.390327Z",
     "shell.execute_reply.started": "2021-10-23T22:39:34.386361Z"
    }
   },
   "outputs": [],
   "source": [
    "model_lasso = Pipeline([\n",
    "    ('scaler', RobustScaler()),\n",
    "    ('model', Lasso(alpha=0.0005))\n",
    "])\n",
    "\n",
    "model_enet = Pipeline([\n",
    "    ('scaler', RobustScaler()),\n",
    "    ('model', ElasticNet(alpha=0.0089, l1_ratio=0.009000000000000001, random_state=3))\n",
    "])\n",
    "\n",
    "model_krr = Pipeline([\n",
    "    ('scaler', RobustScaler()),\n",
    "    ('model', krr(alpha=0.6,\n",
    "                        kernel='polynomial',\n",
    "                        degree=2,\n",
    "                        coef0=2.5))\n",
    "])\n",
    "model_xgbr = XGBRegressor(colsample_bytree=0.4, learning_rate=0.00898718134841855, max_depth=8, \n",
    "                             n_estimators=2200, reg_alpha=0.036142628805195254, reg_lambda=0.03188665185506858,\n",
    "                             subsample=0.6, random_state =42)\n",
    "model_gbr = gbr(n_estimators=3000, learning_rate=0.009995774699700678,\n",
    "                                   max_depth=8, max_features='sqrt',\n",
    "                                   min_samples_leaf=15, min_samples_split=10, \n",
    "                                   loss='huber', random_state=5)\n",
    "model_lgbm = LGBMRegressor(objective='regression',num_leaves=5,\n",
    "                              learning_rate=0.05, n_estimators=720,\n",
    "                              max_bin = 55, bagging_fraction = 0.8,\n",
    "                              bagging_freq = 5, feature_fraction = 0.2319,\n",
    "                              feature_fraction_seed=9, bagging_seed=9,\n",
    "                              min_data_in_leaf =6, min_sum_hessian_in_leaf = 11)\n",
    "stack_gen = StackingCVRegressor(regressors=(model_lgbm, model_lasso, model_enet, model_krr, model_gbr),\n",
    "                               meta_regressor=model_xgbr,\n",
    "                               use_features_in_secondary=True)"
   ]
  },
  {
   "cell_type": "markdown",
   "metadata": {},
   "source": [
    "Let's check the cross-validation results of each model."
   ]
  },
  {
   "cell_type": "code",
   "execution_count": null,
   "metadata": {
    "execution": {
     "iopub.execute_input": "2021-10-23T19:01:10.162833Z",
     "iopub.status.busy": "2021-10-23T19:01:10.162468Z",
     "iopub.status.idle": "2021-10-23T19:53:29.767093Z",
     "shell.execute_reply": "2021-10-23T19:53:29.765621Z",
     "shell.execute_reply.started": "2021-10-23T19:01:10.162807Z"
    }
   },
   "outputs": [],
   "source": [
    "models = [\n",
    "    model_lasso, model_enet, model_krr, model_gbr, model_xgbr, model_lgbm\n",
    "]\n",
    "cross_score = {\n",
    "    'Lasso': 0,\n",
    "    'ElasticNet': 0,\n",
    "    'Kernel Ridge': 0,\n",
    "    'GradientBoosting': 0,\n",
    "    'XGBoost': 0,\n",
    "    'LightGBM': 0,\n",
    "}\n",
    "\n",
    "for idx, model in enumerate(models):\n",
    "    cross_score[list(cross_score.keys())[idx]] = rmsle_cv(model).mean()"
   ]
  },
  {
   "cell_type": "code",
   "execution_count": null,
   "metadata": {
    "execution": {
     "iopub.execute_input": "2021-10-23T19:53:29.770335Z",
     "iopub.status.busy": "2021-10-23T19:53:29.76978Z",
     "iopub.status.idle": "2021-10-23T19:53:29.781737Z",
     "shell.execute_reply": "2021-10-23T19:53:29.780921Z",
     "shell.execute_reply.started": "2021-10-23T19:53:29.770287Z"
    }
   },
   "outputs": [],
   "source": [
    "cross_score"
   ]
  },
  {
   "cell_type": "markdown",
   "metadata": {},
   "source": [
    "After creating a blend function that can harmonize the results of multiple models, traning each model"
   ]
  },
  {
   "cell_type": "code",
   "execution_count": null,
   "metadata": {
    "execution": {
     "iopub.execute_input": "2021-10-23T19:53:29.78494Z",
     "iopub.status.busy": "2021-10-23T19:53:29.78453Z",
     "iopub.status.idle": "2021-10-23T19:53:29.794032Z",
     "shell.execute_reply": "2021-10-23T19:53:29.793187Z",
     "shell.execute_reply.started": "2021-10-23T19:53:29.784884Z"
    }
   },
   "outputs": [],
   "source": [
    "def blend(X):\n",
    "    return ((0.15 * model_lasso.predict(X)) + \\\n",
    "            (0.15 * model_enet.predict(X)) + \\\n",
    "            (0.05 * model_krr.predict(X)) + \\\n",
    "            (0.15 * model_xgbr.predict(X)) + \\\n",
    "            (0.15 * model_lgbm.predict(X)) + \\\n",
    "            (0.35 * stack_gen.predict(np.array(X))))"
   ]
  },
  {
   "cell_type": "code",
   "execution_count": null,
   "metadata": {
    "_kg_hide-output": true,
    "execution": {
     "iopub.execute_input": "2021-10-23T19:53:29.797077Z",
     "iopub.status.busy": "2021-10-23T19:53:29.796471Z",
     "iopub.status.idle": "2021-10-23T19:54:08.839687Z",
     "shell.execute_reply": "2021-10-23T19:54:08.838948Z",
     "shell.execute_reply.started": "2021-10-23T19:53:29.797032Z"
    }
   },
   "outputs": [],
   "source": [
    "for model in models:\n",
    "    model = model.fit(X_train, y_train)"
   ]
  },
  {
   "cell_type": "code",
   "execution_count": null,
   "metadata": {
    "_kg_hide-output": true,
    "execution": {
     "iopub.execute_input": "2021-10-23T19:54:08.841685Z",
     "iopub.status.busy": "2021-10-23T19:54:08.841209Z",
     "iopub.status.idle": "2021-10-23T19:56:29.67999Z",
     "shell.execute_reply": "2021-10-23T19:56:29.679174Z",
     "shell.execute_reply.started": "2021-10-23T19:54:08.841645Z"
    }
   },
   "outputs": [],
   "source": [
    "stack_gen = stack_gen.fit(X_train, y_train)"
   ]
  },
  {
   "cell_type": "code",
   "execution_count": null,
   "metadata": {
    "_kg_hide-output": true,
    "execution": {
     "iopub.execute_input": "2021-10-23T19:56:29.681749Z",
     "iopub.status.busy": "2021-10-23T19:56:29.681364Z",
     "iopub.status.idle": "2021-10-23T19:56:30.309134Z",
     "shell.execute_reply": "2021-10-23T19:56:30.308444Z",
     "shell.execute_reply.started": "2021-10-23T19:56:29.68172Z"
    }
   },
   "outputs": [],
   "source": [
    "np.sqrt(mse(y_train, blend(X_train)))"
   ]
  },
  {
   "cell_type": "code",
   "execution_count": null,
   "metadata": {},
   "outputs": [],
   "source": [
    "sub = pd.DataFrame()\n",
    "sub['Id'] = test_id\n",
    "sub['SalePrice'] = score = np.expm1(blend(X_test))\n",
    "sub.to_csv('submission.csv',index=False)"
   ]
  }
 ],
 "metadata": {
  "hide_input": false,
  "kernelspec": {
   "display_name": "Python 3 (ipykernel)",
   "language": "python",
   "name": "python3"
  },
  "language_info": {
   "codemirror_mode": {
    "name": "ipython",
    "version": 3
   },
   "file_extension": ".py",
   "mimetype": "text/x-python",
   "name": "python",
   "nbconvert_exporter": "python",
   "pygments_lexer": "ipython3",
   "version": "3.7.10"
  }
 },
 "nbformat": 4,
 "nbformat_minor": 4
}

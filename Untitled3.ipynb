{
 "cells": [
  {
   "cell_type": "code",
   "execution_count": 179,
   "id": "complicated-polymer",
   "metadata": {},
   "outputs": [],
   "source": [
    "import numpy as np\n",
    "import pandas as pd\n",
    "pd.set_option('max_columns', 5000)\n",
    "import matplotlib.pyplot as plt\n",
    "import seaborn as sns\n",
    "sns.set_style('darkgrid')\n",
    "from scipy.stats import norm, skew, probplot\n",
    "from scipy.special import boxcox1p\n",
    "import warnings\n",
    "warnings.filterwarnings(action='ignore')\n",
    "\n",
    "from sklearn.preprocessing import StandardScaler, RobustScaler, PolynomialFeatures, OneHotEncoder, LabelEncoder\n",
    "from sklearn.model_selection import train_test_split, KFold, GridSearchCV, cross_val_score\n",
    "from sklearn.feature_selection import SelectKBest, f_classif, chi2\n",
    "from sklearn.pipeline import Pipeline\n",
    "from sklearn.metrics import mean_squared_error as mse\n",
    "from sklearn.linear_model import Lasso, Ridge, ElasticNet\n",
    "from sklearn.kernel_ridge import KernelRidge as krr\n",
    "from sklearn.svm import SVR\n",
    "from sklearn.ensemble import RandomForestRegressor as rfr, GradientBoostingRegressor as gbr\n",
    "from xgboost import XGBRegressor\n",
    "from lightgbm import LGBMRegressor\n",
    "from mlxtend.regressor import StackingCVRegressor\n",
    "from sklearn.cluster import DBSCAN\n",
    "\n",
    "import optuna\n",
    "from functools import partial"
   ]
  },
  {
   "cell_type": "code",
   "execution_count": 424,
   "id": "periodic-equity",
   "metadata": {},
   "outputs": [],
   "source": [
    "train = pd.read_csv('train.csv')\n",
    "test = pd.read_csv('test.csv')\n",
    "\n",
    "nominal_vars = [\n",
    "    'MSZoning', 'LandContour', 'Utilities', 'LotConfig', 'Neighborhood', 'Condition1', \n",
    "    'Condition2', 'BldgType', 'HouseStyle', 'RoofStyle', 'RoofMatl', 'Exterior1st', \n",
    "    'Exterior2nd', 'MasVnrType', 'Foundation', 'Heating', 'Electrical', 'GarageType', \n",
    "    'MiscFeature', 'SaleType', 'SaleCondition'\n",
    "]\n",
    "order_vars = [\n",
    "    'MSSubClass', 'Street', 'Alley', 'LotShape', 'LandSlope', 'ExterQual', \n",
    "    'ExterCond', 'BsmtQual','BsmtCond', 'BsmtExposure', 'BsmtFinType1', 'BsmtFinType2',\n",
    "    'HeatingQC', 'CentralAir', 'KitchenQual', 'FireplaceQu', 'GarageQual', 'GarageCond',\n",
    "    'PoolQC', 'Fence', 'Functional', 'GarageFinish', 'PavedDrive', 'MoSold', 'YrSold'\n",
    "]"
   ]
  },
  {
   "cell_type": "code",
   "execution_count": 404,
   "id": "french-quilt",
   "metadata": {},
   "outputs": [],
   "source": [
    "train_id = train.Id\n",
    "test_id = test.Id\n",
    "train.drop(['Id'], axis=1, inplace=True)\n",
    "test.drop(['Id'], axis=1, inplace=True)"
   ]
  },
  {
   "cell_type": "code",
   "execution_count": 405,
   "id": "manufactured-fifth",
   "metadata": {},
   "outputs": [],
   "source": [
    "outlier_idx = train.GrLivArea.sort_values(ascending=False)[:2].index\n",
    "outlier_idx = list(outlier_idx.values)\n",
    "train.drop(outlier_idx, axis=0, inplace=True)"
   ]
  },
  {
   "cell_type": "code",
   "execution_count": 406,
   "id": "attached-surge",
   "metadata": {},
   "outputs": [],
   "source": [
    "train_size = train.shape[0]\n",
    "y_train = train.SalePrice.values\n",
    "all_data = pd.concat((train, test), axis=0).reset_index(drop=True).drop(['SalePrice'], axis=1)"
   ]
  },
  {
   "cell_type": "code",
   "execution_count": 408,
   "id": "maritime-bullet",
   "metadata": {},
   "outputs": [],
   "source": [
    "all_data.MSZoning = all_data.groupby('Neighborhood').MSZoning.transform(lambda x: x.fillna(x.mode()[0]))\n",
    "all_data.LotFrontage = all_data.groupby('Neighborhood').LotFrontage.transform(lambda x: x.fillna(x.median()))\n",
    "all_data.Exterior1st = all_data.groupby('Neighborhood').Exterior1st.transform(lambda x: x.fillna(x.mode()[0]))\n",
    "all_data.Exterior2nd = all_data.groupby('Neighborhood').Exterior2nd.transform(lambda x: x.fillna(x.mode()[0]))\n",
    "\n",
    "for c in ['Alley', 'MasVnrType', 'BsmtQual', 'BsmtCond', 'BsmtExposure', 'BsmtFinType1',\n",
    "          'BsmtFinType2', 'FireplaceQu', 'GarageType', 'GarageFinish', 'GarageQual',\n",
    "          'GarageCond', 'PoolQC', 'Fence', 'MiscFeature', 'KitchenQual']:\n",
    "    all_data[c] = all_data[c].fillna('None')\n",
    "    \n",
    "for c in ['MasVnrArea', 'BsmtFinSF1', 'BsmtFinSF2', 'BsmtUnfSF', 'TotalBsmtSF', \n",
    "         'BsmtHalfBath', 'GarageYrBlt', 'GarageCars', 'GarageArea']:\n",
    "    all_data[c] = all_data[c].fillna(0)   \n",
    "    \n",
    "for c in ['Electrical', 'BsmtFullBath', 'Utilities', \n",
    "          'SaleType', 'Functional']:\n",
    "    all_data[c] = all_data[c].fillna(all_data[c].mode()[0])"
   ]
  },
  {
   "cell_type": "code",
   "execution_count": 409,
   "id": "black-jungle",
   "metadata": {},
   "outputs": [
    {
     "data": {
      "text/plain": [
       "0"
      ]
     },
     "execution_count": 409,
     "metadata": {},
     "output_type": "execute_result"
    }
   ],
   "source": [
    "# Complete\n",
    "all_data.isnull().sum().sum()"
   ]
  },
  {
   "cell_type": "code",
   "execution_count": 410,
   "id": "communist-accuracy",
   "metadata": {},
   "outputs": [],
   "source": [
    "nominal_vars = list(set(nominal_vars) - set(['Utilities']))"
   ]
  },
  {
   "cell_type": "code",
   "execution_count": 411,
   "id": "optional-plain",
   "metadata": {},
   "outputs": [],
   "source": [
    "all_data.drop(['Utilities'], axis=1, inplace=True)"
   ]
  },
  {
   "cell_type": "code",
   "execution_count": 412,
   "id": "cutting-repeat",
   "metadata": {},
   "outputs": [],
   "source": [
    "all_data[nominal_vars] = all_data[nominal_vars].astype(str)\n",
    "all_data[ranking_vars] = all_data[ranking_vars].astype(str)"
   ]
  },
  {
   "cell_type": "code",
   "execution_count": 413,
   "id": "miniature-ownership",
   "metadata": {},
   "outputs": [],
   "source": [
    "from sklearn.preprocessing import LabelEncoder\n",
    "\n",
    "for c in ranking_vars:\n",
    "    lbl = LabelEncoder() \n",
    "    lbl.fit(list(all_data[c].values)) \n",
    "    all_data[c] = lbl.transform(list(all_data[c].values))"
   ]
  },
  {
   "cell_type": "code",
   "execution_count": 414,
   "id": "chicken-approach",
   "metadata": {},
   "outputs": [
    {
     "data": {
      "text/html": [
       "<div>\n",
       "<style scoped>\n",
       "    .dataframe tbody tr th:only-of-type {\n",
       "        vertical-align: middle;\n",
       "    }\n",
       "\n",
       "    .dataframe tbody tr th {\n",
       "        vertical-align: top;\n",
       "    }\n",
       "\n",
       "    .dataframe thead th {\n",
       "        text-align: right;\n",
       "    }\n",
       "</style>\n",
       "<table border=\"1\" class=\"dataframe\">\n",
       "  <thead>\n",
       "    <tr style=\"text-align: right;\">\n",
       "      <th></th>\n",
       "      <th>Skew</th>\n",
       "    </tr>\n",
       "  </thead>\n",
       "  <tbody>\n",
       "    <tr>\n",
       "      <th>MiscVal</th>\n",
       "      <td>21.939672</td>\n",
       "    </tr>\n",
       "    <tr>\n",
       "      <th>PoolArea</th>\n",
       "      <td>17.688664</td>\n",
       "    </tr>\n",
       "    <tr>\n",
       "      <th>LotArea</th>\n",
       "      <td>13.109495</td>\n",
       "    </tr>\n",
       "    <tr>\n",
       "      <th>LowQualFinSF</th>\n",
       "      <td>12.084539</td>\n",
       "    </tr>\n",
       "    <tr>\n",
       "      <th>3SsnPorch</th>\n",
       "      <td>11.372080</td>\n",
       "    </tr>\n",
       "  </tbody>\n",
       "</table>\n",
       "</div>"
      ],
      "text/plain": [
       "                   Skew\n",
       "MiscVal       21.939672\n",
       "PoolArea      17.688664\n",
       "LotArea       13.109495\n",
       "LowQualFinSF  12.084539\n",
       "3SsnPorch     11.372080"
      ]
     },
     "execution_count": 414,
     "metadata": {},
     "output_type": "execute_result"
    }
   ],
   "source": [
    "numeric_feats = all_data.dtypes[all_data.dtypes != \"object\"].index\n",
    "\n",
    "skewed_feats = all_data[numeric_feats].apply(lambda x: skew(x.dropna())).sort_values(ascending=False)\n",
    "skewness = pd.DataFrame({'Skew' :skewed_feats})\n",
    "skewness.head()"
   ]
  },
  {
   "cell_type": "code",
   "execution_count": 415,
   "id": "particular-spokesman",
   "metadata": {},
   "outputs": [],
   "source": [
    "skewness = skewness[abs(skewness) > 0.75]\n",
    "\n",
    "from scipy.special import boxcox1p\n",
    "skewed_features = skewness.index\n",
    "lam = 0.15\n",
    "for feat in skewed_features:\n",
    "    all_data[feat] = boxcox1p(all_data[feat], lam)"
   ]
  },
  {
   "cell_type": "code",
   "execution_count": 416,
   "id": "considered-growing",
   "metadata": {},
   "outputs": [
    {
     "name": "stdout",
     "output_type": "stream",
     "text": [
      "(2917, 219)\n"
     ]
    }
   ],
   "source": [
    "all_data = pd.get_dummies(all_data)\n",
    "print(all_data.shape)"
   ]
  },
  {
   "cell_type": "code",
   "execution_count": 417,
   "id": "framed-charles",
   "metadata": {},
   "outputs": [],
   "source": [
    "train.SalePrice = np.log1p(train.SalePrice)"
   ]
  },
  {
   "cell_type": "code",
   "execution_count": 418,
   "id": "black-infrastructure",
   "metadata": {},
   "outputs": [],
   "source": [
    "X_train = all_data[:ntrain]\n",
    "X_test = all_data[ntrain:]"
   ]
  },
  {
   "cell_type": "code",
   "execution_count": 419,
   "id": "positive-bermuda",
   "metadata": {},
   "outputs": [],
   "source": [
    "n_folds = 5\n",
    "\n",
    "def rmsle(model, x, y):\n",
    "    return np.sqrt(mean_squared_error(y, model.predict(x)))\n",
    "\n",
    "def rmsle_cv(model, x, y):\n",
    "    #kf = KFold(n_splits=5, shuffle=True, random_state=42)\n",
    "    kf = 5\n",
    "    rmse =np.sqrt(-cross_val_score(model, x.values, y, scoring='neg_mean_squared_error', cv=kf))\n",
    "    return rmse"
   ]
  },
  {
   "cell_type": "code",
   "execution_count": 420,
   "id": "about-crash",
   "metadata": {},
   "outputs": [],
   "source": [
    "pipe_lasso = Pipeline([\n",
    "    ('scaler', RobustScaler()),\n",
    "    ('model', Lasso())\n",
    "])\n",
    "pipe_enet = Pipeline([\n",
    "    ('scaler', RobustScaler()),\n",
    "    ('model', ElasticNet(max_iter=5000))\n",
    "])\n",
    "pipe_krr = Pipeline([\n",
    "    ('scaler', RobustScaler()),\n",
    "    ('model', krr())\n",
    "])\n",
    "\n",
    "grid_param_lasso = [{\n",
    "    'model__alpha': 0.0001 * np.arange(1, 100)\n",
    "}]\n",
    "grid_param_enet = [{\n",
    "    'model__alpha': 0.0001 * np.arange(1, 100),\n",
    "    'model__l1_ratio': 0.001 * np.arange(1, 10)\n",
    "}]\n",
    "grid_param_krr = [{\n",
    "    'model__alpha': [0.0001 * np.arange(1, 100)],\n",
    "    'model__degree': [1, 2, 3],\n",
    "    'model__alpha': [0.6],\n",
    "    'model__kernel': ['polynomial'],\n",
    "    'model__coef0': [2.5]\n",
    "}]"
   ]
  },
  {
   "cell_type": "code",
   "execution_count": 421,
   "id": "political-literature",
   "metadata": {},
   "outputs": [],
   "source": [
    "best_params = {\n",
    "    'Lasso': None,\n",
    "    'ElasticNet': None,\n",
    "    'Kernel Ridge': None\n",
    "}"
   ]
  },
  {
   "cell_type": "code",
   "execution_count": 323,
   "id": "surrounded-harris",
   "metadata": {},
   "outputs": [],
   "source": [
    "search_lasso = GridSearchCV(pipe_lasso, grid_param_lasso, scoring='neg_mean_squared_error', n_jobs=-1).fit(X_train, y_train)\n",
    "best_params['Lasso'] = search_lasso.best_params_"
   ]
  },
  {
   "cell_type": "code",
   "execution_count": 324,
   "id": "unlike-mississippi",
   "metadata": {},
   "outputs": [],
   "source": [
    "search_enet = GridSearchCV(pipe_enet, grid_param_enet, scoring='neg_mean_squared_error', n_jobs=-1).fit(X_train, y_train)\n",
    "best_params['ElasticNet'] = search_enet.best_params_"
   ]
  },
  {
   "cell_type": "code",
   "execution_count": 422,
   "id": "billion-cycle",
   "metadata": {},
   "outputs": [],
   "source": [
    "search_krr = GridSearchCV(pipe_krr, grid_param_krr, scoring='neg_mean_squared_error', n_jobs=-1).fit(X_train, y_train)\n",
    "best_params['Kernel Ridge'] = search_krr.best_params_"
   ]
  },
  {
   "cell_type": "code",
   "execution_count": 423,
   "id": "wicked-accent",
   "metadata": {},
   "outputs": [
    {
     "data": {
      "text/plain": [
       "{'Lasso': None,\n",
       " 'ElasticNet': None,\n",
       " 'Kernel Ridge': {'model__alpha': 0.6,\n",
       "  'model__coef0': 2.5,\n",
       "  'model__degree': 3,\n",
       "  'model__kernel': 'polynomial'}}"
      ]
     },
     "execution_count": 423,
     "metadata": {},
     "output_type": "execute_result"
    }
   ],
   "source": [
    "best_params"
   ]
  },
  {
   "cell_type": "code",
   "execution_count": null,
   "id": "corresponding-tyler",
   "metadata": {},
   "outputs": [],
   "source": []
  },
  {
   "cell_type": "code",
   "execution_count": null,
   "id": "right-blast",
   "metadata": {},
   "outputs": [],
   "source": []
  },
  {
   "cell_type": "code",
   "execution_count": null,
   "id": "greek-immigration",
   "metadata": {},
   "outputs": [],
   "source": []
  },
  {
   "cell_type": "code",
   "execution_count": null,
   "id": "periodic-breath",
   "metadata": {},
   "outputs": [],
   "source": []
  },
  {
   "cell_type": "code",
   "execution_count": 220,
   "id": "happy-jason",
   "metadata": {},
   "outputs": [],
   "source": [
    "outlier_idx = train.GrLivArea.sort_values(ascending=False)[:2].index\n",
    "train.drop(outlier_idx, axis=0, inplace=True)"
   ]
  },
  {
   "cell_type": "code",
   "execution_count": 221,
   "id": "meaning-strap",
   "metadata": {},
   "outputs": [],
   "source": [
    "train_size = train.shape[0]\n",
    "y_train = train.SalePrice.values\n",
    "all_data = pd.concat((train, test), axis=0).reset_index(drop=True).drop(['SalePrice'], axis=1)"
   ]
  },
  {
   "cell_type": "code",
   "execution_count": 255,
   "id": "square-spencer",
   "metadata": {},
   "outputs": [],
   "source": [
    "# specific value replacements\n",
    "all_data[\"PoolQC\"] = all_data[\"PoolQC\"].fillna(\"None\")\n",
    "all_data[\"MiscFeature\"] = all_data[\"MiscFeature\"].fillna(\"None\")\n",
    "all_data[\"Alley\"] = all_data[\"Alley\"].fillna(\"None\")\n",
    "all_data[\"Fence\"] = all_data[\"Fence\"].fillna(\"None\")\n",
    "all_data[\"FireplaceQu\"] = all_data[\"FireplaceQu\"].fillna(\"None\")\n",
    "\n",
    "for col in ('GarageType', 'GarageFinish', 'GarageQual', 'GarageCond'):\n",
    "    all_data[col] = all_data[col].fillna('None')\n",
    "\n",
    "for col in ('GarageYrBlt', 'GarageArea', 'GarageCars'):\n",
    "    all_data[col] = all_data[col].fillna(0)\n",
    "    \n",
    "for col in ('BsmtFinSF1', 'BsmtFinSF2', 'BsmtUnfSF','TotalBsmtSF', 'BsmtFullBath', 'BsmtHalfBath'):\n",
    "    all_data[col] = all_data[col].fillna(0)\n",
    "    \n",
    "for col in ('BsmtQual', 'BsmtCond', 'BsmtExposure', 'BsmtFinType1', 'BsmtFinType2'):\n",
    "    all_data[col] = all_data[col].fillna('None')\n",
    "\n",
    "all_data[\"MasVnrType\"] = all_data[\"MasVnrType\"].fillna(\"None\")\n",
    "all_data[\"MasVnrArea\"] = all_data[\"MasVnrArea\"].fillna(0)\n",
    "all_data[\"Functional\"] = all_data[\"Functional\"].fillna(\"Typ\")\n",
    "all_data['MSSubClass'] = all_data['MSSubClass'].fillna(\"None\")"
   ]
  },
  {
   "cell_type": "code",
   "execution_count": 256,
   "id": "alleged-hepatitis",
   "metadata": {},
   "outputs": [],
   "source": [
    "# mean value replacements\n",
    "all_data['MSZoning'] = all_data['MSZoning'].fillna(all_data['MSZoning'].mode()[0])\n",
    "all_data['Electrical'] = all_data['Electrical'].fillna(all_data['Electrical'].mode()[0])\n",
    "all_data['KitchenQual'] = all_data['KitchenQual'].fillna(all_data['KitchenQual'].mode()[0])\n",
    "all_data['Exterior1st'] = all_data['Exterior1st'].fillna(all_data['Exterior1st'].mode()[0])\n",
    "all_data['Exterior2nd'] = all_data['Exterior2nd'].fillna(all_data['Exterior2nd'].mode()[0])\n",
    "all_data['SaleType'] = all_data['SaleType'].fillna(all_data['SaleType'].mode()[0])\n",
    "\n",
    "all_data[\"LotFrontage\"] = all_data.groupby(\"Neighborhood\")[\"LotFrontage\"].transform(\n",
    "    lambda x: x.fillna(x.median()))"
   ]
  },
  {
   "cell_type": "code",
   "execution_count": 257,
   "id": "talented-incidence",
   "metadata": {},
   "outputs": [],
   "source": [
    "all_data.drop(['Utilities'], axis=1, inplace=True)"
   ]
  },
  {
   "cell_type": "code",
   "execution_count": 222,
   "id": "binding-window",
   "metadata": {},
   "outputs": [],
   "source": [
    "#all_data.MSZoning = all_data.groupby('Neighborhood').MSZoning.transform(lambda x: x.fillna(x.mode()[0]))\n",
    "all_data.LotFrontage = all_data.groupby('Neighborhood').LotFrontage.transform(lambda x: x.fillna(x.median()))\n",
    "#all_data.Exterior1st = all_data.groupby('Neighborhood').Exterior1st.transform(lambda x: x.fillna(x.mode()[0]))\n",
    "#all_data.Exterior2nd = all_data.groupby('Neighborhood').Exterior2nd.transform(lambda x: x.fillna(x.mode()[0]))\n",
    "\n",
    "for c in ['Alley', 'MasVnrType', 'BsmtQual', 'BsmtCond', 'BsmtExposure', 'BsmtFinType1',\n",
    "          'BsmtFinType2', 'FireplaceQu', 'GarageType', 'GarageFinish', 'GarageQual',\n",
    "          'GarageCond', 'PoolQC', 'Fence', 'MiscFeature', 'KitchenQual']:\n",
    "    all_data[c] = all_data[c].fillna('None')\n",
    "    \n",
    "for c in ['MasVnrArea', 'BsmtFinSF1', 'BsmtFinSF2', 'BsmtUnfSF', 'TotalBsmtSF', 'BsmtFullBath',\n",
    "         'BsmtHalfBath', 'GarageYrBlt', 'GarageCars', 'GarageArea']:\n",
    "    all_data[c] = all_data[c].fillna(0)   \n",
    "# 'MSZoning', 'Exterior1st', 'Exterior2nd', \n",
    "for c in ['MSZoning', 'Exterior1st', 'Exterior2nd','Electrical', 'Utilities',\n",
    "          'SaleType', 'Functional']:\n",
    "    all_data[c] = all_data[c].fillna(all_data[c].mode()[0])"
   ]
  },
  {
   "cell_type": "code",
   "execution_count": 258,
   "id": "recovered-truth",
   "metadata": {},
   "outputs": [
    {
     "data": {
      "text/plain": [
       "0"
      ]
     },
     "execution_count": 258,
     "metadata": {},
     "output_type": "execute_result"
    }
   ],
   "source": [
    "# Complete\n",
    "all_data.isnull().sum().sum()"
   ]
  },
  {
   "cell_type": "code",
   "execution_count": 259,
   "id": "muslim-handbook",
   "metadata": {},
   "outputs": [],
   "source": [
    "all_data['HasMasVnr'] = all_data.MasVnrArea.apply(lambda x: 1 if x else 0)\n",
    "all_data['Has2ndFlrSF'] = all_data['2ndFlrSF'].apply(lambda x: 1 if x else 0)\n",
    "all_data['HasGarageArea'] = all_data['GarageArea'].apply(lambda x: 1 if x else 0)\n",
    "all_data['HasWoodDeckSF'] = all_data['WoodDeckSF'].apply(lambda x: 1 if x else 0)\n",
    "all_data['HasOpenPorchSF'] = all_data['OpenPorchSF'].apply(lambda x: 1 if x else 0)\n",
    "all_data['HasEnclosedPorch'] = all_data['EnclosedPorch'].apply(lambda x: 1 if x else 0)\n",
    "all_data['Has3SsnPorch'] = all_data['3SsnPorch'].apply(lambda x: 1 if x else 0)\n",
    "all_data['HasScreenPorch'] = all_data['ScreenPorch'].apply(lambda x: 1 if x else 0)\n",
    "all_data['HasPoolArea'] = all_data['PoolArea'].apply(lambda x: 1 if x else 0)\n",
    "all_data['HasMiscVal'] = all_data['MiscVal'].apply(lambda x: 1 if x else 0)\n",
    "\n",
    "all_data['TotalBath'] = all_data['BsmtFullBath'] + all_data['BsmtHalfBath'] * 0.5\\\n",
    "+ all_data['FullBath'] + all_data['HalfBath'] * 0.5\n",
    "all_data['TotalSF'] = all_data['TotalBsmtSF'] + all_data['1stFlrSF'] + all_data['2ndFlrSF']\n",
    "#all_data['TotalSF'] = all_data['TotalBsmtSF'] + all_data['2ndFlrSF']\n",
    "all_data['TotalBsmtSF'] = all_data['TotalBsmtSF'] + all_data['BsmtFinSF1'] \\\n",
    "+ all_data['BsmtFinSF2']"
   ]
  },
  {
   "cell_type": "code",
   "execution_count": 260,
   "id": "constitutional-article",
   "metadata": {},
   "outputs": [],
   "source": [
    "nominal_vars = list(set(nominal_vars) - set(['Utilities']))\n",
    "#order_vars = list(set(order_vars) - set(['Utilities']))\n",
    "#all_data.drop(['Utilities'], axis=1, inplace=True)"
   ]
  },
  {
   "cell_type": "code",
   "execution_count": 261,
   "id": "excess-astronomy",
   "metadata": {},
   "outputs": [],
   "source": [
    "all_data[nominal_vars] = all_data[nominal_vars].astype(str)\n",
    "all_data[order_vars] = all_data[order_vars].astype(str)"
   ]
  },
  {
   "cell_type": "code",
   "execution_count": 262,
   "id": "correct-redhead",
   "metadata": {},
   "outputs": [],
   "source": [
    "for c in order_vars:\n",
    "    lbl = LabelEncoder() \n",
    "    lbl.fit(list(all_data[c].values)) \n",
    "    all_data[c] = lbl.transform(list(all_data[c].values))"
   ]
  },
  {
   "cell_type": "code",
   "execution_count": 263,
   "id": "joined-criterion",
   "metadata": {},
   "outputs": [
    {
     "data": {
      "text/html": [
       "<div>\n",
       "<style scoped>\n",
       "    .dataframe tbody tr th:only-of-type {\n",
       "        vertical-align: middle;\n",
       "    }\n",
       "\n",
       "    .dataframe tbody tr th {\n",
       "        vertical-align: top;\n",
       "    }\n",
       "\n",
       "    .dataframe thead th {\n",
       "        text-align: right;\n",
       "    }\n",
       "</style>\n",
       "<table border=\"1\" class=\"dataframe\">\n",
       "  <thead>\n",
       "    <tr style=\"text-align: right;\">\n",
       "      <th></th>\n",
       "      <th>Skew</th>\n",
       "    </tr>\n",
       "  </thead>\n",
       "  <tbody>\n",
       "    <tr>\n",
       "      <th>MiscVal</th>\n",
       "      <td>21.939672</td>\n",
       "    </tr>\n",
       "    <tr>\n",
       "      <th>PoolArea</th>\n",
       "      <td>17.688664</td>\n",
       "    </tr>\n",
       "    <tr>\n",
       "      <th>HasPoolArea</th>\n",
       "      <td>15.494756</td>\n",
       "    </tr>\n",
       "    <tr>\n",
       "      <th>LotArea</th>\n",
       "      <td>13.109495</td>\n",
       "    </tr>\n",
       "    <tr>\n",
       "      <th>LowQualFinSF</th>\n",
       "      <td>12.084539</td>\n",
       "    </tr>\n",
       "  </tbody>\n",
       "</table>\n",
       "</div>"
      ],
      "text/plain": [
       "                   Skew\n",
       "MiscVal       21.939672\n",
       "PoolArea      17.688664\n",
       "HasPoolArea   15.494756\n",
       "LotArea       13.109495\n",
       "LowQualFinSF  12.084539"
      ]
     },
     "execution_count": 263,
     "metadata": {},
     "output_type": "execute_result"
    }
   ],
   "source": [
    "numeric_feats = all_data.dtypes[all_data.dtypes != \"object\"].index\n",
    "\n",
    "skewed_feats = all_data[numeric_feats].apply(lambda x: skew(x.dropna())).sort_values(ascending=False)\n",
    "skewness = pd.DataFrame({'Skew' :skewed_feats})\n",
    "skewness.head()"
   ]
  },
  {
   "cell_type": "code",
   "execution_count": 264,
   "id": "bulgarian-blind",
   "metadata": {},
   "outputs": [],
   "source": [
    "skewness = skewness[abs(skewness) > 0.75]\n",
    "\n",
    "from scipy.special import boxcox1p\n",
    "skewed_features = skewness.index\n",
    "lam = 0.15\n",
    "for feat in skewed_features:\n",
    "    all_data[feat] = boxcox1p(all_data[feat], lam)"
   ]
  },
  {
   "cell_type": "code",
   "execution_count": 265,
   "id": "comparative-foundation",
   "metadata": {},
   "outputs": [],
   "source": [
    "all_data = pd.get_dummies(all_data)"
   ]
  },
  {
   "cell_type": "code",
   "execution_count": 231,
   "id": "informative-position",
   "metadata": {},
   "outputs": [],
   "source": [
    "y_train = np.log1p(y_train)"
   ]
  },
  {
   "cell_type": "code",
   "execution_count": 266,
   "id": "hidden-driving",
   "metadata": {},
   "outputs": [],
   "source": [
    "X_train, X_test = all_data.iloc[:train_size, :], all_data.iloc[train_size:, :]"
   ]
  },
  {
   "cell_type": "code",
   "execution_count": 267,
   "id": "turkish-truth",
   "metadata": {},
   "outputs": [
    {
     "data": {
      "text/plain": [
       "((1458, 231), (1459, 231), (1458,))"
      ]
     },
     "execution_count": 267,
     "metadata": {},
     "output_type": "execute_result"
    }
   ],
   "source": [
    "X_train.shape, X_test.shape, y_train.shape"
   ]
  },
  {
   "cell_type": "code",
   "execution_count": 234,
   "id": "crude-sussex",
   "metadata": {},
   "outputs": [],
   "source": [
    "def rmsle_cv(model):\n",
    "    return np.sqrt(-cross_val_score(model, X_train.values, y_train, scoring='neg_mean_squared_error',\n",
    "                   cv=5, verbose=0, n_jobs=-1))"
   ]
  },
  {
   "cell_type": "code",
   "execution_count": 271,
   "id": "reported-channels",
   "metadata": {},
   "outputs": [],
   "source": [
    "model_lasso = Pipeline([\n",
    "    ('scaler', RobustScaler()),\n",
    "    ('model', Lasso())\n",
    "])\n",
    "model_elasticNet = Pipeline([\n",
    "    ('scaler', RobustScaler()),\n",
    "    ('model', ElasticNet(max_iter=5000))\n",
    "])\n",
    "model_krr = Pipeline([\n",
    "    ('scaler', RobustScaler()),\n",
    "    ('model', krr())\n",
    "])\n",
    "\n",
    "model_svr = Pipeline([\n",
    "    ('scaler', RobustScaler()),\n",
    "    ('model', SVR())\n",
    "])\n",
    "\n",
    "grid_param_lasso = {\n",
    "    'model__alpha': 0.0001 * np.arange(1, 100)\n",
    "}\n",
    "grid_param_elasticNet = {\n",
    "    'model__alpha': 0.0001 * np.arange(1, 100),\n",
    "    'model__l1_ratio': 0.001 * np.arange(1, 10)\n",
    "}\n",
    "grid_param_krr = {\n",
    "    'model__alpha': [0.099, 0.6],\n",
    "    'model__degree': [1, 2, 3],\n",
    "    'model__kernel': ['polynomial'],\n",
    "    'model__coef0': [2.5]\n",
    "}\n",
    "grid_param_svr = {\n",
    "    'model__C': [0.001, 0.1, 1, 10, 20],\n",
    "    'model__gamma': [.0001, .0002, .0003, .0004, .0005, .0006, .0007, .0008, .0009, .001],\n",
    "    'model__epsilon': [.01, .02, .03, .04, .05, .06, .07, .08, .09, .1]\n",
    "}"
   ]
  },
  {
   "cell_type": "code",
   "execution_count": 236,
   "id": "eastern-implementation",
   "metadata": {},
   "outputs": [
    {
     "data": {
      "text/plain": [
       "{'model__alpha': 0.0005}"
      ]
     },
     "execution_count": 236,
     "metadata": {},
     "output_type": "execute_result"
    }
   ],
   "source": [
    "search_lasso = GridSearchCV(model_lasso, grid_param_lasso, scoring='neg_mean_squared_error',\n",
    "                           cv=5, n_jobs=-1, verbose=0).fit(X_train, y_train)\n",
    "search_lasso.best_params_"
   ]
  },
  {
   "cell_type": "code",
   "execution_count": 269,
   "id": "animal-doctrine",
   "metadata": {},
   "outputs": [
    {
     "data": {
      "text/plain": [
       "{'model__alpha': 0.0089, 'model__l1_ratio': 0.009000000000000001}"
      ]
     },
     "execution_count": 269,
     "metadata": {},
     "output_type": "execute_result"
    }
   ],
   "source": [
    "search_elasticNet = GridSearchCV(model_elasticNet, grid_param_elasticNet, scoring='neg_mean_squared_error',\n",
    "                           cv=5, n_jobs=-1, verbose=0).fit(X_train, y_train)\n",
    "search_elasticNet.best_params_"
   ]
  },
  {
   "cell_type": "code",
   "execution_count": 273,
   "id": "beautiful-soldier",
   "metadata": {},
   "outputs": [
    {
     "data": {
      "text/plain": [
       "{'model__alpha': 0.099,\n",
       " 'model__coef0': 2.5,\n",
       " 'model__degree': 1,\n",
       " 'model__kernel': 'polynomial'}"
      ]
     },
     "execution_count": 273,
     "metadata": {},
     "output_type": "execute_result"
    }
   ],
   "source": [
    "search_krr = GridSearchCV(model_krr, grid_param_krr, scoring='neg_mean_squared_error',\n",
    "                           cv=5, n_jobs=-1, verbose=0).fit(X_train, y_train)\n",
    "search_krr.best_params_"
   ]
  },
  {
   "cell_type": "code",
   "execution_count": 22,
   "id": "chinese-albania",
   "metadata": {},
   "outputs": [],
   "source": [
    "# search_svr = GridSearchCV(model_svr, grid_param_svr, scoring='neg_mean_squared_error',\n",
    "#                            cv=5, n_jobs=-1, verbose=0).fit(X_train, y_train)\n",
    "# search_svr.best_params_"
   ]
  },
  {
   "cell_type": "code",
   "execution_count": 65,
   "id": "temporal-mongolia",
   "metadata": {},
   "outputs": [],
   "source": [
    "def objective_xgbr(trial, X, y):\n",
    "    param = {\n",
    "        'n_estimators': 2000,\n",
    "        'max_depth': trial.suggest_int('max_depth', 3, 11),\n",
    "        'learning_rate': trial.suggest_uniform('learning_rate', 0.005, 0.01),\n",
    "        'reg_alpha': trial.suggest_loguniform('reg_alpha', 1e-3, 100),\n",
    "        'reg_lambda': trial.suggest_loguniform('reg_lambda', 1e-3, 100),\n",
    "        'subsample': trial.suggest_categorical('subsample', list(np.arange(0.4, 1.1, 0.1))),\n",
    "        'colsample_bylevel': trial.suggest_categorical('colsample_bylevel', list(np.arange(0.4, 1.1, 0.1))),\n",
    "        'n_jobs': -1\n",
    "    }\n",
    "    model = XGBRegressor(**param)\n",
    "    kf = KFold(n_splits=5, shuffle=True, random_state=42)\n",
    "    train_scores, test_scores = [], []\n",
    "    for train_idx, test_idx in kf.split(X_train):\n",
    "        X_tmp_train, X_tmp_test = X_train.iloc[train_idx, :], X_train.iloc[test_idx, :]\n",
    "        y_tmp_train, y_tmp_test = y_train[train_idx], y_train[test_idx]\n",
    "        model.fit(X_tmp_train, y_tmp_train,\n",
    "                 eval_metric=['rmse'], eval_set=[(X_tmp_test, y_tmp_test)],\n",
    "                 early_stopping_rounds=30, verbose=0,\n",
    "                 callbacks=[optuna.integration.XGBoostPruningCallback(trial, observation_key='validation_0-rmse')])\n",
    "        train_score = np.sqrt(mse(y_tmp_train, model.predict(X_tmp_train)))\n",
    "        test_score = np.sqrt(mse(y_tmp_test, model.predict(X_tmp_test)))\n",
    "        train_scores.append(train_score)\n",
    "        test_scores.append(test_score)\n",
    "    train_score = np.array(train_scores).mean()\n",
    "    test_score = np.array(test_scores).mean()\n",
    "    print(f'train score: {train_score}')\n",
    "    print(f'test score: {test_score}')\n",
    "    return test_score"
   ]
  },
  {
   "cell_type": "code",
   "execution_count": 66,
   "id": "solved-blackberry",
   "metadata": {},
   "outputs": [
    {
     "name": "stderr",
     "output_type": "stream",
     "text": [
      "\u001b[32m[I 2021-10-23 12:55:03,377]\u001b[0m A new study created in memory with name: no-name-81d582f2-4e61-44a4-a0e8-b39b2fb73c17\u001b[0m\n",
      "\u001b[32m[I 2021-10-23 12:56:08,923]\u001b[0m Trial 0 finished with value: 0.13803421666146676 and parameters: {'max_depth': 10, 'learning_rate': 0.00955985055896822, 'subsample': 1.0, 'colsample_bylevel': 0.9, 'reg_alpha': 0.008905301379345233, 'reg_lambda': 79.12436856939524}. Best is trial 0 with value: 0.13803421666146676.\u001b[0m\n"
     ]
    },
    {
     "name": "stdout",
     "output_type": "stream",
     "text": [
      "train score: 0.04338052970682678\n",
      "test score: 0.13803421666146676\n"
     ]
    },
    {
     "name": "stderr",
     "output_type": "stream",
     "text": [
      "\u001b[32m[I 2021-10-23 12:56:39,018]\u001b[0m Trial 1 finished with value: 0.1420461088893113 and parameters: {'max_depth': 5, 'learning_rate': 0.005354345711295748, 'subsample': 0.5, 'colsample_bylevel': 0.6, 'reg_alpha': 5.5691097262869, 'reg_lambda': 0.008930129011477737}. Best is trial 0 with value: 0.13803421666146676.\u001b[0m\n"
     ]
    },
    {
     "name": "stdout",
     "output_type": "stream",
     "text": [
      "train score: 0.11362014884539902\n",
      "test score: 0.1420461088893113\n"
     ]
    },
    {
     "name": "stderr",
     "output_type": "stream",
     "text": [
      "\u001b[32m[I 2021-10-23 12:57:18,208]\u001b[0m Trial 2 finished with value: 0.12704724010907878 and parameters: {'max_depth': 7, 'learning_rate': 0.005052323955634718, 'subsample': 1.0, 'colsample_bylevel': 0.7, 'reg_alpha': 1.1805595018641346, 'reg_lambda': 0.00442156729278353}. Best is trial 2 with value: 0.12704724010907878.\u001b[0m\n"
     ]
    },
    {
     "name": "stdout",
     "output_type": "stream",
     "text": [
      "train score: 0.06593972708805362\n",
      "test score: 0.12704724010907878\n"
     ]
    },
    {
     "name": "stderr",
     "output_type": "stream",
     "text": [
      "\u001b[32m[I 2021-10-23 12:57:56,928]\u001b[0m Trial 3 finished with value: 0.12399574742319645 and parameters: {'max_depth': 6, 'learning_rate': 0.00850691312237557, 'subsample': 1.0, 'colsample_bylevel': 1.0, 'reg_alpha': 0.6043872358145256, 'reg_lambda': 3.2833098127885654}. Best is trial 3 with value: 0.12399574742319645.\u001b[0m\n"
     ]
    },
    {
     "name": "stdout",
     "output_type": "stream",
     "text": [
      "train score: 0.047155791908205624\n",
      "test score: 0.12399574742319645\n"
     ]
    },
    {
     "name": "stderr",
     "output_type": "stream",
     "text": [
      "\u001b[32m[I 2021-10-23 12:58:32,406]\u001b[0m Trial 4 finished with value: 0.11861348284067239 and parameters: {'max_depth': 9, 'learning_rate': 0.009815924323494565, 'subsample': 0.7, 'colsample_bylevel': 0.4, 'reg_alpha': 0.009267682438574731, 'reg_lambda': 4.600204686272811}. Best is trial 4 with value: 0.11861348284067239.\u001b[0m\n"
     ]
    },
    {
     "name": "stdout",
     "output_type": "stream",
     "text": [
      "train score: 0.02005353298112104\n",
      "test score: 0.11861348284067239\n"
     ]
    },
    {
     "name": "stderr",
     "output_type": "stream",
     "text": [
      "\u001b[32m[I 2021-10-23 12:58:33,687]\u001b[0m Trial 5 pruned. Trial was pruned at iteration 401.\u001b[0m\n",
      "\u001b[32m[I 2021-10-23 12:58:33,712]\u001b[0m Trial 6 pruned. Trial was pruned at iteration 0.\u001b[0m\n",
      "\u001b[32m[I 2021-10-23 12:58:34,208]\u001b[0m Trial 7 pruned. Trial was pruned at iteration 244.\u001b[0m\n",
      "\u001b[32m[I 2021-10-23 12:58:34,233]\u001b[0m Trial 8 pruned. Trial was pruned at iteration 0.\u001b[0m\n",
      "\u001b[32m[I 2021-10-23 12:58:34,257]\u001b[0m Trial 9 pruned. Trial was pruned at iteration 0.\u001b[0m\n",
      "\u001b[32m[I 2021-10-23 12:58:34,293]\u001b[0m Trial 10 pruned. Trial was pruned at iteration 0.\u001b[0m\n",
      "\u001b[32m[I 2021-10-23 12:59:25,665]\u001b[0m Trial 11 finished with value: 0.120178710220287 and parameters: {'max_depth': 8, 'learning_rate': 0.00864632300514989, 'subsample': 0.7, 'colsample_bylevel': 1.0, 'reg_alpha': 0.10299844816037101, 'reg_lambda': 2.4324705598187126}. Best is trial 4 with value: 0.11861348284067239.\u001b[0m\n"
     ]
    },
    {
     "name": "stdout",
     "output_type": "stream",
     "text": [
      "train score: 0.027001199915064538\n",
      "test score: 0.120178710220287\n"
     ]
    },
    {
     "name": "stderr",
     "output_type": "stream",
     "text": [
      "\u001b[32m[I 2021-10-23 13:00:18,072]\u001b[0m Trial 12 finished with value: 0.12076332042643692 and parameters: {'max_depth': 9, 'learning_rate': 0.00932784848655223, 'subsample': 0.7, 'colsample_bylevel': 1.0, 'reg_alpha': 0.06399492780688731, 'reg_lambda': 2.02359552553199}. Best is trial 4 with value: 0.11861348284067239.\u001b[0m\n",
      "\u001b[32m[I 2021-10-23 13:00:18,109]\u001b[0m Trial 13 pruned. Trial was pruned at iteration 0.\u001b[0m\n"
     ]
    },
    {
     "name": "stdout",
     "output_type": "stream",
     "text": [
      "train score: 0.01919198868786914\n",
      "test score: 0.12076332042643692\n"
     ]
    },
    {
     "name": "stderr",
     "output_type": "stream",
     "text": [
      "\u001b[32m[I 2021-10-23 13:01:06,101]\u001b[0m Trial 14 finished with value: 0.11846238021485767 and parameters: {'max_depth': 11, 'learning_rate': 0.009175581112633203, 'subsample': 0.7, 'colsample_bylevel': 0.9, 'reg_alpha': 0.029011232600079363, 'reg_lambda': 0.2989799146589174}. Best is trial 14 with value: 0.11846238021485767.\u001b[0m\n"
     ]
    },
    {
     "name": "stdout",
     "output_type": "stream",
     "text": [
      "train score: 0.012732228301952966\n",
      "test score: 0.11846238021485767\n"
     ]
    },
    {
     "name": "stderr",
     "output_type": "stream",
     "text": [
      "\u001b[32m[I 2021-10-23 13:01:44,447]\u001b[0m Trial 15 finished with value: 0.11616624737159391 and parameters: {'max_depth': 11, 'learning_rate': 0.009953903157836036, 'subsample': 0.5, 'colsample_bylevel': 0.9, 'reg_alpha': 0.0077930853733423015, 'reg_lambda': 0.28607076422543243}. Best is trial 15 with value: 0.11616624737159391.\u001b[0m\n"
     ]
    },
    {
     "name": "stdout",
     "output_type": "stream",
     "text": [
      "train score: 0.02069706128990351\n",
      "test score: 0.11616624737159391\n"
     ]
    },
    {
     "name": "stderr",
     "output_type": "stream",
     "text": [
      "\u001b[32m[I 2021-10-23 13:02:26,752]\u001b[0m Trial 16 finished with value: 0.11566270145070348 and parameters: {'max_depth': 11, 'learning_rate': 0.00926365717222274, 'subsample': 0.5, 'colsample_bylevel': 0.9, 'reg_alpha': 0.0046202001099162485, 'reg_lambda': 0.12586533182920503}. Best is trial 16 with value: 0.11566270145070348.\u001b[0m\n",
      "\u001b[32m[I 2021-10-23 13:02:26,792]\u001b[0m Trial 17 pruned. Trial was pruned at iteration 0.\u001b[0m\n"
     ]
    },
    {
     "name": "stdout",
     "output_type": "stream",
     "text": [
      "train score: 0.018017713265059195\n",
      "test score: 0.11566270145070348\n"
     ]
    },
    {
     "name": "stderr",
     "output_type": "stream",
     "text": [
      "\u001b[32m[I 2021-10-23 13:03:10,865]\u001b[0m Trial 18 finished with value: 0.11583732683950947 and parameters: {'max_depth': 11, 'learning_rate': 0.009211124210874944, 'subsample': 0.5, 'colsample_bylevel': 0.9, 'reg_alpha': 0.005662385004601676, 'reg_lambda': 0.12593410613221206}. Best is trial 16 with value: 0.11566270145070348.\u001b[0m\n",
      "\u001b[32m[I 2021-10-23 13:03:10,905]\u001b[0m Trial 19 pruned. Trial was pruned at iteration 0.\u001b[0m\n",
      "\u001b[32m[I 2021-10-23 13:03:10,939]\u001b[0m Trial 20 pruned. Trial was pruned at iteration 0.\u001b[0m\n"
     ]
    },
    {
     "name": "stdout",
     "output_type": "stream",
     "text": [
      "train score: 0.017238633612781183\n",
      "test score: 0.11583732683950947\n"
     ]
    },
    {
     "name": "stderr",
     "output_type": "stream",
     "text": [
      "\u001b[32m[I 2021-10-23 13:03:55,485]\u001b[0m Trial 21 finished with value: 0.11676413618648432 and parameters: {'max_depth': 11, 'learning_rate': 0.009974587879836119, 'subsample': 0.5, 'colsample_bylevel': 0.9, 'reg_alpha': 0.013217605075951103, 'reg_lambda': 0.6337986175828852}. Best is trial 16 with value: 0.11566270145070348.\u001b[0m\n",
      "\u001b[32m[I 2021-10-23 13:03:55,523]\u001b[0m Trial 22 pruned. Trial was pruned at iteration 0.\u001b[0m\n"
     ]
    },
    {
     "name": "stdout",
     "output_type": "stream",
     "text": [
      "train score: 0.018338052043330087\n",
      "test score: 0.11676413618648432\n"
     ]
    },
    {
     "name": "stderr",
     "output_type": "stream",
     "text": [
      "\u001b[32m[I 2021-10-23 13:04:40,449]\u001b[0m Trial 23 finished with value: 0.11592544409055665 and parameters: {'max_depth': 10, 'learning_rate': 0.009448757356188223, 'subsample': 0.5, 'colsample_bylevel': 0.9, 'reg_alpha': 0.003073743997623817, 'reg_lambda': 0.2546705688282807}. Best is trial 16 with value: 0.11566270145070348.\u001b[0m\n",
      "\u001b[32m[I 2021-10-23 13:04:40,485]\u001b[0m Trial 24 pruned. Trial was pruned at iteration 0.\u001b[0m\n"
     ]
    },
    {
     "name": "stdout",
     "output_type": "stream",
     "text": [
      "train score: 0.01761194268476953\n",
      "test score: 0.11592544409055665\n"
     ]
    },
    {
     "name": "stderr",
     "output_type": "stream",
     "text": [
      "\u001b[32m[I 2021-10-23 13:05:11,525]\u001b[0m Trial 25 finished with value: 0.11763143628882464 and parameters: {'max_depth': 8, 'learning_rate': 0.009497475435250575, 'subsample': 0.8, 'colsample_bylevel': 0.7, 'reg_alpha': 0.02008060382035321, 'reg_lambda': 0.11499448301766028}. Best is trial 16 with value: 0.11566270145070348.\u001b[0m\n",
      "\u001b[32m[I 2021-10-23 13:05:11,560]\u001b[0m Trial 26 pruned. Trial was pruned at iteration 0.\u001b[0m\n",
      "\u001b[32m[I 2021-10-23 13:05:11,594]\u001b[0m Trial 27 pruned. Trial was pruned at iteration 0.\u001b[0m\n",
      "\u001b[32m[I 2021-10-23 13:05:11,629]\u001b[0m Trial 28 pruned. Trial was pruned at iteration 0.\u001b[0m\n"
     ]
    },
    {
     "name": "stdout",
     "output_type": "stream",
     "text": [
      "train score: 0.02011656436392839\n",
      "test score: 0.11763143628882464\n"
     ]
    },
    {
     "name": "stderr",
     "output_type": "stream",
     "text": [
      "\u001b[32m[I 2021-10-23 13:05:47,960]\u001b[0m Trial 29 finished with value: 0.11601489239941891 and parameters: {'max_depth': 10, 'learning_rate': 0.009608606254331837, 'subsample': 0.5, 'colsample_bylevel': 0.9, 'reg_alpha': 0.005778125135294363, 'reg_lambda': 0.06440800709775349}. Best is trial 16 with value: 0.11566270145070348.\u001b[0m\n"
     ]
    },
    {
     "name": "stdout",
     "output_type": "stream",
     "text": [
      "train score: 0.021406110386838456\n",
      "test score: 0.11601489239941891\n"
     ]
    },
    {
     "name": "stderr",
     "output_type": "stream",
     "text": [
      "\u001b[32m[I 2021-10-23 13:06:25,757]\u001b[0m Trial 30 finished with value: 0.11609164977862665 and parameters: {'max_depth': 9, 'learning_rate': 0.009492190561702835, 'subsample': 0.5, 'colsample_bylevel': 0.9, 'reg_alpha': 0.0025455266693623006, 'reg_lambda': 0.013699433814096277}. Best is trial 16 with value: 0.11566270145070348.\u001b[0m\n"
     ]
    },
    {
     "name": "stdout",
     "output_type": "stream",
     "text": [
      "train score: 0.01955807311247297\n",
      "test score: 0.11609164977862665\n"
     ]
    },
    {
     "name": "stderr",
     "output_type": "stream",
     "text": [
      "\u001b[32m[I 2021-10-23 13:07:04,718]\u001b[0m Trial 31 finished with value: 0.11583795527356693 and parameters: {'max_depth': 10, 'learning_rate': 0.009612454075327726, 'subsample': 0.5, 'colsample_bylevel': 0.9, 'reg_alpha': 0.006525881844068064, 'reg_lambda': 0.08968432681668093}. Best is trial 16 with value: 0.11566270145070348.\u001b[0m\n"
     ]
    },
    {
     "name": "stdout",
     "output_type": "stream",
     "text": [
      "train score: 0.022006304517148446\n",
      "test score: 0.11583795527356693\n"
     ]
    },
    {
     "name": "stderr",
     "output_type": "stream",
     "text": [
      "\u001b[32m[I 2021-10-23 13:07:35,896]\u001b[0m Trial 32 finished with value: 0.11486099803932044 and parameters: {'max_depth': 10, 'learning_rate': 0.0095482092318586, 'subsample': 0.5, 'colsample_bylevel': 0.6, 'reg_alpha': 0.01114656157470384, 'reg_lambda': 0.006014555451368543}. Best is trial 32 with value: 0.11486099803932044.\u001b[0m\n",
      "\u001b[32m[I 2021-10-23 13:07:35,933]\u001b[0m Trial 33 pruned. Trial was pruned at iteration 0.\u001b[0m\n",
      "\u001b[32m[I 2021-10-23 13:07:35,972]\u001b[0m Trial 34 pruned. Trial was pruned at iteration 0.\u001b[0m\n"
     ]
    },
    {
     "name": "stdout",
     "output_type": "stream",
     "text": [
      "train score: 0.019268822229596635\n",
      "test score: 0.11486099803932044\n"
     ]
    },
    {
     "name": "stderr",
     "output_type": "stream",
     "text": [
      "\u001b[32m[I 2021-10-23 13:07:37,410]\u001b[0m Trial 35 pruned. Trial was pruned at iteration 442.\u001b[0m\n",
      "\u001b[32m[I 2021-10-23 13:07:37,446]\u001b[0m Trial 36 pruned. Trial was pruned at iteration 0.\u001b[0m\n",
      "\u001b[32m[I 2021-10-23 13:07:37,482]\u001b[0m Trial 37 pruned. Trial was pruned at iteration 0.\u001b[0m\n",
      "\u001b[32m[I 2021-10-23 13:07:40,918]\u001b[0m Trial 38 pruned. Trial was pruned at iteration 565.\u001b[0m\n",
      "\u001b[32m[I 2021-10-23 13:07:40,960]\u001b[0m Trial 39 pruned. Trial was pruned at iteration 0.\u001b[0m\n",
      "\u001b[32m[I 2021-10-23 13:07:43,060]\u001b[0m Trial 40 pruned. Trial was pruned at iteration 563.\u001b[0m\n",
      "\u001b[32m[I 2021-10-23 13:07:46,750]\u001b[0m Trial 41 pruned. Trial was pruned at iteration 617.\u001b[0m\n",
      "\u001b[32m[I 2021-10-23 13:07:46,788]\u001b[0m Trial 42 pruned. Trial was pruned at iteration 0.\u001b[0m\n",
      "\u001b[32m[I 2021-10-23 13:08:25,577]\u001b[0m Trial 43 finished with value: 0.11627036256409484 and parameters: {'max_depth': 10, 'learning_rate': 0.009794043831424244, 'subsample': 0.5, 'colsample_bylevel': 0.9, 'reg_alpha': 0.004509855314291214, 'reg_lambda': 0.3990486241310137}. Best is trial 32 with value: 0.11486099803932044.\u001b[0m\n",
      "\u001b[32m[I 2021-10-23 13:08:25,613]\u001b[0m Trial 44 pruned. Trial was pruned at iteration 0.\u001b[0m\n",
      "\u001b[32m[I 2021-10-23 13:08:25,650]\u001b[0m Trial 45 pruned. Trial was pruned at iteration 0.\u001b[0m\n",
      "\u001b[32m[I 2021-10-23 13:08:25,688]\u001b[0m Trial 46 pruned. Trial was pruned at iteration 0.\u001b[0m\n",
      "\u001b[32m[I 2021-10-23 13:08:25,724]\u001b[0m Trial 47 pruned. Trial was pruned at iteration 0.\u001b[0m\n"
     ]
    },
    {
     "name": "stdout",
     "output_type": "stream",
     "text": [
      "train score: 0.022815702637458805\n",
      "test score: 0.11627036256409484\n"
     ]
    },
    {
     "name": "stderr",
     "output_type": "stream",
     "text": [
      "\u001b[32m[I 2021-10-23 13:08:28,398]\u001b[0m Trial 48 pruned. Trial was pruned at iteration 606.\u001b[0m\n",
      "\u001b[32m[I 2021-10-23 13:08:28,434]\u001b[0m Trial 49 pruned. Trial was pruned at iteration 0.\u001b[0m\n",
      "\u001b[32m[I 2021-10-23 13:08:28,473]\u001b[0m Trial 50 pruned. Trial was pruned at iteration 0.\u001b[0m\n",
      "\u001b[32m[I 2021-10-23 13:09:04,416]\u001b[0m Trial 51 finished with value: 0.11586458644381467 and parameters: {'max_depth': 10, 'learning_rate': 0.009716481407362526, 'subsample': 0.5, 'colsample_bylevel': 0.9, 'reg_alpha': 0.006542204188021846, 'reg_lambda': 0.07648564137344181}. Best is trial 32 with value: 0.11486099803932044.\u001b[0m\n"
     ]
    },
    {
     "name": "stdout",
     "output_type": "stream",
     "text": [
      "train score: 0.022341281171459063\n",
      "test score: 0.11586458644381467\n"
     ]
    },
    {
     "name": "stderr",
     "output_type": "stream",
     "text": [
      "\u001b[32m[I 2021-10-23 13:09:14,761]\u001b[0m Trial 52 pruned. Trial was pruned at iteration 849.\u001b[0m\n",
      "\u001b[32m[I 2021-10-23 13:09:51,642]\u001b[0m Trial 53 finished with value: 0.11559133814236615 and parameters: {'max_depth': 10, 'learning_rate': 0.009605337237880585, 'subsample': 0.5, 'colsample_bylevel': 0.9, 'reg_alpha': 0.0054634651398526675, 'reg_lambda': 0.1781410313644347}. Best is trial 32 with value: 0.11486099803932044.\u001b[0m\n",
      "\u001b[32m[I 2021-10-23 13:09:51,680]\u001b[0m Trial 54 pruned. Trial was pruned at iteration 0.\u001b[0m\n",
      "\u001b[32m[I 2021-10-23 13:09:51,721]\u001b[0m Trial 55 pruned. Trial was pruned at iteration 0.\u001b[0m\n"
     ]
    },
    {
     "name": "stdout",
     "output_type": "stream",
     "text": [
      "train score: 0.022843404182477198\n",
      "test score: 0.11559133814236615\n"
     ]
    },
    {
     "name": "stderr",
     "output_type": "stream",
     "text": [
      "\u001b[32m[I 2021-10-23 13:09:55,412]\u001b[0m Trial 56 pruned. Trial was pruned at iteration 576.\u001b[0m\n",
      "\u001b[32m[I 2021-10-23 13:09:57,007]\u001b[0m Trial 57 pruned. Trial was pruned at iteration 501.\u001b[0m\n",
      "\u001b[32m[I 2021-10-23 13:09:57,044]\u001b[0m Trial 58 pruned. Trial was pruned at iteration 0.\u001b[0m\n",
      "\u001b[32m[I 2021-10-23 13:09:57,080]\u001b[0m Trial 59 pruned. Trial was pruned at iteration 0.\u001b[0m\n",
      "\u001b[32m[I 2021-10-23 13:09:58,308]\u001b[0m Trial 60 pruned. Trial was pruned at iteration 316.\u001b[0m\n",
      "\u001b[32m[I 2021-10-23 13:09:58,345]\u001b[0m Trial 61 pruned. Trial was pruned at iteration 0.\u001b[0m\n",
      "\u001b[32m[I 2021-10-23 13:10:03,364]\u001b[0m Trial 62 pruned. Trial was pruned at iteration 790.\u001b[0m\n",
      "\u001b[32m[I 2021-10-23 13:10:03,404]\u001b[0m Trial 63 pruned. Trial was pruned at iteration 0.\u001b[0m\n",
      "\u001b[32m[I 2021-10-23 13:10:03,442]\u001b[0m Trial 64 pruned. Trial was pruned at iteration 0.\u001b[0m\n",
      "\u001b[32m[I 2021-10-23 13:10:33,194]\u001b[0m Trial 65 finished with value: 0.11465485263591675 and parameters: {'max_depth': 11, 'learning_rate': 0.009996194464200983, 'subsample': 0.5, 'colsample_bylevel': 0.6, 'reg_alpha': 0.01392286909430137, 'reg_lambda': 0.055580067638826364}. Best is trial 65 with value: 0.11465485263591675.\u001b[0m\n"
     ]
    },
    {
     "name": "stdout",
     "output_type": "stream",
     "text": [
      "train score: 0.02049986729918013\n",
      "test score: 0.11465485263591675\n"
     ]
    },
    {
     "name": "stderr",
     "output_type": "stream",
     "text": [
      "\u001b[32m[I 2021-10-23 13:11:05,043]\u001b[0m Trial 66 finished with value: 0.11408322831476077 and parameters: {'max_depth': 11, 'learning_rate': 0.00996702130903663, 'subsample': 0.5, 'colsample_bylevel': 0.6, 'reg_alpha': 0.023958271624403407, 'reg_lambda': 0.028567741855150673}. Best is trial 66 with value: 0.11408322831476077.\u001b[0m\n"
     ]
    },
    {
     "name": "stdout",
     "output_type": "stream",
     "text": [
      "train score: 0.02021222565857873\n",
      "test score: 0.11408322831476077\n"
     ]
    },
    {
     "name": "stderr",
     "output_type": "stream",
     "text": [
      "\u001b[32m[I 2021-10-23 13:11:37,348]\u001b[0m Trial 67 finished with value: 0.11420035916308809 and parameters: {'max_depth': 11, 'learning_rate': 0.009967623643377955, 'subsample': 0.5, 'colsample_bylevel': 0.6, 'reg_alpha': 0.024959225607427808, 'reg_lambda': 0.025815405990824852}. Best is trial 66 with value: 0.11408322831476077.\u001b[0m\n"
     ]
    },
    {
     "name": "stdout",
     "output_type": "stream",
     "text": [
      "train score: 0.019705780512696596\n",
      "test score: 0.11420035916308809\n"
     ]
    },
    {
     "name": "stderr",
     "output_type": "stream",
     "text": [
      "\u001b[32m[I 2021-10-23 13:12:08,162]\u001b[0m Trial 68 finished with value: 0.11450529209667044 and parameters: {'max_depth': 11, 'learning_rate': 0.009967320428965063, 'subsample': 0.5, 'colsample_bylevel': 0.6, 'reg_alpha': 0.025869863491263786, 'reg_lambda': 0.02438255333928065}. Best is trial 66 with value: 0.11408322831476077.\u001b[0m\n"
     ]
    },
    {
     "name": "stdout",
     "output_type": "stream",
     "text": [
      "train score: 0.02155576000016006\n",
      "test score: 0.11450529209667044\n"
     ]
    },
    {
     "name": "stderr",
     "output_type": "stream",
     "text": [
      "\u001b[32m[I 2021-10-23 13:12:16,443]\u001b[0m Trial 69 pruned. Trial was pruned at iteration 810.\u001b[0m\n",
      "\u001b[32m[I 2021-10-23 13:12:20,086]\u001b[0m Trial 70 pruned. Trial was pruned at iteration 678.\u001b[0m\n",
      "\u001b[32m[I 2021-10-23 13:12:52,513]\u001b[0m Trial 71 finished with value: 0.11415175838592491 and parameters: {'max_depth': 11, 'learning_rate': 0.009879934720583093, 'subsample': 0.5, 'colsample_bylevel': 0.6, 'reg_alpha': 0.01628694534663974, 'reg_lambda': 0.018978829378970115}. Best is trial 66 with value: 0.11408322831476077.\u001b[0m\n"
     ]
    },
    {
     "name": "stdout",
     "output_type": "stream",
     "text": [
      "train score: 0.01941071173017373\n",
      "test score: 0.11415175838592491\n"
     ]
    },
    {
     "name": "stderr",
     "output_type": "stream",
     "text": [
      "\u001b[32m[I 2021-10-23 13:13:24,971]\u001b[0m Trial 72 finished with value: 0.11437451384790479 and parameters: {'max_depth': 11, 'learning_rate': 0.009997644263235817, 'subsample': 0.5, 'colsample_bylevel': 0.6, 'reg_alpha': 0.017583699982113666, 'reg_lambda': 0.022737675401273295}. Best is trial 66 with value: 0.11408322831476077.\u001b[0m\n"
     ]
    },
    {
     "name": "stdout",
     "output_type": "stream",
     "text": [
      "train score: 0.01905618917774498\n",
      "test score: 0.11437451384790479\n"
     ]
    },
    {
     "name": "stderr",
     "output_type": "stream",
     "text": [
      "\u001b[32m[I 2021-10-23 13:13:29,635]\u001b[0m Trial 73 pruned. Trial was pruned at iteration 810.\u001b[0m\n",
      "\u001b[32m[I 2021-10-23 13:13:59,591]\u001b[0m Trial 74 finished with value: 0.11435486442945056 and parameters: {'max_depth': 11, 'learning_rate': 0.00997214670909868, 'subsample': 0.5, 'colsample_bylevel': 0.6, 'reg_alpha': 0.0375475167141632, 'reg_lambda': 0.020095615750628407}. Best is trial 66 with value: 0.11408322831476077.\u001b[0m\n"
     ]
    },
    {
     "name": "stdout",
     "output_type": "stream",
     "text": [
      "train score: 0.024669710347406396\n",
      "test score: 0.11435486442945056\n"
     ]
    },
    {
     "name": "stderr",
     "output_type": "stream",
     "text": [
      "\u001b[32m[I 2021-10-23 13:14:08,553]\u001b[0m Trial 75 pruned. Trial was pruned at iteration 810.\u001b[0m\n",
      "\u001b[32m[I 2021-10-23 13:14:08,591]\u001b[0m Trial 76 pruned. Trial was pruned at iteration 0.\u001b[0m\n",
      "\u001b[32m[I 2021-10-23 13:14:37,817]\u001b[0m Trial 77 finished with value: 0.11435769930222162 and parameters: {'max_depth': 11, 'learning_rate': 0.00986297689368371, 'subsample': 0.4, 'colsample_bylevel': 0.6, 'reg_alpha': 0.032307709611681605, 'reg_lambda': 0.013008356213110226}. Best is trial 66 with value: 0.11408322831476077.\u001b[0m\n",
      "\u001b[32m[I 2021-10-23 13:14:37,857]\u001b[0m Trial 78 pruned. Trial was pruned at iteration 0.\u001b[0m\n"
     ]
    },
    {
     "name": "stdout",
     "output_type": "stream",
     "text": [
      "train score: 0.026850474245924398\n",
      "test score: 0.11435769930222162\n"
     ]
    },
    {
     "name": "stderr",
     "output_type": "stream",
     "text": [
      "\u001b[32m[I 2021-10-23 13:15:07,209]\u001b[0m Trial 79 finished with value: 0.11408651374567329 and parameters: {'max_depth': 11, 'learning_rate': 0.009995822636002467, 'subsample': 0.4, 'colsample_bylevel': 0.6, 'reg_alpha': 0.02881482762893963, 'reg_lambda': 0.02341850822366798}. Best is trial 66 with value: 0.11408322831476077.\u001b[0m\n",
      "\u001b[32m[I 2021-10-23 13:15:07,250]\u001b[0m Trial 80 pruned. Trial was pruned at iteration 0.\u001b[0m\n"
     ]
    },
    {
     "name": "stdout",
     "output_type": "stream",
     "text": [
      "train score: 0.025957591200249104\n",
      "test score: 0.11408651374567329\n"
     ]
    },
    {
     "name": "stderr",
     "output_type": "stream",
     "text": [
      "\u001b[32m[I 2021-10-23 13:15:11,446]\u001b[0m Trial 81 pruned. Trial was pruned at iteration 797.\u001b[0m\n",
      "\u001b[32m[I 2021-10-23 13:15:14,790]\u001b[0m Trial 82 pruned. Trial was pruned at iteration 671.\u001b[0m\n",
      "\u001b[32m[I 2021-10-23 13:15:18,792]\u001b[0m Trial 83 pruned. Trial was pruned at iteration 797.\u001b[0m\n",
      "\u001b[32m[I 2021-10-23 13:15:22,794]\u001b[0m Trial 84 pruned. Trial was pruned at iteration 797.\u001b[0m\n",
      "\u001b[32m[I 2021-10-23 13:15:25,327]\u001b[0m Trial 85 pruned. Trial was pruned at iteration 523.\u001b[0m\n",
      "\u001b[32m[I 2021-10-23 13:15:25,368]\u001b[0m Trial 86 pruned. Trial was pruned at iteration 0.\u001b[0m\n",
      "\u001b[32m[I 2021-10-23 13:15:29,497]\u001b[0m Trial 87 pruned. Trial was pruned at iteration 730.\u001b[0m\n",
      "\u001b[32m[I 2021-10-23 13:15:29,537]\u001b[0m Trial 88 pruned. Trial was pruned at iteration 0.\u001b[0m\n",
      "\u001b[32m[I 2021-10-23 13:15:33,756]\u001b[0m Trial 89 pruned. Trial was pruned at iteration 797.\u001b[0m\n",
      "\u001b[32m[I 2021-10-23 13:15:37,948]\u001b[0m Trial 90 pruned. Trial was pruned at iteration 730.\u001b[0m\n",
      "\u001b[32m[I 2021-10-23 13:15:37,993]\u001b[0m Trial 91 pruned. Trial was pruned at iteration 0.\u001b[0m\n",
      "\u001b[32m[I 2021-10-23 13:15:41,047]\u001b[0m Trial 92 pruned. Trial was pruned at iteration 576.\u001b[0m\n",
      "\u001b[32m[I 2021-10-23 13:16:11,239]\u001b[0m Trial 93 finished with value: 0.11407255681523465 and parameters: {'max_depth': 11, 'learning_rate': 0.009997615556977911, 'subsample': 0.5, 'colsample_bylevel': 0.6, 'reg_alpha': 0.034393897207617534, 'reg_lambda': 0.019925604450093764}. Best is trial 93 with value: 0.11407255681523465.\u001b[0m\n"
     ]
    },
    {
     "name": "stdout",
     "output_type": "stream",
     "text": [
      "train score: 0.023101396183393054\n",
      "test score: 0.11407255681523465\n"
     ]
    },
    {
     "name": "stderr",
     "output_type": "stream",
     "text": [
      "\u001b[32m[I 2021-10-23 13:16:42,052]\u001b[0m Trial 94 finished with value: 0.11464162714010018 and parameters: {'max_depth': 11, 'learning_rate': 0.009988688919641664, 'subsample': 0.5, 'colsample_bylevel': 0.6, 'reg_alpha': 0.0476388298304726, 'reg_lambda': 0.020137778628964303}. Best is trial 93 with value: 0.11407255681523465.\u001b[0m\n"
     ]
    },
    {
     "name": "stdout",
     "output_type": "stream",
     "text": [
      "train score: 0.024364396670287482\n",
      "test score: 0.11464162714010018\n"
     ]
    },
    {
     "name": "stderr",
     "output_type": "stream",
     "text": [
      "\u001b[32m[I 2021-10-23 13:16:46,440]\u001b[0m Trial 95 pruned. Trial was pruned at iteration 790.\u001b[0m\n",
      "\u001b[32m[I 2021-10-23 13:16:46,487]\u001b[0m Trial 96 pruned. Trial was pruned at iteration 1.\u001b[0m\n",
      "\u001b[32m[I 2021-10-23 13:16:50,589]\u001b[0m Trial 97 pruned. Trial was pruned at iteration 790.\u001b[0m\n",
      "\u001b[32m[I 2021-10-23 13:16:50,635]\u001b[0m Trial 98 pruned. Trial was pruned at iteration 0.\u001b[0m\n",
      "\u001b[32m[I 2021-10-23 13:16:54,086]\u001b[0m Trial 99 pruned. Trial was pruned at iteration 688.\u001b[0m\n"
     ]
    }
   ],
   "source": [
    "optimizer = partial(objective_xgb, X=X_train, y=y_train)\n",
    "study = optuna.create_study(direction='minimize')\n",
    "study.optimize(optimizer, n_trials=100)"
   ]
  },
  {
   "cell_type": "code",
   "execution_count": 25,
   "id": "printable-liberia",
   "metadata": {},
   "outputs": [
    {
     "ename": "NameError",
     "evalue": "name 'a' is not defined",
     "output_type": "error",
     "traceback": [
      "\u001b[1;31m---------------------------------------------------------------------------\u001b[0m",
      "\u001b[1;31mNameError\u001b[0m                                 Traceback (most recent call last)",
      "\u001b[1;32m<ipython-input-25-bca0e2660b9f>\u001b[0m in \u001b[0;36m<module>\u001b[1;34m\u001b[0m\n\u001b[1;32m----> 1\u001b[1;33m \u001b[0mprint\u001b[0m\u001b[1;33m(\u001b[0m\u001b[0ma\u001b[0m\u001b[1;33m)\u001b[0m\u001b[1;33m\u001b[0m\u001b[0m\n\u001b[0m",
      "\u001b[1;31mNameError\u001b[0m: name 'a' is not defined"
     ]
    }
   ],
   "source": [
    "print(a)"
   ]
  },
  {
   "cell_type": "code",
   "execution_count": 67,
   "id": "numerous-hierarchy",
   "metadata": {},
   "outputs": [
    {
     "data": {
      "text/plain": [
       "{'max_depth': 11,\n",
       " 'learning_rate': 0.009997615556977911,\n",
       " 'subsample': 0.5,\n",
       " 'colsample_bylevel': 0.6,\n",
       " 'reg_alpha': 0.034393897207617534,\n",
       " 'reg_lambda': 0.019925604450093764}"
      ]
     },
     "execution_count": 67,
     "metadata": {},
     "output_type": "execute_result"
    }
   ],
   "source": [
    "study.best_params"
   ]
  },
  {
   "cell_type": "code",
   "execution_count": 103,
   "id": "thrown-broadcasting",
   "metadata": {},
   "outputs": [],
   "source": [
    "model_lasso = Pipeline([\n",
    "    ('scaler', RobustScaler()),\n",
    "    ('model', Lasso(alpha=0.0005))\n",
    "])\n",
    "model_elasticNet = Pipeline([\n",
    "    ('scaler', RobustScaler()),\n",
    "    ('model', ElasticNet(alpha=0.0091, l1_ratio=0.009000000000000001))\n",
    "])\n",
    "model_krr = Pipeline([\n",
    "    ('scaler', RobustScaler()),\n",
    "    ('model', krr(alpha=0.0099,\n",
    "                        kernel='polynomial',\n",
    "                        degree=1,\n",
    "                        coef0=2.5))\n",
    "])\n",
    "model_svr = Pipeline([\n",
    "    ('scaler', RobustScaler()),\n",
    "    ('model', SVR(C=20,gamma=0.0003, epsilon=0.02))\n",
    "])\n",
    "model_xgbr = XGBRegressor(colsample_bytree=0.4, learning_rate=0.00898718134841855, max_depth=8, \n",
    "                             n_estimators=2200, reg_alpha=0.036142628805195254, reg_lambda=0.03188665185506858,\n",
    "                             subsample=0.6, random_state =42)\n",
    "model_gbr = gbr(n_estimators=3000, learning_rate=0.05,\n",
    "                                   max_depth=4, max_features='sqrt',\n",
    "                                   min_samples_leaf=15, min_samples_split=10, \n",
    "                                   loss='huber', random_state=5)\n",
    "model_lgbm = LGBMRegressor(objective='regression',num_leaves=5,\n",
    "                              learning_rate=0.05, n_estimators=720,\n",
    "                              max_bin = 55, bagging_fraction = 0.8,\n",
    "                              bagging_freq = 5, feature_fraction = 0.2319,\n",
    "                              feature_fraction_seed=9, bagging_seed=9,\n",
    "                              min_data_in_leaf =6, min_sum_hessian_in_leaf = 11)\n",
    "stack_gen = StackingCVRegressor(regressors=(model_lgbm, model_lasso, model_elasticNet, model_krr, model_gbr),\n",
    "                               meta_regressor=model_xgbr,\n",
    "                               use_features_in_secondary=True)"
   ]
  },
  {
   "cell_type": "code",
   "execution_count": 104,
   "id": "english-favorite",
   "metadata": {},
   "outputs": [],
   "source": [
    "models = [\n",
    "    model_lasso, model_elasticNet, model_krr, model_svr, model_gbr, model_xgbr, model_lgbm\n",
    "]\n",
    "cross_score = {\n",
    "    'Lasso': 0,\n",
    "    'ElasticNet': 0,\n",
    "    'Kernel Ridge': 0,\n",
    "    'SVR': 0,\n",
    "    'GradientBoosting': 0,\n",
    "    'XGBoost': 0,\n",
    "    'LightGBM': 0,\n",
    "}\n",
    "\n",
    "for idx, model in enumerate(models):\n",
    "    cross_score[list(cross_score.keys())[idx]] = rmsle_cv(model).mean()"
   ]
  },
  {
   "cell_type": "code",
   "execution_count": 105,
   "id": "fantastic-cassette",
   "metadata": {},
   "outputs": [
    {
     "name": "stdout",
     "output_type": "stream",
     "text": [
      "[LightGBM] [Warning] feature_fraction is set=0.2319, colsample_bytree=1.0 will be ignored. Current value: feature_fraction=0.2319\n",
      "[LightGBM] [Warning] min_data_in_leaf is set=6, min_child_samples=20 will be ignored. Current value: min_data_in_leaf=6\n",
      "[LightGBM] [Warning] min_sum_hessian_in_leaf is set=11, min_child_weight=0.001 will be ignored. Current value: min_sum_hessian_in_leaf=11\n",
      "[LightGBM] [Warning] bagging_fraction is set=0.8, subsample=1.0 will be ignored. Current value: bagging_fraction=0.8\n",
      "[LightGBM] [Warning] bagging_freq is set=5, subsample_freq=0 will be ignored. Current value: bagging_freq=5\n"
     ]
    }
   ],
   "source": [
    "for model in models:\n",
    "    model = model.fit(X_train, y_train)"
   ]
  },
  {
   "cell_type": "code",
   "execution_count": 106,
   "id": "intense-abuse",
   "metadata": {},
   "outputs": [
    {
     "name": "stdout",
     "output_type": "stream",
     "text": [
      "[LightGBM] [Warning] feature_fraction is set=0.2319, colsample_bytree=1.0 will be ignored. Current value: feature_fraction=0.2319\n",
      "[LightGBM] [Warning] min_data_in_leaf is set=6, min_child_samples=20 will be ignored. Current value: min_data_in_leaf=6\n",
      "[LightGBM] [Warning] min_sum_hessian_in_leaf is set=11, min_child_weight=0.001 will be ignored. Current value: min_sum_hessian_in_leaf=11\n",
      "[LightGBM] [Warning] bagging_fraction is set=0.8, subsample=1.0 will be ignored. Current value: bagging_fraction=0.8\n",
      "[LightGBM] [Warning] bagging_freq is set=5, subsample_freq=0 will be ignored. Current value: bagging_freq=5\n",
      "[LightGBM] [Warning] feature_fraction is set=0.2319, colsample_bytree=1.0 will be ignored. Current value: feature_fraction=0.2319\n",
      "[LightGBM] [Warning] min_data_in_leaf is set=6, min_child_samples=20 will be ignored. Current value: min_data_in_leaf=6\n",
      "[LightGBM] [Warning] min_sum_hessian_in_leaf is set=11, min_child_weight=0.001 will be ignored. Current value: min_sum_hessian_in_leaf=11\n",
      "[LightGBM] [Warning] bagging_fraction is set=0.8, subsample=1.0 will be ignored. Current value: bagging_fraction=0.8\n",
      "[LightGBM] [Warning] bagging_freq is set=5, subsample_freq=0 will be ignored. Current value: bagging_freq=5\n",
      "[LightGBM] [Warning] feature_fraction is set=0.2319, colsample_bytree=1.0 will be ignored. Current value: feature_fraction=0.2319\n",
      "[LightGBM] [Warning] min_data_in_leaf is set=6, min_child_samples=20 will be ignored. Current value: min_data_in_leaf=6\n",
      "[LightGBM] [Warning] min_sum_hessian_in_leaf is set=11, min_child_weight=0.001 will be ignored. Current value: min_sum_hessian_in_leaf=11\n",
      "[LightGBM] [Warning] bagging_fraction is set=0.8, subsample=1.0 will be ignored. Current value: bagging_fraction=0.8\n",
      "[LightGBM] [Warning] bagging_freq is set=5, subsample_freq=0 will be ignored. Current value: bagging_freq=5\n",
      "[LightGBM] [Warning] feature_fraction is set=0.2319, colsample_bytree=1.0 will be ignored. Current value: feature_fraction=0.2319\n",
      "[LightGBM] [Warning] min_data_in_leaf is set=6, min_child_samples=20 will be ignored. Current value: min_data_in_leaf=6\n",
      "[LightGBM] [Warning] min_sum_hessian_in_leaf is set=11, min_child_weight=0.001 will be ignored. Current value: min_sum_hessian_in_leaf=11\n",
      "[LightGBM] [Warning] bagging_fraction is set=0.8, subsample=1.0 will be ignored. Current value: bagging_fraction=0.8\n",
      "[LightGBM] [Warning] bagging_freq is set=5, subsample_freq=0 will be ignored. Current value: bagging_freq=5\n",
      "[LightGBM] [Warning] feature_fraction is set=0.2319, colsample_bytree=1.0 will be ignored. Current value: feature_fraction=0.2319\n",
      "[LightGBM] [Warning] min_data_in_leaf is set=6, min_child_samples=20 will be ignored. Current value: min_data_in_leaf=6\n",
      "[LightGBM] [Warning] min_sum_hessian_in_leaf is set=11, min_child_weight=0.001 will be ignored. Current value: min_sum_hessian_in_leaf=11\n",
      "[LightGBM] [Warning] bagging_fraction is set=0.8, subsample=1.0 will be ignored. Current value: bagging_fraction=0.8\n",
      "[LightGBM] [Warning] bagging_freq is set=5, subsample_freq=0 will be ignored. Current value: bagging_freq=5\n"
     ]
    }
   ],
   "source": [
    "stack_gen = stack_gen.fit(X_train, y_train)"
   ]
  },
  {
   "cell_type": "code",
   "execution_count": 107,
   "id": "dried-slope",
   "metadata": {},
   "outputs": [
    {
     "data": {
      "text/plain": [
       "{'Lasso': 0.1115607527360313,\n",
       " 'ElasticNet': 0.1133347949034966,\n",
       " 'Kernel Ridge': 0.1158427963943615,\n",
       " 'SVR': 0.11274480912575471,\n",
       " 'GradientBoosting': 0.11638980595469176,\n",
       " 'XGBoost': 0.11368213481477489,\n",
       " 'LightGBM': 0.11457622325507826}"
      ]
     },
     "execution_count": 107,
     "metadata": {},
     "output_type": "execute_result"
    }
   ],
   "source": [
    "cross_score"
   ]
  },
  {
   "cell_type": "code",
   "execution_count": 108,
   "id": "fifth-replication",
   "metadata": {},
   "outputs": [],
   "source": [
    "def blend(X):\n",
    "    return ((0.10 * model_lasso.predict(X)) + \\\n",
    "            (0.10 * model_elasticNet.predict(X)) + \\\n",
    "            (0.10 * model_krr.predict(X)) + \\\n",
    "            (0.10 * model_svr.predict(X)) + \\\n",
    "            (0.10 * model_xgbr.predict(X)) + \\\n",
    "            (0.10 * model_lgbm.predict(X)) + \\\n",
    "            (0.40 * stack_gen.predict(np.array(X))))"
   ]
  },
  {
   "cell_type": "code",
   "execution_count": null,
   "id": "limited-robin",
   "metadata": {},
   "outputs": [],
   "source": []
  },
  {
   "cell_type": "code",
   "execution_count": 109,
   "id": "opponent-semester",
   "metadata": {},
   "outputs": [
    {
     "data": {
      "text/plain": [
       "0.046939510458975015"
      ]
     },
     "execution_count": 109,
     "metadata": {},
     "output_type": "execute_result"
    }
   ],
   "source": [
    "np.sqrt(mse(y_train, blend(X_train)))"
   ]
  },
  {
   "cell_type": "code",
   "execution_count": 110,
   "id": "first-federal",
   "metadata": {},
   "outputs": [],
   "source": [
    "sub = pd.DataFrame()\n",
    "sub['Id'] = test_id\n",
    "sub['SalePrice'] = score = np.expm1(blend(X_test))\n",
    "sub.to_csv('submission.csv',index=False)"
   ]
  },
  {
   "cell_type": "code",
   "execution_count": null,
   "id": "limiting-greek",
   "metadata": {},
   "outputs": [],
   "source": []
  },
  {
   "cell_type": "code",
   "execution_count": null,
   "id": "revolutionary-month",
   "metadata": {},
   "outputs": [],
   "source": []
  },
  {
   "cell_type": "code",
   "execution_count": null,
   "id": "blank-yahoo",
   "metadata": {},
   "outputs": [],
   "source": []
  },
  {
   "cell_type": "code",
   "execution_count": null,
   "id": "english-engineering",
   "metadata": {},
   "outputs": [],
   "source": []
  },
  {
   "cell_type": "code",
   "execution_count": null,
   "id": "spanish-mauritius",
   "metadata": {},
   "outputs": [],
   "source": []
  },
  {
   "cell_type": "code",
   "execution_count": null,
   "id": "liberal-english",
   "metadata": {},
   "outputs": [],
   "source": []
  },
  {
   "cell_type": "code",
   "execution_count": null,
   "id": "developing-expansion",
   "metadata": {},
   "outputs": [],
   "source": []
  },
  {
   "cell_type": "code",
   "execution_count": null,
   "id": "associate-bolivia",
   "metadata": {},
   "outputs": [],
   "source": []
  },
  {
   "cell_type": "code",
   "execution_count": null,
   "id": "floral-dining",
   "metadata": {},
   "outputs": [],
   "source": []
  },
  {
   "cell_type": "code",
   "execution_count": null,
   "id": "boxed-glory",
   "metadata": {},
   "outputs": [],
   "source": []
  },
  {
   "cell_type": "code",
   "execution_count": null,
   "id": "searching-baghdad",
   "metadata": {},
   "outputs": [],
   "source": []
  },
  {
   "cell_type": "code",
   "execution_count": null,
   "id": "fiscal-surrey",
   "metadata": {},
   "outputs": [],
   "source": []
  },
  {
   "cell_type": "code",
   "execution_count": null,
   "id": "august-retro",
   "metadata": {},
   "outputs": [],
   "source": []
  },
  {
   "cell_type": "code",
   "execution_count": null,
   "id": "greenhouse-houston",
   "metadata": {},
   "outputs": [],
   "source": []
  },
  {
   "cell_type": "code",
   "execution_count": null,
   "id": "tamil-birmingham",
   "metadata": {},
   "outputs": [],
   "source": []
  },
  {
   "cell_type": "code",
   "execution_count": null,
   "id": "usual-philadelphia",
   "metadata": {},
   "outputs": [],
   "source": []
  },
  {
   "cell_type": "code",
   "execution_count": null,
   "id": "fossil-classification",
   "metadata": {},
   "outputs": [],
   "source": []
  },
  {
   "cell_type": "code",
   "execution_count": null,
   "id": "worldwide-tuition",
   "metadata": {},
   "outputs": [],
   "source": []
  },
  {
   "cell_type": "code",
   "execution_count": null,
   "id": "chief-class",
   "metadata": {},
   "outputs": [],
   "source": []
  },
  {
   "cell_type": "code",
   "execution_count": null,
   "id": "registered-railway",
   "metadata": {},
   "outputs": [],
   "source": []
  },
  {
   "cell_type": "code",
   "execution_count": null,
   "id": "prepared-deviation",
   "metadata": {},
   "outputs": [],
   "source": []
  },
  {
   "cell_type": "code",
   "execution_count": null,
   "id": "positive-capacity",
   "metadata": {},
   "outputs": [],
   "source": []
  },
  {
   "cell_type": "code",
   "execution_count": null,
   "id": "perceived-harmony",
   "metadata": {},
   "outputs": [],
   "source": []
  },
  {
   "cell_type": "code",
   "execution_count": null,
   "id": "thrown-revolution",
   "metadata": {},
   "outputs": [],
   "source": []
  },
  {
   "cell_type": "code",
   "execution_count": null,
   "id": "adolescent-address",
   "metadata": {},
   "outputs": [],
   "source": []
  },
  {
   "cell_type": "code",
   "execution_count": null,
   "id": "directed-tracy",
   "metadata": {},
   "outputs": [],
   "source": []
  },
  {
   "cell_type": "code",
   "execution_count": null,
   "id": "available-california",
   "metadata": {},
   "outputs": [],
   "source": []
  },
  {
   "cell_type": "code",
   "execution_count": null,
   "id": "union-container",
   "metadata": {},
   "outputs": [],
   "source": []
  },
  {
   "cell_type": "code",
   "execution_count": null,
   "id": "personal-dynamics",
   "metadata": {},
   "outputs": [],
   "source": []
  },
  {
   "cell_type": "code",
   "execution_count": null,
   "id": "enabling-economy",
   "metadata": {},
   "outputs": [],
   "source": []
  },
  {
   "cell_type": "code",
   "execution_count": null,
   "id": "processed-award",
   "metadata": {},
   "outputs": [],
   "source": []
  },
  {
   "cell_type": "code",
   "execution_count": null,
   "id": "loving-employer",
   "metadata": {},
   "outputs": [],
   "source": []
  },
  {
   "cell_type": "code",
   "execution_count": null,
   "id": "hydraulic-composer",
   "metadata": {},
   "outputs": [],
   "source": []
  },
  {
   "cell_type": "code",
   "execution_count": null,
   "id": "serial-victor",
   "metadata": {},
   "outputs": [],
   "source": []
  },
  {
   "cell_type": "code",
   "execution_count": null,
   "id": "municipal-algorithm",
   "metadata": {},
   "outputs": [],
   "source": []
  },
  {
   "cell_type": "code",
   "execution_count": null,
   "id": "therapeutic-landing",
   "metadata": {},
   "outputs": [],
   "source": []
  },
  {
   "cell_type": "code",
   "execution_count": null,
   "id": "painted-winner",
   "metadata": {},
   "outputs": [],
   "source": []
  },
  {
   "cell_type": "code",
   "execution_count": null,
   "id": "polyphonic-international",
   "metadata": {},
   "outputs": [],
   "source": []
  },
  {
   "cell_type": "code",
   "execution_count": null,
   "id": "continued-juice",
   "metadata": {},
   "outputs": [],
   "source": []
  }
 ],
 "metadata": {
  "kernelspec": {
   "display_name": "Python 3",
   "language": "python",
   "name": "python3"
  },
  "language_info": {
   "codemirror_mode": {
    "name": "ipython",
    "version": 3
   },
   "file_extension": ".py",
   "mimetype": "text/x-python",
   "name": "python",
   "nbconvert_exporter": "python",
   "pygments_lexer": "ipython3",
   "version": "3.7.0"
  }
 },
 "nbformat": 4,
 "nbformat_minor": 5
}
